{
 "cells": [
  {
   "cell_type": "code",
   "execution_count": 1,
   "metadata": {},
   "outputs": [],
   "source": [
    "import json\n",
    "import os\n",
    "import tqdm\n",
    "\n",
    "from tqdm import tqdm"
   ]
  },
  {
   "cell_type": "code",
   "execution_count": 2,
   "metadata": {},
   "outputs": [
    {
     "data": {
      "text/plain": [
       "{'citation_sentence': 'In addition, we here report comparable changes in serum cholesterol and lipoprotein concentrations as found in previously published meta-analyses [1] [2] [3] , implying that the included studies in this meta-analyses are representative of all available studies in the literature that have been performed with plant sterols and plant stanols.',\n",
       " 'manuscript_id': '8281087',\n",
       " 'cited_id': '15228934'}"
      ]
     },
     "execution_count": 2,
     "metadata": {},
     "output_type": "execute_result"
    }
   ],
   "source": [
    "# load the result_comparison sentences with manuscript and cited paper ids\n",
    "result_comps = []\n",
    "with open(\"../misc/result_comps.jsonl\", \"r\") as f:\n",
    "    for line in f:\n",
    "        p = json.loads(line.strip(\"\\n\"))\n",
    "        for k in set(p.keys()): \n",
    "            if k.endswith(\"prob\"): del p[k]\n",
    "        del p[\"intent\"]\n",
    "        result_comps.append(p)\n",
    "        \n",
    "        if len(result_comps) == 100: break\n",
    "result_comps[0]"
   ]
  },
  {
   "cell_type": "code",
   "execution_count": 3,
   "metadata": {},
   "outputs": [],
   "source": [
    "# get all involved paper ids\n",
    "manuscript_ids = {p[\"manuscript_id\"]: [] for p in result_comps}\n",
    "cited_ids = {p[\"cited_id\"]: [] for p in result_comps}\n",
    "\n",
    "for i, p in enumerate(result_comps):\n",
    "    manuscript_ids[p[\"manuscript_id\"]].append(i)\n",
    "    cited_ids[p[\"cited_id\"]].append(i)"
   ]
  },
  {
   "cell_type": "code",
   "execution_count": 4,
   "metadata": {
    "scrolled": true
   },
   "outputs": [
    {
     "name": "stderr",
     "output_type": "stream",
     "text": [
      "982974it [01:25, 11504.84it/s]\n"
     ]
    }
   ],
   "source": [
    "# for each paper in s2orc,\n",
    "# append its text to the result_comparison sentences that are involved with it\n",
    "with open(\"/home/jessica/data/s2orc/s2orc_result_subset.jsonl\", \"r\") as f:\n",
    "    for i, line in tqdm(enumerate(f)):\n",
    "        p = json.loads(line)\n",
    "        p_id = p[\"paper_id\"]\n",
    "        \n",
    "        if p_id in manuscript_ids: \n",
    "            for row_id in manuscript_ids[p_id]:\n",
    "                result_comps[row_id][\"manuscript_text\"] = p[\"body_text\"]\n",
    "        if p_id in cited_ids: \n",
    "            for row_id in cited_ids[p_id]:\n",
    "                result_comps[row_id][\"cited_text\"] = p[\"body_text\"]"
   ]
  },
  {
   "cell_type": "code",
   "execution_count": 5,
   "metadata": {},
   "outputs": [],
   "source": [
    "# function to extract result_text from manuscripts\n",
    "def get_result_text(body_text):\n",
    "    result_text = []\n",
    "\n",
    "    i = 0\n",
    "    is_result = 0\n",
    "    is_discuss = False \n",
    "    while i < len(body_text) and not is_discuss:\n",
    "        p = body_text[i]\n",
    "        i += 1\n",
    "        \n",
    "        section_name = p[\"section\"].lower()\n",
    "        is_result += int(\"result\" in section_name or \"find\" in section_name)\n",
    "        is_discuss = \"discuss\" in section_name or \"conclu\" in section_name\n",
    "\n",
    "        if is_result and not is_discuss: \n",
    "            result_text.append(p)\n",
    "\n",
    "    return result_text"
   ]
  },
  {
   "cell_type": "code",
   "execution_count": 12,
   "metadata": {},
   "outputs": [],
   "source": [
    "# replace cited_texts by plaintext\n",
    "for p in result_comps: \n",
    "    cited_text = \" \".join(para[\"text\"] for para in p[\"cited_text\"])\n",
    "    result_text = get_result_text(p[\"manuscript_text\"])\n",
    "    result_text = \" \".join(para[\"text\"] for para in result_text)\n",
    "    \n",
    "    p[\"cited_text\"] = cited_text\n",
    "    p[\"manuscript_result_text\"] = result_text\n",
    "    \n",
    "    del p[\"manuscript_text\"]"
   ]
  },
  {
   "cell_type": "code",
   "execution_count": 13,
   "metadata": {},
   "outputs": [],
   "source": [
    "with open(\"../misc/test_dataset.jsonl\", \"w\") as outfile:\n",
    "    for p in result_comps:\n",
    "        outfile.write(json.dumps(p) + \"\\n\")"
   ]
  },
  {
   "cell_type": "code",
   "execution_count": 14,
   "metadata": {},
   "outputs": [
    {
     "name": "stdout",
     "output_type": "stream",
     "text": [
      "True\n"
     ]
    }
   ],
   "source": [
    "rc = []\n",
    "with open(\"../misc/test_dataset.jsonl\", \"r\") as f:\n",
    "    for line in f:\n",
    "        rc.append(json.loads(line))\n",
    "print(rc == result_comps)"
   ]
  },
  {
   "cell_type": "code",
   "execution_count": null,
   "metadata": {},
   "outputs": [],
   "source": []
  }
 ],
 "metadata": {
  "kernelspec": {
   "display_name": "Python 3",
   "language": "python",
   "name": "python3"
  },
  "language_info": {
   "codemirror_mode": {
    "name": "ipython",
    "version": 3
   },
   "file_extension": ".py",
   "mimetype": "text/x-python",
   "name": "python",
   "nbconvert_exporter": "python",
   "pygments_lexer": "ipython3",
   "version": "3.7.9"
  }
 },
 "nbformat": 4,
 "nbformat_minor": 4
}
