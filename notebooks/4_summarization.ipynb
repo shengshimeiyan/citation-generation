{
 "cells": [
  {
   "cell_type": "code",
   "execution_count": 1,
   "metadata": {},
   "outputs": [],
   "source": [
    "import json\n",
    "import random\n",
    "import tqdm\n",
    "from tqdm import tqdm\n",
    "\n",
    "import numpy as np\n",
    "import pandas as pd"
   ]
  },
  {
   "cell_type": "code",
   "execution_count": 2,
   "metadata": {},
   "outputs": [],
   "source": [
    "import sys\n",
    "sys.path.append(\"..\")\n",
    "\n",
    "from scripts.utils import *"
   ]
  },
  {
   "cell_type": "markdown",
   "metadata": {},
   "source": [
    "## 1. Load data"
   ]
  },
  {
   "cell_type": "code",
   "execution_count": 3,
   "metadata": {
    "scrolled": true
   },
   "outputs": [
    {
     "name": "stderr",
     "output_type": "stream",
     "text": [
      "100it [00:00, 11737.90it/s]\n"
     ]
    },
    {
     "data": {
      "text/html": [
       "<div>\n",
       "<style scoped>\n",
       "    .dataframe tbody tr th:only-of-type {\n",
       "        vertical-align: middle;\n",
       "    }\n",
       "\n",
       "    .dataframe tbody tr th {\n",
       "        vertical-align: top;\n",
       "    }\n",
       "\n",
       "    .dataframe thead th {\n",
       "        text-align: right;\n",
       "    }\n",
       "</style>\n",
       "<table border=\"1\" class=\"dataframe\">\n",
       "  <thead>\n",
       "    <tr style=\"text-align: right;\">\n",
       "      <th></th>\n",
       "      <th>citation_sentence</th>\n",
       "      <th>manuscript_id</th>\n",
       "      <th>cited_id</th>\n",
       "      <th>cited_text</th>\n",
       "      <th>manuscript_result_text</th>\n",
       "    </tr>\n",
       "  </thead>\n",
       "  <tbody>\n",
       "    <tr>\n",
       "      <th>0</th>\n",
       "      <td>In addition, we here report comparable changes...</td>\n",
       "      <td>8281087</td>\n",
       "      <td>15228934</td>\n",
       "      <td>ietary incorporation of plant sterols and stan...</td>\n",
       "      <td>The systematic search retrieved 1084 potentia...</td>\n",
       "    </tr>\n",
       "    <tr>\n",
       "      <th>1</th>\n",
       "      <td>In addition, we here report comparable changes...</td>\n",
       "      <td>8281087</td>\n",
       "      <td>20547173</td>\n",
       "      <td>Elevated plasma total cholesterol (TC) 5 and L...</td>\n",
       "      <td>The systematic search retrieved 1084 potentia...</td>\n",
       "    </tr>\n",
       "    <tr>\n",
       "      <th>2</th>\n",
       "      <td>In addition, we here report comparable changes...</td>\n",
       "      <td>8281087</td>\n",
       "      <td>15671550</td>\n",
       "      <td>Phytosterols (PS), comprising both plant stero...</td>\n",
       "      <td>The systematic search retrieved 1084 potentia...</td>\n",
       "    </tr>\n",
       "    <tr>\n",
       "      <th>3</th>\n",
       "      <td>Such a discrepancy may likely be due to dose-o...</td>\n",
       "      <td>8281923</td>\n",
       "      <td>6704669</td>\n",
       "      <td>3,4-Methylenedioxymethamphetamine (MDMA; \"ecst...</td>\n",
       "      <td>Two earlier studies have reported that male 5...</td>\n",
       "    </tr>\n",
       "    <tr>\n",
       "      <th>4</th>\n",
       "      <td>Similar to earlier observations (42) , the inf...</td>\n",
       "      <td>11155963</td>\n",
       "      <td>4009171</td>\n",
       "      <td>Plasmodium falciparum is metabolically highly ...</td>\n",
       "      <td>Cell membrane scrambling, a hallmark of erypt...</td>\n",
       "    </tr>\n",
       "  </tbody>\n",
       "</table>\n",
       "</div>"
      ],
      "text/plain": [
       "                                   citation_sentence manuscript_id  cited_id  \\\n",
       "0  In addition, we here report comparable changes...       8281087  15228934   \n",
       "1  In addition, we here report comparable changes...       8281087  20547173   \n",
       "2  In addition, we here report comparable changes...       8281087  15671550   \n",
       "3  Such a discrepancy may likely be due to dose-o...       8281923   6704669   \n",
       "4  Similar to earlier observations (42) , the inf...      11155963   4009171   \n",
       "\n",
       "                                          cited_text  \\\n",
       "0  ietary incorporation of plant sterols and stan...   \n",
       "1  Elevated plasma total cholesterol (TC) 5 and L...   \n",
       "2  Phytosterols (PS), comprising both plant stero...   \n",
       "3  3,4-Methylenedioxymethamphetamine (MDMA; \"ecst...   \n",
       "4  Plasmodium falciparum is metabolically highly ...   \n",
       "\n",
       "                              manuscript_result_text  \n",
       "0   The systematic search retrieved 1084 potentia...  \n",
       "1   The systematic search retrieved 1084 potentia...  \n",
       "2   The systematic search retrieved 1084 potentia...  \n",
       "3   Two earlier studies have reported that male 5...  \n",
       "4   Cell membrane scrambling, a hallmark of erypt...  "
      ]
     },
     "metadata": {},
     "output_type": "display_data"
    },
    {
     "name": "stdout",
     "output_type": "stream",
     "text": [
      "Total number of rows: 100\n"
     ]
    }
   ],
   "source": [
    "d = load_data(\"../data/citation_generation/test_dataset.jsonl\")\n",
    "dataset = pd.DataFrame.from_dict(d).T\n",
    "display(dataset.head())\n",
    "print(f\"Total number of rows: {len(dataset)}\")"
   ]
  },
  {
   "cell_type": "code",
   "execution_count": 4,
   "metadata": {
    "scrolled": true
   },
   "outputs": [
    {
     "name": "stdout",
     "output_type": "stream",
     "text": [
      "In addition, we here report comparable changes in serum cholesterol and lipoprotein concentrations as found in previously published meta-analyses [1] [2] [3] , implying that the included studies in this meta-analyses are representative of all available studies in the literature that have been performed with plant sterols and plant stanols.\n"
     ]
    }
   ],
   "source": [
    "i = 0\n",
    "citation_sentence = dataset.loc[i, \"citation_sentence\"]\n",
    "cited_text = dataset.loc[i, \"cited_text\"]\n",
    "manuscript_result_text = dataset.loc[i, \"manuscript_result_text\"]\n",
    "\n",
    "print(citation_sentence)"
   ]
  },
  {
   "cell_type": "markdown",
   "metadata": {},
   "source": [
    "## 2. Tokenize texts into sentences"
   ]
  },
  {
   "cell_type": "code",
   "execution_count": 5,
   "metadata": {
    "scrolled": true
   },
   "outputs": [],
   "source": [
    "from nltk.tokenize.punkt import PunktSentenceTokenizer, PunktParameters\n",
    "\n",
    "\n",
    "# tokenizer should not split at abbrieviations\n",
    "punkt_params = PunktParameters()\n",
    "punkt_params.abbrev_types = set([\"i.e\", \"e.g\", \"etc\", \"al\", \"fig\", \"figs\", \n",
    "                                 \"ref\", \"refs\", \"p\", \"c\", \"s\"]) \n",
    "\n",
    "# initialise sentence tokenizer\n",
    "tokenizer = PunktSentenceTokenizer(punkt_params)"
   ]
  },
  {
   "cell_type": "code",
   "execution_count": 6,
   "metadata": {
    "scrolled": true
   },
   "outputs": [
    {
     "name": "stdout",
     "output_type": "stream",
     "text": [
      " The systematic search retrieved 1084 potentially relevant papers, and after two selection rounds, 41 RCTs were included in the meta-analysis.\n",
      "A flowchart of the study selection process is presented in Fig. 1 .\n",
      "Of the 41 included studies (Online Supplemental Material Tables 1 and 2 ), 23 were conducted as a parallel study [15-17, 19, 21-26, 28-31, 34, 38-45] and 18 studies had a crossover design [13, 14, 18, 20, [46] [47] [48] [49] [50] [51] [52] [53] [54] [55] [56] [57] [58] [59]  The weighted effects of plant sterol or plant stanol consumption on plasma fat-soluble vitamin and carotenoid concentrations are presented in Table 1 .\n",
      "Non-standardized and TC-standardized hydrocarbon carotenoid concentrations, i.e., lycopene, α-carotene and β-carotene, were significantly (P < 0.0001) lowered after consumption of plant sterol-or plant stanol-enriched foods.\n",
      "β-Carotene For parallel studies, the weighted average baseline concentrations were calculated based on the baseline concentrations in the active and placebo groups and for crossover studies, the end-ofintervention concentrations of the placebo periods were used b For parallel studies, the weighted average concentrations after PS intervention were calculated based on the concentrations after PS intervention in the active groups and for crossover studies, the end-of-intervention concentrations of the active periods were used .\n",
      "Non-standardized tocopherol concentrations significantly (P < 0.0001) decreased after plant sterol or plant stanol consumption (α-tocopherol on average by 2.43 µmol/L (−7.1 %) and γ-tocopherol by 0.17 µmol/L (−6.9 %).\n",
      "However, when standardized for TC concentrations, α-and γ-tocopherol concentrations were no longer changed after plant sterol or plant stanol consumption (−0.3 and 0.2 %, respectively; P > 0.05).\n",
      "Concentrations of retinol and vitamin D were not changed after plant sterol or plant stanol consumption (−0.8 and 1.4 %, respectively; P > 0.05).\n",
      "TC concentrations were significantly (P < 0.0001) decreased on average by 0.39 mmol/L (−6.5 %) and LDL-C concentrations by 0.35 mmol/L (−9.0 %).\n",
      "HDL-C concentrations did not change after plant sterol or plant stanol consumption (0.2 %), while TAG concentrations were significantly (P < 0.0001) decreased by 0.06 mmol/L (−4.6 %) ( Table 1) .\n",
      "\n",
      "ietary incorporation of plant sterols and stanols is recommended for blood cholesterol reduction (1, 2).\n",
      "Berger et al. reviewed clinical trials on efficacy of plant sterols as cholesterol lowering agents and reported that the consumption of plant sterols/stanols have been reported to reduce low density lipoprotein (LDL) cholesterol levels by 5Á15% (3) .\n",
      "Reasons for such large variations need to be investigated.\n",
      "Earlier studies that have tested the efficacy of plant sterols/stanols as cholesterol lowering agents incorporated plant sterols/stanols into either regular or low fat spreads (8Á13).\n",
      "Since it appears counterintuitive to use a high fat food product to deliver a cholesterol lowering agent, clinical trials have been conducted to test the efficacy of plant sterols/stanols incorporated into low fat products (14) .\n",
      "A number of clinical trials have tested the efficacy of plant sterols/stanols incorporated into low fat foods including low fat milk (15, 16) , low fat yoghurt (16Á20), bakery products (21) , orange juice (22, 23) , cereal bars (24) and low and non-fat beverages (25Á27).\n",
      "However, although plant sterols/stanols that are incorporated into low fat food have been shown to reduce blood cholesterol (24, 27, 28) , the same food carrier tested in different trials gave different magnitude in LDL cholesterol reduction.\n",
      "Plant sterol/stanol enriched yoghurt and milk drinks have resulted in LDL cholesterol reduction in the range of 5Á14% in various clinical trials (29) .\n",
      "The study by Clifton et al. (30) compared the effect of plant stanol esterified to fatty acids and incorporated in a number of food matrices including bread, breakfast cereal, milk and yoghurt on plasma lipids.\n",
      "Plant stanol esters in low fat milk were almost three times more effective than in bread and cereal (page number not for citation purpose) in lowering plasma cholesterol levels.\n"
     ]
    }
   ],
   "source": [
    "# tokenize manuscript_result_text, cited_text into sentences\n",
    "query_sentences = tokenizer.tokenize(manuscript_result_text)\n",
    "cited_sentences = tokenizer.tokenize(cited_text)\n",
    "\n",
    "for j in range(10): print(query_sentences[j])\n",
    "print()\n",
    "for j in range(10): print(cited_sentences[j])"
   ]
  },
  {
   "cell_type": "markdown",
   "metadata": {},
   "source": [
    "## 3. Compute sentence embeddings"
   ]
  },
  {
   "cell_type": "code",
   "execution_count": 7,
   "metadata": {},
   "outputs": [],
   "source": [
    "# import sent2vec\n",
    "\n",
    "# model = sent2vec.Sent2vecModel()\n",
    "# model.load_model('model.bin') \n",
    "# emb = model.embed_sentence(\"once upon a time .\") \n",
    "# embs = model.embed_sentences([\"first sentence .\", \"another sentence\"])"
   ]
  },
  {
   "cell_type": "markdown",
   "metadata": {},
   "source": [
    "- I've been unable to download any of the .bin files from https://github.com/epfml/sent2vec"
   ]
  },
  {
   "cell_type": "code",
   "execution_count": 8,
   "metadata": {},
   "outputs": [],
   "source": [
    "from sentence_transformers import SentenceTransformer\n",
    "\n",
    "model = SentenceTransformer(\"stsb-distilbert-base\")"
   ]
  },
  {
   "cell_type": "code",
   "execution_count": 9,
   "metadata": {},
   "outputs": [],
   "source": [
    "# compute sentence embeddings\n",
    "query_embeddings = model.encode(query_sentences)\n",
    "cited_embeddings = model.encode(cited_sentences)"
   ]
  },
  {
   "cell_type": "markdown",
   "metadata": {},
   "source": [
    "## 4. Compute sentence similarity scores"
   ]
  },
  {
   "cell_type": "code",
   "execution_count": 10,
   "metadata": {},
   "outputs": [
    {
     "name": "stdout",
     "output_type": "stream",
     "text": [
      "(23, 152)\n"
     ]
    }
   ],
   "source": [
    "from sklearn.metrics.pairwise import cosine_similarity\n",
    "\n",
    "similarity = cosine_similarity(query_embeddings, cited_embeddings)\n",
    "print(similarity.shape)"
   ]
  },
  {
   "cell_type": "code",
   "execution_count": 11,
   "metadata": {
    "scrolled": true
   },
   "outputs": [
    {
     "name": "stdout",
     "output_type": "stream",
     "text": [
      "[0.7383168, 'Non-standardized and TC-standardized hydrocarbon carotenoid concentrations, i.e., lycopene, α-carotene and β-carotene, were significantly (P < 0.0001) lowered after consumption of plant sterol-or plant stanol-enriched foods.', \"In conclusion, plant sterol/stanol containing products significantly reduced LDL concentrations but the reduction was related to individuals' baseline LDL levels, food carrier, frequency and time of intake.\"]\n",
      "\n",
      "[0.7263868, 'HDL-C concentrations did not change after plant sterol or plant stanol consumption (0.2 %), while TAG concentrations were significantly (P < 0.0001) decreased by 0.06 mmol/L (−4.6 %) ( Table 1) .', 'For instance, plant sterols/stanols consumed 2Á3 times/day reduced LDL cholesterol levels by 0.34 mmol/L (95% CI: (0.38, (0.18) while plant sterols/stanols consumed once per day in the morning did not result in a significant reduction in LDL levels.']\n",
      "\n",
      "[0.67912066, 'Non-standardized and TC-standardized hydrocarbon carotenoid concentrations, i.e., lycopene, α-carotene and β-carotene, were significantly (P < 0.0001) lowered after consumption of plant sterol-or plant stanol-enriched foods.', 'Plat et al. (31) showed that 2.5 g of plant stanols in margarines and shortenings consumed for four weeks once per day at lunch or divided over three meals, lowered LDL cholesterol levels to a similar extent, about 10%.']\n",
      "\n",
      "[0.6732609, 'In addition, changes in TC concentrations after plant sterol or plant stanol consumption were significantly affected by baseline concentrations (only absolute TC changes) and by the dose of plant sterol or plant stanol intake.', 'The present meta-analysis has confirmed that baseline LDL cholesterol levels affect magnitude of reduction in LDL after plant sterol/stanol consumption which could explain the wide variation in responsiveness seen in previous studies.']\n",
      "\n",
      "[0.6659426, 'Non-standardized and TC-standardized hydrocarbon carotenoid concentrations, i.e., lycopene, α-carotene and β-carotene, were significantly (P < 0.0001) lowered after consumption of plant sterol-or plant stanol-enriched foods.', 'Another (5) looked at the efficacy and safety of plant sterols/stanols as cholesterol lowering agents, but since 2003 a number of clinical trials have examined the efficacy of low fat foods containing plant sterols/stanols and observed substantially weaker effects.']\n",
      "\n"
     ]
    }
   ],
   "source": [
    "k = 5\n",
    "indices = np.argpartition(similarity, kth=-k, axis=None)[-k:]\n",
    "indices = np.flip(indices[np.argsort(similarity.flatten()[indices])])\n",
    "topk_similarity = similarity.flatten()[indices]\n",
    "\n",
    "topk_sentence_pairs = []\n",
    "for i in range(k): \n",
    "    ind = indices[i]\n",
    "    a = ind // similarity.shape[1]\n",
    "    b = ind % similarity.shape[1]\n",
    "    topk_sentence_pairs.append([(a,b), topk_similarity[i], \n",
    "                                    query_sentences[a], \n",
    "                                    cited_sentences[b]])\n",
    "\n",
    "for s in topk_sentence_pairs:\n",
    "    print(s[1:])\n",
    "    print()"
   ]
  },
  {
   "cell_type": "code",
   "execution_count": 12,
   "metadata": {},
   "outputs": [
    {
     "name": "stdout",
     "output_type": "stream",
     "text": [
      "In conclusion, plant sterol/stanol containing products significantly reduced LDL concentrations but the reduction was related to individuals' baseline LDL levels, food carrier, frequency and time of intake. For instance, plant sterols/stanols consumed 2Á3 times/day reduced LDL cholesterol levels by 0.34 mmol/L (95% CI: (0.38, (0.18) while plant sterols/stanols consumed once per day in the morning did not result in a significant reduction in LDL levels. Plat et al. (31) showed that 2.5 g of plant stanols in margarines and shortenings consumed for four weeks once per day at lunch or divided over three meals, lowered LDL cholesterol levels to a similar extent, about 10%. The present meta-analysis has confirmed that baseline LDL cholesterol levels affect magnitude of reduction in LDL after plant sterol/stanol consumption which could explain the wide variation in responsiveness seen in previous studies. Another (5) looked at the efficacy and safety of plant sterols/stanols as cholesterol lowering agents, but since 2003 a number of clinical trials have examined the efficacy of low fat foods containing plant sterols/stanols and observed substantially weaker effects.\n",
      "\n",
      "In addition, we here report comparable changes in serum cholesterol and lipoprotein concentrations as found in previously published meta-analyses [1] [2] [3] , implying that the included studies in this meta-analyses are representative of all available studies in the literature that have been performed with plant sterols and plant stanols.\n"
     ]
    }
   ],
   "source": [
    "topk_cited_sentences = \" \".join([p[-1] for p in topk_sentence_pairs])\n",
    "print(topk_cited_sentences)\n",
    "print()\n",
    "print(citation_sentence)"
   ]
  },
  {
   "cell_type": "code",
   "execution_count": 13,
   "metadata": {},
   "outputs": [
    {
     "name": "stdout",
     "output_type": "stream",
     "text": [
      "0.9354838709677419\n",
      "0.8321678321678322\n",
      "0.5942622950819673\n",
      "0.43853820598006643\n"
     ]
    }
   ],
   "source": [
    "for i in range(1,5):\n",
    "    print(rouge_n(citation_sentence, topk_cited_sentences, n=i))"
   ]
  },
  {
   "cell_type": "code",
   "execution_count": 14,
   "metadata": {},
   "outputs": [],
   "source": [
    "def get_topk_citation_sentences(manuscript_result_text, cited_text, k=5):\n",
    "    # TODO: reject sentences with scores < some threshold\n",
    "    \n",
    "    # tokenize into sentences\n",
    "    query_sentences = tokenizer.tokenize(manuscript_result_text)\n",
    "    cited_sentences = tokenizer.tokenize(cited_text)\n",
    "\n",
    "    # compute embeddings and cosine similarity matrix\n",
    "    query_embeddings = model.encode(query_sentences)\n",
    "    cited_embeddings = model.encode(cited_sentences)\n",
    "    similarity = cosine_similarity(query_embeddings, cited_embeddings)\n",
    "    \n",
    "    # get indices of highest similarity scores \n",
    "    indices = np.argpartition(similarity, kth=-k, axis=None)[-k:]\n",
    "    \n",
    "    # get indices in decreasing order wrt scores\n",
    "    indices = np.flip(indices[np.argsort(similarity.flatten()[indices])])\n",
    "\n",
    "    # return \n",
    "    topk_cited_sentences = []\n",
    "    for ind in indices: \n",
    "        b = ind % similarity.shape[1]\n",
    "        topk_cited_sentences.append(cited_sentences[b])\n",
    "\n",
    "    return topk_cited_sentences"
   ]
  },
  {
   "cell_type": "markdown",
   "metadata": {},
   "source": [
    "## 5. Extractively summarize the entire dataset"
   ]
  },
  {
   "cell_type": "code",
   "execution_count": 15,
   "metadata": {},
   "outputs": [
    {
     "name": "stdout",
     "output_type": "stream",
     "text": [
      "[\"In conclusion, plant sterol/stanol containing products significantly reduced LDL concentrations but the reduction was related to individuals' baseline LDL levels, food carrier, frequency and time of intake.\", 'For instance, plant sterols/stanols consumed 2Á3 times/day reduced LDL cholesterol levels by 0.34 mmol/L (95% CI: (0.38, (0.18) while plant sterols/stanols consumed once per day in the morning did not result in a significant reduction in LDL levels.', 'Plat et al. (31) showed that 2.5 g of plant stanols in margarines and shortenings consumed for four weeks once per day at lunch or divided over three meals, lowered LDL cholesterol levels to a similar extent, about 10%.', 'The present meta-analysis has confirmed that baseline LDL cholesterol levels affect magnitude of reduction in LDL after plant sterol/stanol consumption which could explain the wide variation in responsiveness seen in previous studies.', 'Another (5) looked at the efficacy and safety of plant sterols/stanols as cholesterol lowering agents, but since 2003 a number of clinical trials have examined the efficacy of low fat foods containing plant sterols/stanols and observed substantially weaker effects.']\n"
     ]
    }
   ],
   "source": [
    "all_topk_cited_sentences = dataset[[\"manuscript_result_text\", \"cited_text\"]].apply(\n",
    "    lambda row: get_topk_citation_sentences(*row), axis=1\n",
    ")\n",
    "print(all_topk_cited_sentences[0])"
   ]
  },
  {
   "cell_type": "code",
   "execution_count": 16,
   "metadata": {},
   "outputs": [
    {
     "data": {
      "text/html": [
       "<div>\n",
       "<style scoped>\n",
       "    .dataframe tbody tr th:only-of-type {\n",
       "        vertical-align: middle;\n",
       "    }\n",
       "\n",
       "    .dataframe tbody tr th {\n",
       "        vertical-align: top;\n",
       "    }\n",
       "\n",
       "    .dataframe thead th {\n",
       "        text-align: right;\n",
       "    }\n",
       "</style>\n",
       "<table border=\"1\" class=\"dataframe\">\n",
       "  <thead>\n",
       "    <tr style=\"text-align: right;\">\n",
       "      <th></th>\n",
       "      <th>citation_sentence</th>\n",
       "      <th>manuscript_id</th>\n",
       "      <th>cited_id</th>\n",
       "      <th>cited_text</th>\n",
       "      <th>manuscript_result_text</th>\n",
       "      <th>topk_cited_sentences</th>\n",
       "    </tr>\n",
       "  </thead>\n",
       "  <tbody>\n",
       "    <tr>\n",
       "      <th>0</th>\n",
       "      <td>In addition, we here report comparable changes...</td>\n",
       "      <td>8281087</td>\n",
       "      <td>15228934</td>\n",
       "      <td>ietary incorporation of plant sterols and stan...</td>\n",
       "      <td>The systematic search retrieved 1084 potentia...</td>\n",
       "      <td>[In conclusion, plant sterol/stanol containing...</td>\n",
       "    </tr>\n",
       "    <tr>\n",
       "      <th>1</th>\n",
       "      <td>In addition, we here report comparable changes...</td>\n",
       "      <td>8281087</td>\n",
       "      <td>20547173</td>\n",
       "      <td>Elevated plasma total cholesterol (TC) 5 and L...</td>\n",
       "      <td>The systematic search retrieved 1084 potentia...</td>\n",
       "      <td>[stanols) had no noticeable impact on the LDL-...</td>\n",
       "    </tr>\n",
       "    <tr>\n",
       "      <th>2</th>\n",
       "      <td>In addition, we here report comparable changes...</td>\n",
       "      <td>8281087</td>\n",
       "      <td>15671550</td>\n",
       "      <td>Phytosterols (PS), comprising both plant stero...</td>\n",
       "      <td>The systematic search retrieved 1084 potentia...</td>\n",
       "      <td>[Irrespective of the type of PS used, liquid f...</td>\n",
       "    </tr>\n",
       "    <tr>\n",
       "      <th>3</th>\n",
       "      <td>Such a discrepancy may likely be due to dose-o...</td>\n",
       "      <td>8281923</td>\n",
       "      <td>6704669</td>\n",
       "      <td>3,4-Methylenedioxymethamphetamine (MDMA; \"ecst...</td>\n",
       "      <td>Two earlier studies have reported that male 5...</td>\n",
       "      <td>[This suggests that 5-HT 2C R stimulation can ...</td>\n",
       "    </tr>\n",
       "    <tr>\n",
       "      <th>4</th>\n",
       "      <td>Similar to earlier observations (42) , the inf...</td>\n",
       "      <td>11155963</td>\n",
       "      <td>4009171</td>\n",
       "      <td>Plasmodium falciparum is metabolically highly ...</td>\n",
       "      <td>Cell membrane scrambling, a hallmark of erypt...</td>\n",
       "      <td>[Taken together, lack of ClC-2 did not prevent...</td>\n",
       "    </tr>\n",
       "  </tbody>\n",
       "</table>\n",
       "</div>"
      ],
      "text/plain": [
       "                                   citation_sentence manuscript_id  cited_id  \\\n",
       "0  In addition, we here report comparable changes...       8281087  15228934   \n",
       "1  In addition, we here report comparable changes...       8281087  20547173   \n",
       "2  In addition, we here report comparable changes...       8281087  15671550   \n",
       "3  Such a discrepancy may likely be due to dose-o...       8281923   6704669   \n",
       "4  Similar to earlier observations (42) , the inf...      11155963   4009171   \n",
       "\n",
       "                                          cited_text  \\\n",
       "0  ietary incorporation of plant sterols and stan...   \n",
       "1  Elevated plasma total cholesterol (TC) 5 and L...   \n",
       "2  Phytosterols (PS), comprising both plant stero...   \n",
       "3  3,4-Methylenedioxymethamphetamine (MDMA; \"ecst...   \n",
       "4  Plasmodium falciparum is metabolically highly ...   \n",
       "\n",
       "                              manuscript_result_text  \\\n",
       "0   The systematic search retrieved 1084 potentia...   \n",
       "1   The systematic search retrieved 1084 potentia...   \n",
       "2   The systematic search retrieved 1084 potentia...   \n",
       "3   Two earlier studies have reported that male 5...   \n",
       "4   Cell membrane scrambling, a hallmark of erypt...   \n",
       "\n",
       "                                topk_cited_sentences  \n",
       "0  [In conclusion, plant sterol/stanol containing...  \n",
       "1  [stanols) had no noticeable impact on the LDL-...  \n",
       "2  [Irrespective of the type of PS used, liquid f...  \n",
       "3  [This suggests that 5-HT 2C R stimulation can ...  \n",
       "4  [Taken together, lack of ClC-2 did not prevent...  "
      ]
     },
     "metadata": {},
     "output_type": "display_data"
    }
   ],
   "source": [
    "dataset[\"topk_cited_sentences\"] = all_topk_cited_sentences\n",
    "display(dataset.head())"
   ]
  },
  {
   "cell_type": "code",
   "execution_count": 17,
   "metadata": {},
   "outputs": [],
   "source": [
    "rouge_unigrams = []\n",
    "rouge_bigrams = []\n",
    "for _, row in dataset.iterrows():\n",
    "    rouge_unigrams.append(rouge_n(row.citation_sentence, \" \".join(row.topk_cited_sentences), n=1))\n",
    "    rouge_bigrams.append(rouge_n(row.citation_sentence, \" \".join(row.topk_cited_sentences), n=2))"
   ]
  },
  {
   "cell_type": "code",
   "execution_count": 18,
   "metadata": {},
   "outputs": [
    {
     "data": {
      "text/html": [
       "<div>\n",
       "<style scoped>\n",
       "    .dataframe tbody tr th:only-of-type {\n",
       "        vertical-align: middle;\n",
       "    }\n",
       "\n",
       "    .dataframe tbody tr th {\n",
       "        vertical-align: top;\n",
       "    }\n",
       "\n",
       "    .dataframe thead th {\n",
       "        text-align: right;\n",
       "    }\n",
       "</style>\n",
       "<table border=\"1\" class=\"dataframe\">\n",
       "  <thead>\n",
       "    <tr style=\"text-align: right;\">\n",
       "      <th></th>\n",
       "      <th>citation_sentence</th>\n",
       "      <th>manuscript_id</th>\n",
       "      <th>cited_id</th>\n",
       "      <th>cited_text</th>\n",
       "      <th>manuscript_result_text</th>\n",
       "      <th>topk_cited_sentences</th>\n",
       "      <th>rouge_1</th>\n",
       "      <th>rouge_2</th>\n",
       "    </tr>\n",
       "  </thead>\n",
       "  <tbody>\n",
       "    <tr>\n",
       "      <th>0</th>\n",
       "      <td>In addition, we here report comparable changes...</td>\n",
       "      <td>8281087</td>\n",
       "      <td>15228934</td>\n",
       "      <td>ietary incorporation of plant sterols and stan...</td>\n",
       "      <td>The systematic search retrieved 1084 potentia...</td>\n",
       "      <td>[In conclusion, plant sterol/stanol containing...</td>\n",
       "      <td>0.935484</td>\n",
       "      <td>0.832168</td>\n",
       "    </tr>\n",
       "    <tr>\n",
       "      <th>1</th>\n",
       "      <td>In addition, we here report comparable changes...</td>\n",
       "      <td>8281087</td>\n",
       "      <td>20547173</td>\n",
       "      <td>Elevated plasma total cholesterol (TC) 5 and L...</td>\n",
       "      <td>The systematic search retrieved 1084 potentia...</td>\n",
       "      <td>[stanols) had no noticeable impact on the LDL-...</td>\n",
       "      <td>0.903226</td>\n",
       "      <td>0.769231</td>\n",
       "    </tr>\n",
       "    <tr>\n",
       "      <th>2</th>\n",
       "      <td>In addition, we here report comparable changes...</td>\n",
       "      <td>8281087</td>\n",
       "      <td>15671550</td>\n",
       "      <td>Phytosterols (PS), comprising both plant stero...</td>\n",
       "      <td>The systematic search retrieved 1084 potentia...</td>\n",
       "      <td>[Irrespective of the type of PS used, liquid f...</td>\n",
       "      <td>0.903226</td>\n",
       "      <td>0.769231</td>\n",
       "    </tr>\n",
       "    <tr>\n",
       "      <th>3</th>\n",
       "      <td>Such a discrepancy may likely be due to dose-o...</td>\n",
       "      <td>8281923</td>\n",
       "      <td>6704669</td>\n",
       "      <td>3,4-Methylenedioxymethamphetamine (MDMA; \"ecst...</td>\n",
       "      <td>Two earlier studies have reported that male 5...</td>\n",
       "      <td>[This suggests that 5-HT 2C R stimulation can ...</td>\n",
       "      <td>0.975000</td>\n",
       "      <td>0.616352</td>\n",
       "    </tr>\n",
       "    <tr>\n",
       "      <th>4</th>\n",
       "      <td>Similar to earlier observations (42) , the inf...</td>\n",
       "      <td>11155963</td>\n",
       "      <td>4009171</td>\n",
       "      <td>Plasmodium falciparum is metabolically highly ...</td>\n",
       "      <td>Cell membrane scrambling, a hallmark of erypt...</td>\n",
       "      <td>[Taken together, lack of ClC-2 did not prevent...</td>\n",
       "      <td>0.937500</td>\n",
       "      <td>0.838095</td>\n",
       "    </tr>\n",
       "  </tbody>\n",
       "</table>\n",
       "</div>"
      ],
      "text/plain": [
       "                                   citation_sentence manuscript_id  cited_id  \\\n",
       "0  In addition, we here report comparable changes...       8281087  15228934   \n",
       "1  In addition, we here report comparable changes...       8281087  20547173   \n",
       "2  In addition, we here report comparable changes...       8281087  15671550   \n",
       "3  Such a discrepancy may likely be due to dose-o...       8281923   6704669   \n",
       "4  Similar to earlier observations (42) , the inf...      11155963   4009171   \n",
       "\n",
       "                                          cited_text  \\\n",
       "0  ietary incorporation of plant sterols and stan...   \n",
       "1  Elevated plasma total cholesterol (TC) 5 and L...   \n",
       "2  Phytosterols (PS), comprising both plant stero...   \n",
       "3  3,4-Methylenedioxymethamphetamine (MDMA; \"ecst...   \n",
       "4  Plasmodium falciparum is metabolically highly ...   \n",
       "\n",
       "                              manuscript_result_text  \\\n",
       "0   The systematic search retrieved 1084 potentia...   \n",
       "1   The systematic search retrieved 1084 potentia...   \n",
       "2   The systematic search retrieved 1084 potentia...   \n",
       "3   Two earlier studies have reported that male 5...   \n",
       "4   Cell membrane scrambling, a hallmark of erypt...   \n",
       "\n",
       "                                topk_cited_sentences   rouge_1   rouge_2  \n",
       "0  [In conclusion, plant sterol/stanol containing...  0.935484  0.832168  \n",
       "1  [stanols) had no noticeable impact on the LDL-...  0.903226  0.769231  \n",
       "2  [Irrespective of the type of PS used, liquid f...  0.903226  0.769231  \n",
       "3  [This suggests that 5-HT 2C R stimulation can ...  0.975000  0.616352  \n",
       "4  [Taken together, lack of ClC-2 did not prevent...  0.937500  0.838095  "
      ]
     },
     "metadata": {},
     "output_type": "display_data"
    }
   ],
   "source": [
    "dataset[\"rouge_1\"] = rouge_unigrams\n",
    "dataset[\"rouge_2\"] = rouge_bigrams\n",
    "display(dataset.head())"
   ]
  },
  {
   "cell_type": "code",
   "execution_count": 22,
   "metadata": {},
   "outputs": [
    {
     "data": {
      "text/plain": [
       "array([[<AxesSubplot:title={'center':'rouge_1'}>,\n",
       "        <AxesSubplot:title={'center':'rouge_2'}>]], dtype=object)"
      ]
     },
     "metadata": {},
     "output_type": "display_data"
    },
    {
     "data": {
      "image/png": "[encoded data removed]",
      "text/plain": [
       "<Figure size 432x288 with 2 Axes>"
      ]
     },
     "metadata": {
      "needs_background": "light"
     },
     "output_type": "display_data"
    }
   ],
   "source": [
    "dataset.hist()"
   ]
  },
  {
   "cell_type": "code",
   "execution_count": 19,
   "metadata": {},
   "outputs": [
    {
     "name": "stdout",
     "output_type": "stream",
     "text": [
      "There is 1 GPU(s) available.\n",
      "Device name: GeForce RTX 2070\n"
     ]
    }
   ],
   "source": [
    "import torch\n",
    "from transformers import pipeline\n",
    "\n",
    "device = check_gpu()"
   ]
  },
  {
   "cell_type": "code",
   "execution_count": 20,
   "metadata": {},
   "outputs": [],
   "source": [
    "# load pipeline with BART model,  trained on the CNN/Daily Mail News Dataset\n",
    "summarizer = pipeline(\"summarization\")"
   ]
  }
 ],
 "metadata": {
  "kernelspec": {
   "display_name": "Python 3",
   "language": "python",
   "name": "python3"
  },
  "language_info": {
   "codemirror_mode": {
    "name": "ipython",
    "version": 3
   },
   "file_extension": ".py",
   "mimetype": "text/x-python",
   "name": "python",
   "nbconvert_exporter": "python",
   "pygments_lexer": "ipython3",
   "version": "3.7.10"
  }
 },
 "nbformat": 4,
 "nbformat_minor": 4
}
