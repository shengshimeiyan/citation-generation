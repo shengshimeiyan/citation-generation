{
 "cells": [
  {
   "cell_type": "code",
   "execution_count": 4,
   "metadata": {},
   "outputs": [],
   "source": [
    "import json\n",
    "import random\n",
    "import tqdm\n",
    "from tqdm import tqdm\n",
    "\n",
    "import numpy as np\n",
    "import pandas as pd"
   ]
  },
  {
   "cell_type": "markdown",
   "metadata": {},
   "source": [
    "## 1. Load data"
   ]
  },
  {
   "cell_type": "code",
   "execution_count": null,
   "metadata": {
    "scrolled": true
   },
   "outputs": [],
   "source": [
    "with open(\"../data/citation_generation/dataset.jsonl\", \"r\") as f:\n",
    "    for line in tqdm(f):\n",
    "        row = json.loads(line)\n",
    "        if row[\"cited_id\"] == '22638227':\n",
    "            print(row)\n",
    "            print()"
   ]
  },
  {
   "cell_type": "code",
   "execution_count": 4,
   "metadata": {
    "scrolled": true
   },
   "outputs": [
    {
     "name": "stdout",
     "output_type": "stream",
     "text": [
      "In addition, we here report comparable changes in serum cholesterol and lipoprotein concentrations as found in previously published meta-analyses [1] [2] [3] , implying that the included studies in this meta-analyses are representative of all available studies in the literature that have been performed with plant sterols and plant stanols.\n"
     ]
    }
   ],
   "source": [
    "i = 0\n",
    "citation_sentence = dataset.loc[i, \"citation_sentence\"]\n",
    "cited_text = dataset.loc[i, \"cited_text\"]\n",
    "manuscript_result_text = dataset.loc[i, \"manuscript_result_text\"]\n",
    "\n",
    "print(citation_sentence)"
   ]
  },
  {
   "cell_type": "markdown",
   "metadata": {},
   "source": [
    "## 2. Tokenize texts into sentences"
   ]
  },
  {
   "cell_type": "code",
   "execution_count": 5,
   "metadata": {
    "scrolled": true
   },
   "outputs": [],
   "source": [
    "from nltk.tokenize.punkt import PunktSentenceTokenizer, PunktParameters\n",
    "\n",
    "\n",
    "# tokenizer should not split at abbrieviations\n",
    "punkt_params = PunktParameters()\n",
    "punkt_params.abbrev_types = set([\"i.e\", \"e.g\", \"etc\", \"al\", \"fig\", \"figs\", \n",
    "                                 \"ref\", \"refs\", \"p\", \"c\", \"s\"]) \n",
    "\n",
    "# initialise sentence tokenizer\n",
    "tokenizer = PunktSentenceTokenizer(punkt_params)"
   ]
  },
  {
   "cell_type": "code",
   "execution_count": 6,
   "metadata": {
    "scrolled": true
   },
   "outputs": [
    {
     "name": "stdout",
     "output_type": "stream",
     "text": [
      " The systematic search retrieved 1084 potentially relevant papers, and after two selection rounds, 41 RCTs were included in the meta-analysis.\n",
      "A flowchart of the study selection process is presented in Fig. 1 .\n",
      "Of the 41 included studies (Online Supplemental Material Tables 1 and 2 ), 23 were conducted as a parallel study [15-17, 19, 21-26, 28-31, 34, 38-45] and 18 studies had a crossover design [13, 14, 18, 20, [46] [47] [48] [49] [50] [51] [52] [53] [54] [55] [56] [57] [58] [59]  The weighted effects of plant sterol or plant stanol consumption on plasma fat-soluble vitamin and carotenoid concentrations are presented in Table 1 .\n",
      "Non-standardized and TC-standardized hydrocarbon carotenoid concentrations, i.e., lycopene, α-carotene and β-carotene, were significantly (P < 0.0001) lowered after consumption of plant sterol-or plant stanol-enriched foods.\n",
      "β-Carotene For parallel studies, the weighted average baseline concentrations were calculated based on the baseline concentrations in the active and placebo groups and for crossover studies, the end-ofintervention concentrations of the placebo periods were used b For parallel studies, the weighted average concentrations after PS intervention were calculated based on the concentrations after PS intervention in the active groups and for crossover studies, the end-of-intervention concentrations of the active periods were used .\n",
      "Non-standardized tocopherol concentrations significantly (P < 0.0001) decreased after plant sterol or plant stanol consumption (α-tocopherol on average by 2.43 µmol/L (−7.1 %) and γ-tocopherol by 0.17 µmol/L (−6.9 %).\n",
      "However, when standardized for TC concentrations, α-and γ-tocopherol concentrations were no longer changed after plant sterol or plant stanol consumption (−0.3 and 0.2 %, respectively; P > 0.05).\n",
      "Concentrations of retinol and vitamin D were not changed after plant sterol or plant stanol consumption (−0.8 and 1.4 %, respectively; P > 0.05).\n",
      "TC concentrations were significantly (P < 0.0001) decreased on average by 0.39 mmol/L (−6.5 %) and LDL-C concentrations by 0.35 mmol/L (−9.0 %).\n",
      "HDL-C concentrations did not change after plant sterol or plant stanol consumption (0.2 %), while TAG concentrations were significantly (P < 0.0001) decreased by 0.06 mmol/L (−4.6 %) ( Table 1) .\n",
      "\n",
      "ietary incorporation of plant sterols and stanols is recommended for blood cholesterol reduction (1, 2).\n",
      "Berger et al. reviewed clinical trials on efficacy of plant sterols as cholesterol lowering agents and reported that the consumption of plant sterols/stanols have been reported to reduce low density lipoprotein (LDL) cholesterol levels by 5Á15% (3) .\n",
      "Reasons for such large variations need to be investigated.\n",
      "Earlier studies that have tested the efficacy of plant sterols/stanols as cholesterol lowering agents incorporated plant sterols/stanols into either regular or low fat spreads (8Á13).\n",
      "Since it appears counterintuitive to use a high fat food product to deliver a cholesterol lowering agent, clinical trials have been conducted to test the efficacy of plant sterols/stanols incorporated into low fat products (14) .\n",
      "A number of clinical trials have tested the efficacy of plant sterols/stanols incorporated into low fat foods including low fat milk (15, 16) , low fat yoghurt (16Á20), bakery products (21) , orange juice (22, 23) , cereal bars (24) and low and non-fat beverages (25Á27).\n",
      "However, although plant sterols/stanols that are incorporated into low fat food have been shown to reduce blood cholesterol (24, 27, 28) , the same food carrier tested in different trials gave different magnitude in LDL cholesterol reduction.\n",
      "Plant sterol/stanol enriched yoghurt and milk drinks have resulted in LDL cholesterol reduction in the range of 5Á14% in various clinical trials (29) .\n",
      "The study by Clifton et al. (30) compared the effect of plant stanol esterified to fatty acids and incorporated in a number of food matrices including bread, breakfast cereal, milk and yoghurt on plasma lipids.\n",
      "Plant stanol esters in low fat milk were almost three times more effective than in bread and cereal (page number not for citation purpose) in lowering plasma cholesterol levels.\n"
     ]
    }
   ],
   "source": [
    "# tokenize manuscript_result_text, cited_text into sentences\n",
    "query_sentences = tokenizer.tokenize(manuscript_result_text)\n",
    "cited_sentences = tokenizer.tokenize(cited_text)\n",
    "\n",
    "for j in range(10): print(query_sentences[j])\n",
    "print()\n",
    "for j in range(10): print(cited_sentences[j])"
   ]
  },
  {
   "cell_type": "markdown",
   "metadata": {},
   "source": [
    "## 3. Compute sentence embeddings"
   ]
  },
  {
   "cell_type": "code",
   "execution_count": 7,
   "metadata": {},
   "outputs": [],
   "source": [
    "import sent2vec\n",
    "\n",
    "model = sent2vec.Sent2vecModel()\n",
    "model.load_model(\"../sent2vec/wiki_unigrams.bin\")\n",
    "\n",
    "# compute sentence embeddings\n",
    "query_embeddings = model.embed_sentences(query_sentences)\n",
    "cited_embeddings = model.embed_sentences(cited_sentences)"
   ]
  },
  {
   "cell_type": "code",
   "execution_count": 8,
   "metadata": {},
   "outputs": [],
   "source": [
    "# from sentence_transformers import SentenceTransformer\n",
    "\n",
    "# model = SentenceTransformer(\"stsb-distilbert-base\")\n",
    "\n",
    "# # compute sentence embeddings\n",
    "# query_embeddings_dbert = model.encode(query_sentences)\n",
    "# cited_embeddings_dbert = model.encode(cited_sentences)"
   ]
  },
  {
   "cell_type": "markdown",
   "metadata": {},
   "source": [
    "## 4. Compute sentence similarity scores"
   ]
  },
  {
   "cell_type": "code",
   "execution_count": 9,
   "metadata": {},
   "outputs": [],
   "source": [
    "from sklearn.metrics.pairwise import cosine_similarity\n",
    "\n",
    "similarity = cosine_similarity(query_embeddings, cited_embeddings)"
   ]
  },
  {
   "cell_type": "code",
   "execution_count": 10,
   "metadata": {
    "scrolled": true
   },
   "outputs": [
    {
     "name": "stdout",
     "output_type": "stream",
     "text": [
      "[0.70592844, 'Therefore, until mechanisms have been elucidated by which plant sterols/stanols and in particular single dose of plant sterols/stanols reduce LDL levels, and until there are more studies on consumption of plant sterols/stanols as single dose; plant sterols should be consumed in two to three portions per day.']\n",
      "\n",
      "[0.6536287, 'The favorable effect of plant sterols/stanols on LDL cholesterol levels was also shown to be influenced by the frequency and time of intake of plant sterols.']\n",
      "\n",
      "[0.6523678, 'For studies that met the inclusion criteria and that possessed a Jadad score of equal or more than three, data were extracted for parameters related to (i) trial design; (ii) type of plant sterols/stanols; (iii) dose (g/day) and duration of plant sterol/stanol treatment; (iv) frequency and time of intake of plant sterols/stanols; (v) food carrier, to which plant sterols/stanols were incorporate; (vi) characteristics of the study population; (vii) the mean values and the standard deviations (SD) of LDL cholesterol levels; and (viii) sample size.']\n",
      "\n",
      "[0.6514652, 'In the overall pooled estimate, plant sterol/stanol consumption decreased LDL levels by 0.31 mmol/L (95% CI, (0.35 to (0.27, P 0B0.0001) compared with placebo.']\n",
      "\n",
      "[0.6371896, \"In conclusion, plant sterol/stanol containing products significantly reduced LDL concentrations but the reduction was related to individuals' baseline LDL levels, food carrier, frequency and time of intake.\"]\n",
      "\n"
     ]
    }
   ],
   "source": [
    "k = 5\n",
    "indices = np.argpartition(similarity, kth=-k, axis=None)[-k:]\n",
    "indices = np.flip(indices[np.argsort(similarity.flatten()[indices])])\n",
    "topk_similarity = similarity.flatten()[indices]\n",
    "\n",
    "topk_sentence_pairs = []\n",
    "for i in range(k): \n",
    "    ind = indices[i]\n",
    "    b = ind % similarity.shape[1]\n",
    "    topk_sentence_pairs.append([b, topk_similarity[i], \n",
    "                                    cited_sentences[b]])\n",
    "\n",
    "for s in topk_sentence_pairs:\n",
    "    print(s[1:])\n",
    "    print()"
   ]
  },
  {
   "cell_type": "code",
   "execution_count": 11,
   "metadata": {},
   "outputs": [
    {
     "name": "stdout",
     "output_type": "stream",
     "text": [
      "Therefore, until mechanisms have been elucidated by which plant sterols/stanols and in particular single dose of plant sterols/stanols reduce LDL levels, and until there are more studies on consumption of plant sterols/stanols as single dose; plant sterols should be consumed in two to three portions per day. The favorable effect of plant sterols/stanols on LDL cholesterol levels was also shown to be influenced by the frequency and time of intake of plant sterols. For studies that met the inclusion criteria and that possessed a Jadad score of equal or more than three, data were extracted for parameters related to (i) trial design; (ii) type of plant sterols/stanols; (iii) dose (g/day) and duration of plant sterol/stanol treatment; (iv) frequency and time of intake of plant sterols/stanols; (v) food carrier, to which plant sterols/stanols were incorporate; (vi) characteristics of the study population; (vii) the mean values and the standard deviations (SD) of LDL cholesterol levels; and (viii) sample size. In the overall pooled estimate, plant sterol/stanol consumption decreased LDL levels by 0.31 mmol/L (95% CI, (0.35 to (0.27, P 0B0.0001) compared with placebo. In conclusion, plant sterol/stanol containing products significantly reduced LDL concentrations but the reduction was related to individuals' baseline LDL levels, food carrier, frequency and time of intake.\n",
      "\n",
      "In addition, we here report comparable changes in serum cholesterol and lipoprotein concentrations as found in previously published meta-analyses [1] [2] [3] , implying that the included studies in this meta-analyses are representative of all available studies in the literature that have been performed with plant sterols and plant stanols.\n"
     ]
    }
   ],
   "source": [
    "topk_cited_sentences = \" \".join([p[-1] for p in topk_sentence_pairs])\n",
    "print(topk_cited_sentences)\n",
    "print()\n",
    "print(citation_sentence)"
   ]
  },
  {
   "cell_type": "code",
   "execution_count": 12,
   "metadata": {},
   "outputs": [
    {
     "name": "stdout",
     "output_type": "stream",
     "text": [
      "0.9032258064516129\n",
      "0.8181818181818182\n",
      "0.5942622950819673\n",
      "0.4883720930232558\n"
     ]
    }
   ],
   "source": [
    "for i in range(1,5):\n",
    "    print(rouge_n(citation_sentence, topk_cited_sentences, n=i))"
   ]
  },
  {
   "cell_type": "code",
   "execution_count": 13,
   "metadata": {},
   "outputs": [],
   "source": [
    "def get_topk_citation_sentences(manuscript_result_text, cited_text, k=5):\n",
    "    # TODO: reject sentences with scores < some threshold\n",
    "    \n",
    "    # tokenize into sentences\n",
    "    query_sentences = tokenizer.tokenize(manuscript_result_text)\n",
    "    cited_sentences = tokenizer.tokenize(cited_text)\n",
    "\n",
    "    # compute embeddings and cosine similarity matrix\n",
    "    query_embeddings = model.embed_sentences(query_sentences)\n",
    "    cited_embeddings = model.embed_sentences(cited_sentences)\n",
    "    similarity = cosine_similarity(query_embeddings, cited_embeddings)\n",
    "    \n",
    "    # get indices of highest similarity scores \n",
    "    indices = np.argpartition(similarity, kth=-k, axis=None)[-k:]\n",
    "    \n",
    "    # get indices in decreasing order wrt scores\n",
    "    indices = np.flip(indices[np.argsort(similarity.flatten()[indices])])\n",
    "    \n",
    "    # get corresponding sentences  \n",
    "    indices %= similarity.shape[1]\n",
    "    topk_cited_sentences = [cited_sentences[i] for i in indices]\n",
    "\n",
    "    return topk_cited_sentences"
   ]
  },
  {
   "cell_type": "markdown",
   "metadata": {},
   "source": [
    "## 5. Extractively summarize the entire dataset"
   ]
  },
  {
   "cell_type": "code",
   "execution_count": 14,
   "metadata": {},
   "outputs": [
    {
     "name": "stdout",
     "output_type": "stream",
     "text": [
      "['Therefore, until mechanisms have been elucidated by which plant sterols/stanols and in particular single dose of plant sterols/stanols reduce LDL levels, and until there are more studies on consumption of plant sterols/stanols as single dose; plant sterols should be consumed in two to three portions per day.', 'The favorable effect of plant sterols/stanols on LDL cholesterol levels was also shown to be influenced by the frequency and time of intake of plant sterols.', 'For studies that met the inclusion criteria and that possessed a Jadad score of equal or more than three, data were extracted for parameters related to (i) trial design; (ii) type of plant sterols/stanols; (iii) dose (g/day) and duration of plant sterol/stanol treatment; (iv) frequency and time of intake of plant sterols/stanols; (v) food carrier, to which plant sterols/stanols were incorporate; (vi) characteristics of the study population; (vii) the mean values and the standard deviations (SD) of LDL cholesterol levels; and (viii) sample size.', 'In the overall pooled estimate, plant sterol/stanol consumption decreased LDL levels by 0.31 mmol/L (95% CI, (0.35 to (0.27, P 0B0.0001) compared with placebo.', \"In conclusion, plant sterol/stanol containing products significantly reduced LDL concentrations but the reduction was related to individuals' baseline LDL levels, food carrier, frequency and time of intake.\"]\n"
     ]
    }
   ],
   "source": [
    "all_topk_cited_sentences = dataset[[\"manuscript_result_text\", \"cited_text\"]].apply(\n",
    "    lambda row: get_topk_citation_sentences(*row), axis=1\n",
    ")\n",
    "print(all_topk_cited_sentences[0])"
   ]
  },
  {
   "cell_type": "code",
   "execution_count": 15,
   "metadata": {},
   "outputs": [
    {
     "data": {
      "text/html": [
       "<div>\n",
       "<style scoped>\n",
       "    .dataframe tbody tr th:only-of-type {\n",
       "        vertical-align: middle;\n",
       "    }\n",
       "\n",
       "    .dataframe tbody tr th {\n",
       "        vertical-align: top;\n",
       "    }\n",
       "\n",
       "    .dataframe thead th {\n",
       "        text-align: right;\n",
       "    }\n",
       "</style>\n",
       "<table border=\"1\" class=\"dataframe\">\n",
       "  <thead>\n",
       "    <tr style=\"text-align: right;\">\n",
       "      <th></th>\n",
       "      <th>citation_sentence</th>\n",
       "      <th>manuscript_id</th>\n",
       "      <th>cited_id</th>\n",
       "      <th>cited_text</th>\n",
       "      <th>manuscript_result_text</th>\n",
       "      <th>topk_cited_sentences</th>\n",
       "    </tr>\n",
       "  </thead>\n",
       "  <tbody>\n",
       "    <tr>\n",
       "      <th>0</th>\n",
       "      <td>In addition, we here report comparable changes...</td>\n",
       "      <td>8281087</td>\n",
       "      <td>15228934</td>\n",
       "      <td>ietary incorporation of plant sterols and stan...</td>\n",
       "      <td>The systematic search retrieved 1084 potentia...</td>\n",
       "      <td>[Therefore, until mechanisms have been elucida...</td>\n",
       "    </tr>\n",
       "    <tr>\n",
       "      <th>1</th>\n",
       "      <td>In addition, we here report comparable changes...</td>\n",
       "      <td>8281087</td>\n",
       "      <td>20547173</td>\n",
       "      <td>Elevated plasma total cholesterol (TC) 5 and L...</td>\n",
       "      <td>The systematic search retrieved 1084 potentia...</td>\n",
       "      <td>[Given the substantial impact of baseline LDL-...</td>\n",
       "    </tr>\n",
       "    <tr>\n",
       "      <th>2</th>\n",
       "      <td>In addition, we here report comparable changes...</td>\n",
       "      <td>8281087</td>\n",
       "      <td>15671550</td>\n",
       "      <td>Phytosterols (PS), comprising both plant stero...</td>\n",
       "      <td>The systematic search retrieved 1084 potentia...</td>\n",
       "      <td>[For example, in the present analysis, we foun...</td>\n",
       "    </tr>\n",
       "    <tr>\n",
       "      <th>3</th>\n",
       "      <td>Such a discrepancy may likely be due to dose-o...</td>\n",
       "      <td>8281923</td>\n",
       "      <td>6704669</td>\n",
       "      <td>3,4-Methylenedioxymethamphetamine (MDMA; \"ecst...</td>\n",
       "      <td>Two earlier studies have reported that male 5...</td>\n",
       "      <td>[Figure 6 ., M .-7:00 P ., M ., M ., A group o...</td>\n",
       "    </tr>\n",
       "    <tr>\n",
       "      <th>4</th>\n",
       "      <td>Similar to earlier observations (42) , the inf...</td>\n",
       "      <td>11155963</td>\n",
       "      <td>4009171</td>\n",
       "      <td>Plasmodium falciparum is metabolically highly ...</td>\n",
       "      <td>Cell membrane scrambling, a hallmark of erypt...</td>\n",
       "      <td>[As illustrated in Fig. 1B (middle and right) ...</td>\n",
       "    </tr>\n",
       "  </tbody>\n",
       "</table>\n",
       "</div>"
      ],
      "text/plain": [
       "                                   citation_sentence manuscript_id  cited_id  \\\n",
       "0  In addition, we here report comparable changes...       8281087  15228934   \n",
       "1  In addition, we here report comparable changes...       8281087  20547173   \n",
       "2  In addition, we here report comparable changes...       8281087  15671550   \n",
       "3  Such a discrepancy may likely be due to dose-o...       8281923   6704669   \n",
       "4  Similar to earlier observations (42) , the inf...      11155963   4009171   \n",
       "\n",
       "                                          cited_text  \\\n",
       "0  ietary incorporation of plant sterols and stan...   \n",
       "1  Elevated plasma total cholesterol (TC) 5 and L...   \n",
       "2  Phytosterols (PS), comprising both plant stero...   \n",
       "3  3,4-Methylenedioxymethamphetamine (MDMA; \"ecst...   \n",
       "4  Plasmodium falciparum is metabolically highly ...   \n",
       "\n",
       "                              manuscript_result_text  \\\n",
       "0   The systematic search retrieved 1084 potentia...   \n",
       "1   The systematic search retrieved 1084 potentia...   \n",
       "2   The systematic search retrieved 1084 potentia...   \n",
       "3   Two earlier studies have reported that male 5...   \n",
       "4   Cell membrane scrambling, a hallmark of erypt...   \n",
       "\n",
       "                                topk_cited_sentences  \n",
       "0  [Therefore, until mechanisms have been elucida...  \n",
       "1  [Given the substantial impact of baseline LDL-...  \n",
       "2  [For example, in the present analysis, we foun...  \n",
       "3  [Figure 6 ., M .-7:00 P ., M ., M ., A group o...  \n",
       "4  [As illustrated in Fig. 1B (middle and right) ...  "
      ]
     },
     "metadata": {},
     "output_type": "display_data"
    }
   ],
   "source": [
    "dataset[\"topk_cited_sentences\"] = all_topk_cited_sentences\n",
    "display(dataset.head())"
   ]
  },
  {
   "cell_type": "code",
   "execution_count": 16,
   "metadata": {},
   "outputs": [],
   "source": [
    "rouge = {i:[] for i in range(1,5)}\n",
    "for _, row in dataset.iterrows():\n",
    "    for i in range(1,5):\n",
    "        rouge[i].append(rouge_n(row.citation_sentence, \" \".join(row.topk_cited_sentences), n=i))"
   ]
  },
  {
   "cell_type": "code",
   "execution_count": 17,
   "metadata": {},
   "outputs": [
    {
     "data": {
      "text/html": [
       "<div>\n",
       "<style scoped>\n",
       "    .dataframe tbody tr th:only-of-type {\n",
       "        vertical-align: middle;\n",
       "    }\n",
       "\n",
       "    .dataframe tbody tr th {\n",
       "        vertical-align: top;\n",
       "    }\n",
       "\n",
       "    .dataframe thead th {\n",
       "        text-align: right;\n",
       "    }\n",
       "</style>\n",
       "<table border=\"1\" class=\"dataframe\">\n",
       "  <thead>\n",
       "    <tr style=\"text-align: right;\">\n",
       "      <th></th>\n",
       "      <th>citation_sentence</th>\n",
       "      <th>manuscript_id</th>\n",
       "      <th>cited_id</th>\n",
       "      <th>cited_text</th>\n",
       "      <th>manuscript_result_text</th>\n",
       "      <th>topk_cited_sentences</th>\n",
       "      <th>rouge_1</th>\n",
       "      <th>rouge_2</th>\n",
       "      <th>rouge_3</th>\n",
       "      <th>rouge_4</th>\n",
       "    </tr>\n",
       "  </thead>\n",
       "  <tbody>\n",
       "    <tr>\n",
       "      <th>0</th>\n",
       "      <td>In addition, we here report comparable changes...</td>\n",
       "      <td>8281087</td>\n",
       "      <td>15228934</td>\n",
       "      <td>ietary incorporation of plant sterols and stan...</td>\n",
       "      <td>The systematic search retrieved 1084 potentia...</td>\n",
       "      <td>[Therefore, until mechanisms have been elucida...</td>\n",
       "      <td>0.903226</td>\n",
       "      <td>0.818182</td>\n",
       "      <td>0.594262</td>\n",
       "      <td>0.488372</td>\n",
       "    </tr>\n",
       "    <tr>\n",
       "      <th>1</th>\n",
       "      <td>In addition, we here report comparable changes...</td>\n",
       "      <td>8281087</td>\n",
       "      <td>20547173</td>\n",
       "      <td>Elevated plasma total cholesterol (TC) 5 and L...</td>\n",
       "      <td>The systematic search retrieved 1084 potentia...</td>\n",
       "      <td>[Given the substantial impact of baseline LDL-...</td>\n",
       "      <td>0.935484</td>\n",
       "      <td>0.706294</td>\n",
       "      <td>0.450820</td>\n",
       "      <td>0.365449</td>\n",
       "    </tr>\n",
       "    <tr>\n",
       "      <th>2</th>\n",
       "      <td>In addition, we here report comparable changes...</td>\n",
       "      <td>8281087</td>\n",
       "      <td>15671550</td>\n",
       "      <td>Phytosterols (PS), comprising both plant stero...</td>\n",
       "      <td>The systematic search retrieved 1084 potentia...</td>\n",
       "      <td>[For example, in the present analysis, we foun...</td>\n",
       "      <td>0.870968</td>\n",
       "      <td>0.839161</td>\n",
       "      <td>0.610656</td>\n",
       "      <td>0.495017</td>\n",
       "    </tr>\n",
       "    <tr>\n",
       "      <th>3</th>\n",
       "      <td>Such a discrepancy may likely be due to dose-o...</td>\n",
       "      <td>8281923</td>\n",
       "      <td>6704669</td>\n",
       "      <td>3,4-Methylenedioxymethamphetamine (MDMA; \"ecst...</td>\n",
       "      <td>Two earlier studies have reported that male 5...</td>\n",
       "      <td>[Figure 6 ., M .-7:00 P ., M ., M ., A group o...</td>\n",
       "      <td>0.750000</td>\n",
       "      <td>0.201258</td>\n",
       "      <td>0.136364</td>\n",
       "      <td>0.062257</td>\n",
       "    </tr>\n",
       "    <tr>\n",
       "      <th>4</th>\n",
       "      <td>Similar to earlier observations (42) , the inf...</td>\n",
       "      <td>11155963</td>\n",
       "      <td>4009171</td>\n",
       "      <td>Plasmodium falciparum is metabolically highly ...</td>\n",
       "      <td>Cell membrane scrambling, a hallmark of erypt...</td>\n",
       "      <td>[As illustrated in Fig. 1B (middle and right) ...</td>\n",
       "      <td>0.843750</td>\n",
       "      <td>0.647619</td>\n",
       "      <td>0.391304</td>\n",
       "      <td>0.231293</td>\n",
       "    </tr>\n",
       "  </tbody>\n",
       "</table>\n",
       "</div>"
      ],
      "text/plain": [
       "                                   citation_sentence manuscript_id  cited_id  \\\n",
       "0  In addition, we here report comparable changes...       8281087  15228934   \n",
       "1  In addition, we here report comparable changes...       8281087  20547173   \n",
       "2  In addition, we here report comparable changes...       8281087  15671550   \n",
       "3  Such a discrepancy may likely be due to dose-o...       8281923   6704669   \n",
       "4  Similar to earlier observations (42) , the inf...      11155963   4009171   \n",
       "\n",
       "                                          cited_text  \\\n",
       "0  ietary incorporation of plant sterols and stan...   \n",
       "1  Elevated plasma total cholesterol (TC) 5 and L...   \n",
       "2  Phytosterols (PS), comprising both plant stero...   \n",
       "3  3,4-Methylenedioxymethamphetamine (MDMA; \"ecst...   \n",
       "4  Plasmodium falciparum is metabolically highly ...   \n",
       "\n",
       "                              manuscript_result_text  \\\n",
       "0   The systematic search retrieved 1084 potentia...   \n",
       "1   The systematic search retrieved 1084 potentia...   \n",
       "2   The systematic search retrieved 1084 potentia...   \n",
       "3   Two earlier studies have reported that male 5...   \n",
       "4   Cell membrane scrambling, a hallmark of erypt...   \n",
       "\n",
       "                                topk_cited_sentences   rouge_1   rouge_2  \\\n",
       "0  [Therefore, until mechanisms have been elucida...  0.903226  0.818182   \n",
       "1  [Given the substantial impact of baseline LDL-...  0.935484  0.706294   \n",
       "2  [For example, in the present analysis, we foun...  0.870968  0.839161   \n",
       "3  [Figure 6 ., M .-7:00 P ., M ., M ., A group o...  0.750000  0.201258   \n",
       "4  [As illustrated in Fig. 1B (middle and right) ...  0.843750  0.647619   \n",
       "\n",
       "    rouge_3   rouge_4  \n",
       "0  0.594262  0.488372  \n",
       "1  0.450820  0.365449  \n",
       "2  0.610656  0.495017  \n",
       "3  0.136364  0.062257  \n",
       "4  0.391304  0.231293  "
      ]
     },
     "metadata": {},
     "output_type": "display_data"
    }
   ],
   "source": [
    "for i in range(1,5):\n",
    "    dataset[f\"rouge_{i}\"] = rouge[i]\n",
    "display(dataset.head())"
   ]
  },
  {
   "cell_type": "code",
   "execution_count": 18,
   "metadata": {},
   "outputs": [
    {
     "data": {
      "text/plain": [
       "array([[<AxesSubplot:title={'center':'rouge_1'}>,\n",
       "        <AxesSubplot:title={'center':'rouge_2'}>]], dtype=object)"
      ]
     },
     "metadata": {},
     "output_type": "display_data"
    },
    {
     "data": {
      "text/plain": [
       "array([[<AxesSubplot:title={'center':'rouge_3'}>,\n",
       "        <AxesSubplot:title={'center':'rouge_4'}>]], dtype=object)"
      ]
     },
     "metadata": {},
     "output_type": "display_data"
    },
    {
     "data": {
      "image/png": "[encoded data removed]",
      "text/plain": [
       "<Figure size 432x288 with 2 Axes>"
      ]
     },
     "metadata": {
      "needs_background": "light"
     },
     "output_type": "display_data"
    },
    {
     "data": {
      "image/png": "[encoded data removed]",
      "text/plain": [
       "<Figure size 432x288 with 2 Axes>"
      ]
     },
     "metadata": {
      "needs_background": "light"
     },
     "output_type": "display_data"
    }
   ],
   "source": [
    "display(dataset[[\"rouge_1\", \"rouge_2\"]].hist())\n",
    "display(dataset[[\"rouge_3\", \"rouge_4\"]].hist())"
   ]
  },
  {
   "cell_type": "code",
   "execution_count": 30,
   "metadata": {},
   "outputs": [
    {
     "name": "stdout",
     "output_type": "stream",
     "text": [
      "1.0\n",
      "They found that the improvement in OS was only marginally statistically significant in patients receiving TKIs therapy, which was similar to our conclusion [7, 8] .\n",
      "\n",
      "However, a recent trial reported that chemotherapy was superior over erlotinib as second-line treatment for patients without EGFR mutations in exon 19 or 21 (14) .\n",
      "Although a small benefit of EGFR-TKIs over placebo in the EGFRmut -subgroup has been demonstrated in three maintenance studies [SATURN (13) , INFORM (30) , and IFCT-GFPC 0502 (32, 44) ] (pooled HR = 0.81; 95% CI = 0.68 to 0.97; P = .02), it must be realized that this benefit is markedly and both clinically and statistically significantly greater in EGFRmut + subgroups (pooled HR = 0.15; 95% CI = 0.08 to 0.27; P < .001), and the test of interaction between EGFR mutation status and treatment is highly statistically significant (P < .001).\n",
      "Clinicopathological and demographic characteristics of patients enrolled in these studies are summarized in Table 1 .\n",
      "A sensitivity analysis was also conducted to examine the impact of the overall results from this study by limiting the analyses on front-line trials that were known to have determined EGFR mutation based on exons 19 and 21 only.\n",
      "However, a recent trial reported that chemotherapy was superior over erlotinib as second-line treatment for patients without EGFR mutations in exon 19 or 21 (14) .\n"
     ]
    }
   ],
   "source": [
    "ind = dataset.rouge_1.argmax()\n",
    "row = dataset.loc[ind]\n",
    "print(row[\"rouge_1\"])\n",
    "print(row[\"citation_sentence\"])\n",
    "print()\n",
    "for s in row[\"topk_cited_sentences\"]: print(s)"
   ]
  },
  {
   "cell_type": "markdown",
   "metadata": {},
   "source": [
    "## 6. Convert to scr"
   ]
  },
  {
   "cell_type": "code",
   "execution_count": 19,
   "metadata": {},
   "outputs": [],
   "source": [
    "# import time\n",
    "\n",
    "# from nltk.tokenize.punkt import PunktSentenceTokenizer, PunktParameters\n",
    "\n",
    "# import sent2vec\n",
    "# from sklearn.metrics.pairwise import cosine_similarity\n",
    "\n",
    "# # initialise sentence tokenizer\n",
    "# # tokenizer should not split at abbrieviations\n",
    "# punkt_params = PunktParameters()\n",
    "# punkt_params.abbrev_types = set([\"i.e\", \"e.g\", \"etc\", \"al\", \"fig\", \"figs\", \n",
    "#                                  \"ref\", \"refs\", \"p\", \"c\", \"s\"]) \n",
    "# tokenizer = PunktSentenceTokenizer(punkt_params)\n",
    "\n",
    "# # initialise sentence embedding model \n",
    "# model = sent2vec.Sent2vecModel()\n",
    "# model.load_model(\"../sent2vec/wiki_unigrams.bin\")\n",
    "    \n",
    "\n",
    "# time_taken = []\n",
    "# all_topk_scores = []\n",
    "# all_topk_cited_sentences = []\n",
    "# all_rouge = {i:[] for i in range(5)}\n",
    "# with open(\"../data/citation_generation/unique_dataset.jsonl\", \"r\") as f:\n",
    "#     for line in tqdm(f):\n",
    "#         start = time.time()\n",
    "#         row = json.loads(line)\n",
    "        \n",
    "#         # extract data from row\n",
    "#         citation_sentence = row[\"citation_sentence\"]\n",
    "#         manuscript_result_text = row[\"manuscript_result_text\"]\n",
    "#         cited_text = row[\"cited_text\"]\n",
    "        \n",
    "#         # tokenize manuscript_result_text, cited_text into sentences\n",
    "#         query_sentences = tokenizer.tokenize(manuscript_result_text)\n",
    "#         cited_sentences = tokenizer.tokenize(cited_text)\n",
    "        \n",
    "#         # compute sentence embeddings\n",
    "#         query_embeddings = model.embed_sentences(query_sentences)\n",
    "#         cited_embeddings = model.embed_sentences(cited_sentences)\n",
    "        \n",
    "#         # compute similarity matrix\n",
    "#         similarity = cosine_similarity(query_embeddings, cited_embeddings)\n",
    "        \n",
    "#         # get indices of highest similarity scores \n",
    "#         indices = np.argpartition(similarity, kth=-k, axis=None)[-k:]\n",
    "\n",
    "#         # get indices in decreasing order wrt scores and corresponding scores \n",
    "#         indices = np.flip(indices[np.argsort(similarity.flatten()[indices])])\n",
    "#         topk_scores = similarity.flatten()[indices]\n",
    "#         all_topk_scores.append(topk_scores)\n",
    "        \n",
    "#         # get corresponding cited_sentences \n",
    "#         indices %= similarity.shape[1]\n",
    "#         topk_cited_sentences = [cited_sentences[i] for i in indices]\n",
    "#         all_topk_cited_sentences.append(topk_cited_sentences)\n",
    "\n",
    "#         # record rouge scores\n",
    "#         for i in range(1,5):\n",
    "#             all_rouge[i].append(rouge_n(citation_sentence, \" \".join(topk_cited_sentences), n=i))\n",
    "        \n",
    "#         # record time taken for this row\n",
    "#         time_taken.append(time.time() - start)\n",
    "#         break"
   ]
  },
  {
   "cell_type": "code",
   "execution_count": null,
   "metadata": {},
   "outputs": [],
   "source": []
  }
 ],
 "metadata": {
  "kernelspec": {
   "display_name": "Python 3",
   "language": "python",
   "name": "python3"
  },
  "language_info": {
   "codemirror_mode": {
    "name": "ipython",
    "version": 3
   },
   "file_extension": ".py",
   "mimetype": "text/x-python",
   "name": "python",
   "nbconvert_exporter": "python",
   "pygments_lexer": "ipython3",
   "version": "3.7.10"
  }
 },
 "nbformat": 4,
 "nbformat_minor": 4
}
