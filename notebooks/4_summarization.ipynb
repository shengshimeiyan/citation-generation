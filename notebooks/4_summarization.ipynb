{
 "cells": [
  {
   "cell_type": "code",
   "execution_count": 1,
   "metadata": {
    "collapsed": true,
    "jupyter": {
     "outputs_hidden": true
    }
   },
   "outputs": [],
   "source": [
    "import json\n",
    "import random\n",
    "import tqdm\n",
    "from tqdm import tqdm\n",
    "\n",
    "import numpy as np\n",
    "import pandas as pd"
   ]
  },
  {
   "cell_type": "code",
   "execution_count": 2,
   "metadata": {
    "collapsed": true,
    "jupyter": {
     "outputs_hidden": true
    },
    "scrolled": true
   },
   "outputs": [
    {
     "name": "stderr",
     "output_type": "stream",
     "text": [
      "100it [00:00, 8616.25it/s]\n"
     ]
    },
    {
     "data": {
      "text/html": [
       "<div>\n",
       "<style scoped>\n",
       "    .dataframe tbody tr th:only-of-type {\n",
       "        vertical-align: middle;\n",
       "    }\n",
       "\n",
       "    .dataframe tbody tr th {\n",
       "        vertical-align: top;\n",
       "    }\n",
       "\n",
       "    .dataframe thead th {\n",
       "        text-align: right;\n",
       "    }\n",
       "</style>\n",
       "<table border=\"1\" class=\"dataframe\">\n",
       "  <thead>\n",
       "    <tr style=\"text-align: right;\">\n",
       "      <th></th>\n",
       "      <th>citation_sentence</th>\n",
       "      <th>manuscript_id</th>\n",
       "      <th>cited_id</th>\n",
       "      <th>manuscript_text</th>\n",
       "      <th>cited_text</th>\n",
       "    </tr>\n",
       "  </thead>\n",
       "  <tbody>\n",
       "    <tr>\n",
       "      <th>0</th>\n",
       "      <td>Such a discrepancy may likely be due to dose-o...</td>\n",
       "      <td>8281923</td>\n",
       "      <td>6704669</td>\n",
       "      <td>[, Two earlier studies have reported that male...</td>\n",
       "      <td>[{'section': '', 'text': '3,4-Methylenedioxyme...</td>\n",
       "    </tr>\n",
       "    <tr>\n",
       "      <th>1</th>\n",
       "      <td>Similar to earlier observations (42) , the inf...</td>\n",
       "      <td>11155963</td>\n",
       "      <td>4009171</td>\n",
       "      <td>[, Cell membrane scrambling, a hallmark of ery...</td>\n",
       "      <td>[{'section': '', 'text': 'Plasmodium falciparu...</td>\n",
       "    </tr>\n",
       "    <tr>\n",
       "      <th>2</th>\n",
       "      <td>In a cohort study in Korea (20) , the highest ...</td>\n",
       "      <td>11158470</td>\n",
       "      <td>15153392</td>\n",
       "      <td>[During 1,288,820 person-years of follow-up (a...</td>\n",
       "      <td>[{'section': '', 'text': 'Several previous stu...</td>\n",
       "    </tr>\n",
       "    <tr>\n",
       "      <th>3</th>\n",
       "      <td>This finding can be explained by the fact that...</td>\n",
       "      <td>11159272</td>\n",
       "      <td>14840523</td>\n",
       "      <td>[Static pressure profiles are shown in Fig. 3 ...</td>\n",
       "      <td>[{'section': '', 'text': 'A therosclerosis occ...</td>\n",
       "    </tr>\n",
       "    <tr>\n",
       "      <th>4</th>\n",
       "      <td>However, the result of CFD simulation in this ...</td>\n",
       "      <td>11159272</td>\n",
       "      <td>13786003</td>\n",
       "      <td>[Static pressure profiles are shown in Fig. 3 ...</td>\n",
       "      <td>[{'section': '', 'text': 'lesions therefore fa...</td>\n",
       "    </tr>\n",
       "  </tbody>\n",
       "</table>\n",
       "</div>"
      ],
      "text/plain": [
       "                                   citation_sentence manuscript_id  cited_id  \\\n",
       "0  Such a discrepancy may likely be due to dose-o...       8281923   6704669   \n",
       "1  Similar to earlier observations (42) , the inf...      11155963   4009171   \n",
       "2  In a cohort study in Korea (20) , the highest ...      11158470  15153392   \n",
       "3  This finding can be explained by the fact that...      11159272  14840523   \n",
       "4  However, the result of CFD simulation in this ...      11159272  13786003   \n",
       "\n",
       "                                     manuscript_text  \\\n",
       "0  [, Two earlier studies have reported that male...   \n",
       "1  [, Cell membrane scrambling, a hallmark of ery...   \n",
       "2  [During 1,288,820 person-years of follow-up (a...   \n",
       "3  [Static pressure profiles are shown in Fig. 3 ...   \n",
       "4  [Static pressure profiles are shown in Fig. 3 ...   \n",
       "\n",
       "                                          cited_text  \n",
       "0  [{'section': '', 'text': '3,4-Methylenedioxyme...  \n",
       "1  [{'section': '', 'text': 'Plasmodium falciparu...  \n",
       "2  [{'section': '', 'text': 'Several previous stu...  \n",
       "3  [{'section': '', 'text': 'A therosclerosis occ...  \n",
       "4  [{'section': '', 'text': 'lesions therefore fa...  "
      ]
     },
     "metadata": {},
     "output_type": "display_data"
    }
   ],
   "source": [
    "train = []\n",
    "with open(\"../data/citation_generation/train.jsonl\", \"r\") as f:\n",
    "    for i, line in tqdm(enumerate(f)):\n",
    "        row = json.loads(line)\n",
    "        train.append(row)\n",
    "        \n",
    "        if i == 100: break\n",
    "\n",
    "train = pd.DataFrame(train)\n",
    "display(train.head())"
   ]
  },
  {
   "cell_type": "code",
   "execution_count": 3,
   "metadata": {
    "collapsed": true,
    "jupyter": {
     "outputs_hidden": true
    },
    "scrolled": true
   },
   "outputs": [],
   "source": [
    "# sentence tokenizer \n",
    "from nltk.tokenize.punkt import PunktSentenceTokenizer, PunktParameters\n",
    "\n",
    "# tokenizer should not split at abbrieviations\n",
    "abbreviations = [\"i.e\", \"e.g\", \"etc\", \"al\", \"fig\", \"figs\", \"ref\", \"refs\"]\n",
    "abbreviations.extend([chr(x) for x in range(97,123)])\n",
    "punkt_params = PunktParameters()\n",
    "punkt_params.abbrev_types = set(abbreviations) \n",
    "\n",
    "# initialise sentence tokenizer\n",
    "tokenizer = PunktSentenceTokenizer(punkt_params)"
   ]
  },
  {
   "cell_type": "code",
   "execution_count": 4,
   "metadata": {
    "collapsed": true,
    "jupyter": {
     "outputs_hidden": true
    }
   },
   "outputs": [],
   "source": [
    "# sentence embedding model\n",
    "import sent2vec\n",
    "\n",
    "model = sent2vec.Sent2vecModel()\n",
    "model.load_model(\"../sent2vec/wiki_unigrams.bin\")"
   ]
  },
  {
   "cell_type": "code",
   "execution_count": 5,
   "metadata": {
    "collapsed": true,
    "jupyter": {
     "outputs_hidden": true
    }
   },
   "outputs": [],
   "source": [
    "# similarity metric\n",
    "from sklearn.metrics.pairwise import cosine_similarity"
   ]
  },
  {
   "cell_type": "code",
   "execution_count": 6,
   "metadata": {
    "collapsed": true,
    "jupyter": {
     "outputs_hidden": true
    }
   },
   "outputs": [],
   "source": [
    "# ROUGE scorer\n",
    "from rouge_score import rouge_scorer\n",
    "\n",
    "rouge_N = [\"rouge1\", \"rouge2\", \"rougeL\"]\n",
    "scorer = rouge_scorer.RougeScorer(rouge_N, use_stemmer=True)\n",
    "\n",
    "def get_rouge_scores(gold_texts, query_texts):\n",
    "    all_scores = []\n",
    "    \n",
    "    for gold, query in zip(gold_texts, query_texts):\n",
    "        scores = list(scorer.score(gold, query).values())\n",
    "        all_scores.append(scores)\n",
    "\n",
    "    return np.array(all_scores)"
   ]
  },
  {
   "cell_type": "code",
   "execution_count": 7,
   "metadata": {
    "collapsed": true,
    "jupyter": {
     "outputs_hidden": true
    }
   },
   "outputs": [],
   "source": [
    "# IDEA: combine sentences that are very short/have weird ending punctuation marks with previous sentence?\n",
    "def combine_short_sentences_with_previous(sentences, min_length=5):\n",
    "    all_long = all(len(s.split()) > min_length for s in sentences[1:])\n",
    "    \n",
    "    while not all_long:\n",
    "        new_sentences = []\n",
    "        for j, s in enumerate(sentences): \n",
    "            if j == 0: \n",
    "                new_sentences.append(s)\n",
    "            elif s[-1] not in set([\".\", \"?\", \"!\"]) or len(s.split()) <= min_length:\n",
    "                new_sentences[-1] += s\n",
    "            else:\n",
    "                new_sentences.append(s)\n",
    "               \n",
    "        all_long = all(map(lambda s: len(s.split()) > min_length, new_sentences[1:]))\n",
    "        sentences = new_sentences\n",
    "    \n",
    "    return sentences"
   ]
  },
  {
   "cell_type": "markdown",
   "metadata": {},
   "source": [
    "## A. Retrieve sentence pairs with highest similarity scores \n",
    "\n",
    "- \"brute-force\" approach: \n",
    "    - for each sentence pair from (manuscript_sentences, cited_sentences), \n",
    "    - compute their cosine similarity \n",
    "    - return the sentence pairs that attain the highest similarity scores"
   ]
  },
  {
   "cell_type": "code",
   "execution_count": 45,
   "metadata": {
    "collapsed": true,
    "jupyter": {
     "outputs_hidden": true
    }
   },
   "outputs": [],
   "source": [
    "def get_topk_pairs(manuscript_text, cited_text, k=5): \n",
    "    manuscript_sentences = combine_short_sentences_with_previous(tokenizer.tokenize(manuscript_text))\n",
    "    cited_sentences = combine_short_sentences_with_previous(tokenizer.tokenize(cited_text))\n",
    "    \n",
    "    if len(manuscript_sentences) < k or len(cited_sentences) < k:\n",
    "        return []\n",
    "    \n",
    "    manuscript_embeddings = model.embed_sentences(manuscript_sentences)\n",
    "    cited_embeddings = model.embed_sentences(cited_sentences)\n",
    "    similarity = cosine_similarity(manuscript_embeddings, cited_embeddings)\n",
    "    \n",
    "    indices = np.argpartition(similarity, kth=-k, axis=None)[-k:]\n",
    "    indices = np.flip(indices[np.argsort(similarity.flatten()[indices])])\n",
    "    topk_similarity = similarity.flatten()[indices]\n",
    "\n",
    "    manuscript_indices = indices % similarity.shape[0]\n",
    "    cited_indices = indices % similarity.shape[1]\n",
    "    \n",
    "    topk_manuscript_sentences = [manuscript_sentences[i] for i in manuscript_indices]\n",
    "    topk_cited_sentences = [cited_sentences[i] for i in cited_indices]\n",
    "    \n",
    "    return list(zip(topk_similarity, topk_manuscript_sentences, topk_cited_sentences))"
   ]
  },
  {
   "cell_type": "code",
   "execution_count": 66,
   "metadata": {
    "collapsed": true,
    "jupyter": {
     "outputs_hidden": true
    }
   },
   "outputs": [],
   "source": [
    "# apply method_A on train\n",
    "method_A = train.copy()\n",
    "all_topk_pairs = []\n",
    "for _, row in method_A.iterrows():\n",
    "    topk_pairs = get_topk_pairs(\n",
    "        \" \".join(row.manuscript_text).lower(), \n",
    "        \" \".join(para[\"text\"] for para in row.cited_text).lower(), \n",
    "        k=5\n",
    "    )\n",
    "    all_topk_pairs.append(topk_pairs)\n",
    "    \n",
    "method_A[\"topk_pairs\"] = all_topk_pairs"
   ]
  },
  {
   "cell_type": "code",
   "execution_count": 67,
   "metadata": {
    "collapsed": true,
    "jupyter": {
     "outputs_hidden": true
    }
   },
   "outputs": [
    {
     "data": {
      "text/html": [
       "<div>\n",
       "<style scoped>\n",
       "    .dataframe tbody tr th:only-of-type {\n",
       "        vertical-align: middle;\n",
       "    }\n",
       "\n",
       "    .dataframe tbody tr th {\n",
       "        vertical-align: top;\n",
       "    }\n",
       "\n",
       "    .dataframe thead th {\n",
       "        text-align: right;\n",
       "    }\n",
       "</style>\n",
       "<table border=\"1\" class=\"dataframe\">\n",
       "  <thead>\n",
       "    <tr style=\"text-align: right;\">\n",
       "      <th></th>\n",
       "      <th>citation_sentence</th>\n",
       "      <th>manuscript_id</th>\n",
       "      <th>cited_id</th>\n",
       "      <th>manuscript_text</th>\n",
       "      <th>cited_text</th>\n",
       "      <th>topk_pairs</th>\n",
       "    </tr>\n",
       "  </thead>\n",
       "  <tbody>\n",
       "    <tr>\n",
       "      <th>26</th>\n",
       "      <td>Various results were obtained from the studies...</td>\n",
       "      <td>22685229</td>\n",
       "      <td>14053509</td>\n",
       "      <td>[In this study, a total of 3366 clinical sampl...</td>\n",
       "      <td>[{'section': '', 'text': 'Pseudomonas aerugino...</td>\n",
       "      <td>[]</td>\n",
       "    </tr>\n",
       "    <tr>\n",
       "      <th>27</th>\n",
       "      <td>In many studies conducted on patients with imm...</td>\n",
       "      <td>22685229</td>\n",
       "      <td>18780913</td>\n",
       "      <td>[In this study, a total of 3366 clinical sampl...</td>\n",
       "      <td>[{'section': 'Introduction', 'text': 'Infectio...</td>\n",
       "      <td>[]</td>\n",
       "    </tr>\n",
       "    <tr>\n",
       "      <th>40</th>\n",
       "      <td>According to the authors, this review confirme...</td>\n",
       "      <td>37027814</td>\n",
       "      <td>20358884</td>\n",
       "      <td>[Sixty-five (71.4%) events started while child...</td>\n",
       "      <td>[{'section': '', 'text': 'A n apparent life th...</td>\n",
       "      <td>[]</td>\n",
       "    </tr>\n",
       "    <tr>\n",
       "      <th>67</th>\n",
       "      <td>Our previous results show that the trend direc...</td>\n",
       "      <td>10871089</td>\n",
       "      <td>12198745</td>\n",
       "      <td>[Younger employees with higher education had l...</td>\n",
       "      <td>[{'section': '', 'text': 'Sickness absence (SA...</td>\n",
       "      <td>[]</td>\n",
       "    </tr>\n",
       "  </tbody>\n",
       "</table>\n",
       "</div>"
      ],
      "text/plain": [
       "                                    citation_sentence manuscript_id  cited_id  \\\n",
       "26  Various results were obtained from the studies...      22685229  14053509   \n",
       "27  In many studies conducted on patients with imm...      22685229  18780913   \n",
       "40  According to the authors, this review confirme...      37027814  20358884   \n",
       "67  Our previous results show that the trend direc...      10871089  12198745   \n",
       "\n",
       "                                      manuscript_text  \\\n",
       "26  [In this study, a total of 3366 clinical sampl...   \n",
       "27  [In this study, a total of 3366 clinical sampl...   \n",
       "40  [Sixty-five (71.4%) events started while child...   \n",
       "67  [Younger employees with higher education had l...   \n",
       "\n",
       "                                           cited_text topk_pairs  \n",
       "26  [{'section': '', 'text': 'Pseudomonas aerugino...         []  \n",
       "27  [{'section': 'Introduction', 'text': 'Infectio...         []  \n",
       "40  [{'section': '', 'text': 'A n apparent life th...         []  \n",
       "67  [{'section': '', 'text': 'Sickness absence (SA...         []  "
      ]
     },
     "metadata": {},
     "output_type": "display_data"
    }
   ],
   "source": [
    "# some rows have manuscript_texts that are very short \n",
    "display(method_A[method_A.topk_pairs.apply(lambda p: p == [])])\n",
    "\n",
    "method_A = method_A[method_A.topk_pairs.apply(lambda p: p != [])]"
   ]
  },
  {
   "cell_type": "markdown",
   "metadata": {},
   "source": [
    "### B. Back-and-forth search?\n",
    "\n",
    "- get manuscript_sentences that are closest to the cited_paper (as a whole)\n",
    "- get cited_sentences that are closest to the concatenation of the selected manuscript_sentences"
   ]
  },
  {
   "cell_type": "code",
   "execution_count": 76,
   "metadata": {
    "collapsed": true,
    "jupyter": {
     "outputs_hidden": true
    }
   },
   "outputs": [],
   "source": [
    "def get_topk_sentences(query_text, refer_text, k=5):\n",
    "    \"\"\"\n",
    "    Retrieve k sentences from query_text that are most similar to refer_text\n",
    "    \"\"\"\n",
    "    \n",
    "    query_sentences = combine_short_sentences_with_previous(\n",
    "        tokenizer.tokenize(query_text))\n",
    "    if len(query_sentences) < k or refer_text == \"\": \n",
    "        return []\n",
    "    \n",
    "    query_embeddings = model.embed_sentences(query_sentences)\n",
    "    refer_embedding = model.embed_sentence(refer_text)\n",
    "    \n",
    "    similarity = cosine_similarity(query_embeddings, refer_embedding).flatten()\n",
    "    \n",
    "    indices = np.argpartition(similarity, kth=-k)[-k:]\n",
    "    indices = np.flip(indices[np.argsort(similarity[indices])])\n",
    "    topk_similarity = similarity[indices]\n",
    "    \n",
    "    topk_query_sentences = [query_sentences[i] for i in indices]\n",
    "    return list(zip(topk_similarity, topk_query_sentences))"
   ]
  },
  {
   "cell_type": "code",
   "execution_count": 77,
   "metadata": {
    "collapsed": true,
    "jupyter": {
     "outputs_hidden": true
    }
   },
   "outputs": [],
   "source": [
    "method_B = train.copy()\n",
    "\n",
    "all_topk_manuscript_sentences = []\n",
    "all_topk_cited_sentences = []\n",
    "for i, row in method_B.iterrows():\n",
    "    manuscript_text = \" \".join(row.manuscript_text).lower()\n",
    "    cited_text = \" \".join([para[\"text\"] for para in row.cited_text]).lower()\n",
    "        \n",
    "    topk_manuscript_sentences = get_topk_sentences(manuscript_text, cited_text)\n",
    "    all_topk_manuscript_sentences.append(topk_manuscript_sentences)\n",
    "    \n",
    "    topk_cited_sentences = get_topk_sentences(\n",
    "        cited_text, \" \".join([p[1] for p in topk_manuscript_sentences])\n",
    "    )\n",
    "    all_topk_cited_sentences.append(topk_cited_sentences)\n",
    "\n",
    "method_B[\"topk_manuscript_sentences\"] = all_topk_manuscript_sentences\n",
    "method_B[\"topk_cited_sentences\"] = all_topk_cited_sentences"
   ]
  },
  {
   "cell_type": "code",
   "execution_count": 86,
   "metadata": {
    "collapsed": true,
    "jupyter": {
     "outputs_hidden": true
    }
   },
   "outputs": [
    {
     "data": {
      "text/html": [
       "<div>\n",
       "<style scoped>\n",
       "    .dataframe tbody tr th:only-of-type {\n",
       "        vertical-align: middle;\n",
       "    }\n",
       "\n",
       "    .dataframe tbody tr th {\n",
       "        vertical-align: top;\n",
       "    }\n",
       "\n",
       "    .dataframe thead th {\n",
       "        text-align: right;\n",
       "    }\n",
       "</style>\n",
       "<table border=\"1\" class=\"dataframe\">\n",
       "  <thead>\n",
       "    <tr style=\"text-align: right;\">\n",
       "      <th></th>\n",
       "      <th>citation_sentence</th>\n",
       "      <th>manuscript_id</th>\n",
       "      <th>cited_id</th>\n",
       "      <th>manuscript_text</th>\n",
       "      <th>cited_text</th>\n",
       "      <th>topk_manuscript_sentences</th>\n",
       "      <th>topk_cited_sentences</th>\n",
       "    </tr>\n",
       "  </thead>\n",
       "  <tbody>\n",
       "    <tr>\n",
       "      <th>26</th>\n",
       "      <td>Various results were obtained from the studies...</td>\n",
       "      <td>22685229</td>\n",
       "      <td>14053509</td>\n",
       "      <td>[In this study, a total of 3366 clinical sampl...</td>\n",
       "      <td>[{'section': '', 'text': 'Pseudomonas aerugino...</td>\n",
       "      <td>[]</td>\n",
       "      <td>[]</td>\n",
       "    </tr>\n",
       "    <tr>\n",
       "      <th>27</th>\n",
       "      <td>In many studies conducted on patients with imm...</td>\n",
       "      <td>22685229</td>\n",
       "      <td>18780913</td>\n",
       "      <td>[In this study, a total of 3366 clinical sampl...</td>\n",
       "      <td>[{'section': 'Introduction', 'text': 'Infectio...</td>\n",
       "      <td>[]</td>\n",
       "      <td>[]</td>\n",
       "    </tr>\n",
       "    <tr>\n",
       "      <th>40</th>\n",
       "      <td>According to the authors, this review confirme...</td>\n",
       "      <td>37027814</td>\n",
       "      <td>20358884</td>\n",
       "      <td>[Sixty-five (71.4%) events started while child...</td>\n",
       "      <td>[{'section': '', 'text': 'A n apparent life th...</td>\n",
       "      <td>[]</td>\n",
       "      <td>[]</td>\n",
       "    </tr>\n",
       "    <tr>\n",
       "      <th>67</th>\n",
       "      <td>Our previous results show that the trend direc...</td>\n",
       "      <td>10871089</td>\n",
       "      <td>12198745</td>\n",
       "      <td>[Younger employees with higher education had l...</td>\n",
       "      <td>[{'section': '', 'text': 'Sickness absence (SA...</td>\n",
       "      <td>[]</td>\n",
       "      <td>[]</td>\n",
       "    </tr>\n",
       "  </tbody>\n",
       "</table>\n",
       "</div>"
      ],
      "text/plain": [
       "                                    citation_sentence manuscript_id  cited_id  \\\n",
       "26  Various results were obtained from the studies...      22685229  14053509   \n",
       "27  In many studies conducted on patients with imm...      22685229  18780913   \n",
       "40  According to the authors, this review confirme...      37027814  20358884   \n",
       "67  Our previous results show that the trend direc...      10871089  12198745   \n",
       "\n",
       "                                      manuscript_text  \\\n",
       "26  [In this study, a total of 3366 clinical sampl...   \n",
       "27  [In this study, a total of 3366 clinical sampl...   \n",
       "40  [Sixty-five (71.4%) events started while child...   \n",
       "67  [Younger employees with higher education had l...   \n",
       "\n",
       "                                           cited_text  \\\n",
       "26  [{'section': '', 'text': 'Pseudomonas aerugino...   \n",
       "27  [{'section': 'Introduction', 'text': 'Infectio...   \n",
       "40  [{'section': '', 'text': 'A n apparent life th...   \n",
       "67  [{'section': '', 'text': 'Sickness absence (SA...   \n",
       "\n",
       "   topk_manuscript_sentences topk_cited_sentences  \n",
       "26                        []                   []  \n",
       "27                        []                   []  \n",
       "40                        []                   []  \n",
       "67                        []                   []  "
      ]
     },
     "metadata": {},
     "output_type": "display_data"
    }
   ],
   "source": [
    "# some rows have manuscript_texts that are very short \n",
    "display(method_B[method_B.topk_manuscript_sentences.apply(lambda p: p == [])])\n",
    "\n",
    "method_B = method_B[method_B.topk_manuscript_sentences.apply(lambda p: p != [])]"
   ]
  },
  {
   "cell_type": "markdown",
   "metadata": {
    "jupyter": {
     "outputs_hidden": true
    }
   },
   "source": [
    "## Results"
   ]
  },
  {
   "cell_type": "code",
   "execution_count": 137,
   "metadata": {},
   "outputs": [],
   "source": [
    "# compute ROUGE scores of extracted cited_sentences against citation_sentence\n",
    "all_scores_A = get_rouge_scores(\n",
    "    method_A.citation_sentence, \n",
    "    [\" \".join([p[2] for p in row]) for row in method_A.topk_pairs]\n",
    ")"
   ]
  },
  {
   "cell_type": "code",
   "execution_count": 138,
   "metadata": {},
   "outputs": [],
   "source": [
    "# compute ROUGE scores of extracted cited_sentences against citation_sentence\n",
    "all_scores_B = get_rouge_scores(\n",
    "    method_B.citation_sentence, \n",
    "    [\" \".join([p[1] for p in row]) for row in method_B.topk_cited_sentences]\n",
    ")"
   ]
  },
  {
   "cell_type": "code",
   "execution_count": 119,
   "metadata": {},
   "outputs": [
    {
     "data": {
      "image/png": "[encoded data removed]",
      "text/plain": [
       "<Figure size 1080x360 with 6 Axes>"
      ]
     },
     "metadata": {
      "needs_background": "light"
     },
     "output_type": "display_data"
    }
   ],
   "source": [
    "import matplotlib.pyplot as plt\n",
    "\n",
    "f, axes = plt.subplots(2, 3, figsize=(15,5), sharex=\"col\")\n",
    "for i in range(3):\n",
    "    key = rouge_N[i]\n",
    "    axes[0][i].hist(all_scores_A[:,i,1])\n",
    "    axes[0][i].title.set_text(key)\n",
    "    \n",
    "for i in range(3):\n",
    "    key = rouge_N[i]\n",
    "    axes[1][i].hist(all_scores_B[:,i,1])\n",
    "\n",
    "plt.show()"
   ]
  },
  {
   "cell_type": "code",
   "execution_count": 143,
   "metadata": {},
   "outputs": [
    {
     "name": "stdout",
     "output_type": "stream",
     "text": [
      "88 0.91667\n",
      "88 0.82609\n",
      "88 0.91667\n",
      "\n",
      "88 0.91667\n",
      "88 0.82609\n",
      "88 0.91667\n"
     ]
    }
   ],
   "source": [
    "for i in range(3):\n",
    "    print(all_scores_A[:,i,1].argmax(), round(all_scores_A[:,i,1].max(), 5))\n",
    "print()\n",
    "\n",
    "for i in range(3):\n",
    "    print(all_scores_B[:,i,1].argmax(), round(all_scores_B[:,i,1].max(), 5))"
   ]
  },
  {
   "cell_type": "code",
   "execution_count": 122,
   "metadata": {
    "scrolled": true
   },
   "outputs": [
    {
     "name": "stdout",
     "output_type": "stream",
     "text": [
      "0.9166666666666666\n",
      "Second, we found a lower incidence of VAP with the use of a continuous cuff-pressure control system in the MLRA, not only in the Kaplan-Meier analysis as in the study by Nseir et al. [11] .\n",
      "\n",
      "0.67276275\n",
      "[m]: there were no significant differences between the two groups of patients (150 with the intermittent and 134 with continuous cuff-pressure control system) in terms of sex, age, smoking status, chronic obstructive pulmonary disease, diabetes mellitus, chemotherapeutic agents, steroid agents, hematological tumor, solid tumor, diagnosis group, apache-ii score, duration of mechanical ventilation, antibiotics prior to vap onset, use of paralytic agents, tracheotomy, reintubation, enteral nutrition, ssd or icu mortality (table 1 ).\n",
      "[c]: percentage of patients with p cuff less than 20 cm h 2 o, percentage of patients with p cuff greater than 30 cm h 2 o, percentage of p cuff determinations less than 20 cm h 2 o, and percentage of p cuff determinations greater than 30 cm h 2 o were significantly lower in the intervention compared with the control group.\n",
      "\n",
      "0.66759026\n",
      "[m]: however, we found a higher incidence of vap (22.0% versus 11.2%; p = 0.02) and a higher percentage of pressure-cuff determinations <20 cm h 2 0 (9.32 ± 8.46 versus 0.00; p < 0.001) in the group of patients with the intermittent compared to the continuous cuffpressure control system.\n",
      "[c]: most episodes of vap were late onset (77% [17 of 22] ); no significant difference was found in rate of patients with late-onset vap between intervention and control group (83 vs.75%, p ¼ 0.115).\n",
      "\n",
      "0.63473094\n",
      "[m]: early and late onset vap in the intermittent cuff-pressure control system group were recorded in 13 (39.4%) and 20 (60.6%) patients, respectively, versus 6 (40.0%) and 9 (60.0%), respectively, in the continuous cuff-pressure control system group.\n",
      "[c]: percentage of p cuff determinations between 20 and 30 cm h 2 o and p cuff were significantly higher in the intervention compared with the control group.\n",
      "\n",
      "0.6296713\n",
      "[m]: there were no significant differences between the two groups of patients (150 with the intermittent and 134 with continuous cuff-pressure control system) in terms of sex, age, smoking status, chronic obstructive pulmonary disease, diabetes mellitus, chemotherapeutic agents, steroid agents, hematological tumor, solid tumor, diagnosis group, apache-ii score, duration of mechanical ventilation, antibiotics prior to vap onset, use of paralytic agents, tracheotomy, reintubation, enteral nutrition, ssd or icu mortality (table 1 ).\n",
      "[c]: gram-negative bacilli were the most frequently isolated microorganisms in patients with vap and in those with tracheobronchial colonization.\n",
      "\n",
      "0.6209874\n",
      "[m]: however, we found a higher incidence of vap (22.0% versus 11.2%; p = 0.02) and a higher percentage of pressure-cuff determinations <20 cm h 2 0 (9.32 ± 8.46 versus 0.00; p < 0.001) in the group of patients with the intermittent compared to the continuous cuffpressure control system.\n",
      "[c]: third, routine care for p cuff was probably optimal in the control group as suggested by the low percentage (5%) of p cuff determinations greater than 30 cm h 2 o compared with the rate reported by a recent study (20%) (30) .\n",
      "\n"
     ]
    }
   ],
   "source": [
    "# method_A with highest ROUGE-1 score\n",
    "x = all_scores_A[:,0,1].argmax()\n",
    "row = method_A.loc[x]\n",
    "\n",
    "print(all_scores_A[x,0,1])\n",
    "print(row.citation_sentence+\"\\n\")\n",
    "\n",
    "for p in row.topk_pairs:\n",
    "    print(p[0])\n",
    "    print(f\"[m]: {p[1]}\\n[c]: {p[2]}\\n\")"
   ]
  },
  {
   "cell_type": "code",
   "execution_count": 117,
   "metadata": {
    "scrolled": true
   },
   "outputs": [
    {
     "name": "stdout",
     "output_type": "stream",
     "text": [
      "0.9166666666666666\n",
      "Second, we found a lower incidence of VAP with the use of a continuous cuff-pressure control system in the MLRA, not only in the Kaplan-Meier analysis as in the study by Nseir et al. [11] .\n",
      "\n",
      "0.67088246\n",
      "[c]: implementation of this measure should now be considered in icus with high vap rates even if randomized controlled multicenter studies are needed to confirm our results and to evaluate costeffectiveness and long-term effect of continuous control of p cuff on tracheal ischemic lesions before generalizing the use of this technique in every intubated patient requiring mechanical ventilation.author disclosure: s.n.\n",
      "\n",
      "0.63120687\n",
      "[c]: however, continuous control of p cuff had no significant effect on the incidence of tracheal ischemic lesions.\n",
      "\n",
      "0.6117127\n",
      "[c]: most episodes of vap were late onset (77% [17 of 22] ); no significant difference was found in rate of patients with late-onset vap between intervention and control group (83 vs.75%, p ¼ 0.115).\n",
      "\n",
      "0.60309505\n",
      "[c]: although the pneumatic device provided effective continuous control of p cuff , no significant difference was found in tracheal mucosal lesions between the two groups.\n",
      "\n",
      "0.59792936\n",
      "[c]: no significant effect of continuous control of p cuff was found on tracheal ischemic lesions.\n",
      "\n"
     ]
    }
   ],
   "source": [
    "# method_B with highest ROUGE-1 score\n",
    "x = all_scores_B[:,0,1].argmax()\n",
    "row = method_B.loc[x]\n",
    "\n",
    "print(all_scores_B[x,0,1])\n",
    "print(row.citation_sentence+\"\\n\")\n",
    "for p in row.topk_cited_sentences:\n",
    "    print(p[0])\n",
    "    print(f\"[c]: {p[1]}\\n\")"
   ]
  },
  {
   "cell_type": "code",
   "execution_count": 167,
   "metadata": {},
   "outputs": [
    {
     "name": "stdout",
     "output_type": "stream",
     "text": [
      "35 0.67647\n",
      "53 0.39286\n",
      "30 0.44444\n",
      "\n",
      "53 0.75862\n",
      "53 0.5\n",
      "53 0.58621\n"
     ]
    }
   ],
   "source": [
    "# try removing this row 88 to see what happens \n",
    "method_A_subset = method_A.drop(method_A.index[88])\n",
    "all_scores_A_subset = np.delete(all_scores_A, 88, 0)\n",
    "for i in range(3):\n",
    "    print(all_scores_A_subset[:,i,1].argmax(), round(all_scores_A_subset[:,i,1].max(), 5))\n",
    "print()\n",
    "    \n",
    "method_B_subset = method_B.drop(method_B.index[88])\n",
    "all_scores_B_subset = np.delete(all_scores_B, 88, 0)\n",
    "for i in range(3):\n",
    "    print(all_scores_B_subset[:,i,1].argmax(), round(all_scores_B_subset[:,i,1].max(), 5))"
   ]
  },
  {
   "cell_type": "markdown",
   "metadata": {},
   "source": [
    "- with method_A, different samples achieve the highest ROUGE-1, ROUGE-2, ROUGE-L scores\n",
    "- with method_B, this sentence achieves highest ROUGE-1, ROUGE-2, ROUGE-L scores"
   ]
  },
  {
   "cell_type": "code",
   "execution_count": 166,
   "metadata": {},
   "outputs": [
    {
     "name": "stdout",
     "output_type": "stream",
     "text": [
      "0.39285714285714285\n",
      "The sparing of social discrimination and strong expression of mother preference at both 3 and 6 months of age in amygdalectomized infants in the present study did differ from the weaker mother preference previously reported at 6 months in mother-reared amygdalectomized infants (Bauman et al., 2004) .\n",
      "\n",
      "0.73362255\n",
      "[m]: table 1 displays that the discriminant functions accurately classified 84% (3 months) and 85% (6 months) of the monkeys into their actual groups and this value differed significantly from chance as assessed by the press's q tests (q=11.56, df=1, p<.001, and q = 9.8, df=1, p<.001, respectively).\n",
      "[c]: importantly, affiliative vocalizations did not reveal any lesion effect (coos: f (2,21) ϭ 0.699, p ϭ 0.5082; grunts: f (2,21) ϭ 0.823, p ϭ 0.4529; barks: f (2,21) ϭ 1.028, p ϭ 0.3750).\n",
      "\n",
      "0.6773118\n",
      "[m]: table 1 displays that the discriminant functions accurately classified 84% (3 months) and 85% (6 months) of the monkeys into their actual groups and this value differed significantly from chance as assessed by the press's q tests (q=11.56, df=1, p<.001, and q = 9.8, df=1, p<.001, respectively).\n",
      "[c]: the present series of experiments indicates that neonatal amygdala or hippocampus lesions do not alter the development of mother-infant interactions within the first 6 months of life.\n",
      "\n",
      "0.6655458\n",
      "[m]: when in the proximity zones, irrespective of group, sex and age, all animals entered more frequently and spent longer time on their mother's contact zones than on the familiar female contact zones (stimulus effect for nocontact, mesh-contact and physical-contact zones: f 1,17 = 28.15, p <.001; f 1,17 = 44.51, p <.\n",
      "[c]: collateral damage was limited to focal damage in the sulcus of the superior temporal gyrus, ventral claustrum, and the most rostral portions of the hippocampal formation, primarily the subiculum.\n",
      "\n",
      "0.6519855\n",
      "[m]: similarly, neo-a animals were less often in physical-contact with their mother than neo-c animals (lesion × stimulus: f 1,17 = 8.48, p = .010; t 19 = 2.90, p = .009, cohen's d = 1.25; see supplementary tab.s4).\n",
      "[c]: preference was evaluated based on measures of time spent in proximity to the mother or the stimulus female (scored only if the infant remained within 1 m of its mother or the stimulus female for at least 3 sec), the average distance from its mother or the stimulus female, and the frequency and durations of species-typical behaviors (table 1) .\n",
      "\n",
      "0.6485473\n",
      "[m]: irrespective of group and age, all females vocalized more than all males (means±sem: 319.83±35.99 vs.\n",
      "[c]: similarly, infants with bilateral amygdala lesions develop an age-appropriate repertoire of social signals and do not display a flattened affect or disinterest in conspecifics (prather et al., 2001) .\n",
      "\n"
     ]
    }
   ],
   "source": [
    "# peek at row 53 (best for ROUGE-2)\n",
    "x = all_scores_A_subset[:,1,1].argmax()\n",
    "row = method_A_subset.loc[x]\n",
    "\n",
    "print(all_scores_A_subset[x,1,1])\n",
    "print(row.citation_sentence+\"\\n\")\n",
    "\n",
    "for p in row.topk_pairs:\n",
    "    print(p[0])\n",
    "    print(f\"[m]: {p[1]}\\n[c]: {p[2]}\\n\")"
   ]
  },
  {
   "cell_type": "markdown",
   "metadata": {},
   "source": [
    "- not all sentences seem related to the citation_sentence (esp. first and third)"
   ]
  },
  {
   "cell_type": "code",
   "execution_count": 168,
   "metadata": {},
   "outputs": [
    {
     "name": "stdout",
     "output_type": "stream",
     "text": [
      "0.7586206896551724\n",
      "The sparing of social discrimination and strong expression of mother preference at both 3 and 6 months of age in amygdalectomized infants in the present study did differ from the weaker mother preference previously reported at 6 months in mother-reared amygdalectomized infants (Bauman et al., 2004) .\n",
      "\n",
      "0.643356\n",
      "[c]: however, overall activity levels, as measured by the number of times the infant crossed the midline of the cage, indicated that the hippocampuslesioned infants displayed more locomotor behavior than the other groups (f (2,21) ϭ 3.72; p ϭ 0.0414; hippocampus ͼ control ϭ amygdala; p ϭ 0.0450 and 0.0191, respectively).\n",
      "\n",
      "0.6431742\n",
      "[c]: preference was evaluated based on measures of time spent in proximity to the mother or the stimulus female (scored only if the infant remained within 1 m of its mother or the stimulus female for at least 3 sec), the average distance from its mother or the stimulus female, and the frequency and durations of species-typical behaviors (table 1) .\n",
      "\n",
      "0.6381815\n",
      "[c]: the present series of experiments indicates that neonatal amygdala or hippocampus lesions do not alter the development of mother-infant interactions within the first 6 months of life.\n",
      "\n",
      "0.63767254\n",
      "[c]: similarly, infants with bilateral amygdala lesions develop an age-appropriate repertoire of social signals and do not display a flattened affect or disinterest in conspecifics (prather et al., 2001) .\n",
      "\n",
      "0.61823136\n",
      "[c]: twenty-four infant rhesus monkeys (macaca mulatta) naturally born of multiparous mothers were assigned randomly to one of three lesion conditions: bilateral amygdala lesions (five females and three males), bilateral hippocampus lesions (five females and three males), or shamoperated controls (four females and four males).\n",
      "\n"
     ]
    }
   ],
   "source": [
    "# peek at row 53 (method_B)\n",
    "x = all_scores_B_subset[:,0,1].argmax()\n",
    "row = method_B_subset.loc[x]\n",
    "\n",
    "print(all_scores_B_subset[x,0,1])\n",
    "print(row.citation_sentence+\"\\n\")\n",
    "\n",
    "for p in row.topk_cited_sentences:\n",
    "    print(p[0])\n",
    "    print(f\"[c]: {p[1]}\\n\")"
   ]
  },
  {
   "cell_type": "markdown",
   "metadata": {},
   "source": [
    "- extracted cited_sentences share many keywords with the citation_sentence\n",
    "    - \"mother preference\", \"amydalectomized, amygdala\"\n",
    "- however, extracted cited_sentences do not suggest that \"mother-reared amygdalectomized infants\" show \"weaker mother preference\"\n",
    "\n",
    "- 3/5 of these cited_sentences were also picked up by method_A\n",
    "    - however, at least all five sentences here look quite related to citation_sentence \n",
    "    - ROUGE score attained via method_B is also higher"
   ]
  },
  {
   "cell_type": "code",
   "execution_count": null,
   "metadata": {},
   "outputs": [],
   "source": []
  }
 ],
 "metadata": {
  "kernelspec": {
   "display_name": "Python 3",
   "language": "python",
   "name": "python3"
  },
  "language_info": {
   "codemirror_mode": {
    "name": "ipython",
    "version": 3
   },
   "file_extension": ".py",
   "mimetype": "text/x-python",
   "name": "python",
   "nbconvert_exporter": "python",
   "pygments_lexer": "ipython3",
   "version": "3.7.10"
  }
 },
 "nbformat": 4,
 "nbformat_minor": 4
}
