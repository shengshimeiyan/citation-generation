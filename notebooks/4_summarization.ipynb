{
 "cells": [
  {
   "cell_type": "code",
   "execution_count": 1,
   "metadata": {},
   "outputs": [],
   "source": [
    "import json\n",
    "import random\n",
    "import tqdm\n",
    "from tqdm import tqdm\n",
    "\n",
    "import numpy as np\n",
    "import pandas as pd\n",
    "\n",
    "from rouge_score import rouge_scorer\n",
    "from nltk.tokenize.punkt import PunktSentenceTokenizer, PunktParameters\n"
   ]
  },
  {
   "cell_type": "markdown",
   "metadata": {},
   "source": [
    "## 1. Load data"
   ]
  },
  {
   "cell_type": "code",
   "execution_count": 2,
   "metadata": {
    "scrolled": true
   },
   "outputs": [
    {
     "name": "stderr",
     "output_type": "stream",
     "text": [
      "100it [00:00, 8408.45it/s]\n"
     ]
    },
    {
     "data": {
      "text/html": [
       "<div>\n",
       "<style scoped>\n",
       "    .dataframe tbody tr th:only-of-type {\n",
       "        vertical-align: middle;\n",
       "    }\n",
       "\n",
       "    .dataframe tbody tr th {\n",
       "        vertical-align: top;\n",
       "    }\n",
       "\n",
       "    .dataframe thead th {\n",
       "        text-align: right;\n",
       "    }\n",
       "</style>\n",
       "<table border=\"1\" class=\"dataframe\">\n",
       "  <thead>\n",
       "    <tr style=\"text-align: right;\">\n",
       "      <th></th>\n",
       "      <th>citation_sentence</th>\n",
       "      <th>manuscript_id</th>\n",
       "      <th>cited_id</th>\n",
       "      <th>manuscript_text</th>\n",
       "      <th>cited_text</th>\n",
       "    </tr>\n",
       "  </thead>\n",
       "  <tbody>\n",
       "    <tr>\n",
       "      <th>0</th>\n",
       "      <td>Similar to earlier observations (42) , the inf...</td>\n",
       "      <td>11155963</td>\n",
       "      <td>4009171</td>\n",
       "      <td>[, Cell membrane scrambling, a hallmark of ery...</td>\n",
       "      <td>[{'section': '', 'text': 'Plasmodium falciparu...</td>\n",
       "    </tr>\n",
       "    <tr>\n",
       "      <th>1</th>\n",
       "      <td>In a cohort study in Korea (20) , the highest ...</td>\n",
       "      <td>11158470</td>\n",
       "      <td>15153392</td>\n",
       "      <td>[During 1,288,820 person-years of follow-up (a...</td>\n",
       "      <td>[{'section': '', 'text': 'Several previous stu...</td>\n",
       "    </tr>\n",
       "    <tr>\n",
       "      <th>2</th>\n",
       "      <td>This finding can be explained by the fact that...</td>\n",
       "      <td>11159272</td>\n",
       "      <td>14840523</td>\n",
       "      <td>[Static pressure profiles are shown in Fig. 3 ...</td>\n",
       "      <td>[{'section': '', 'text': 'A therosclerosis occ...</td>\n",
       "    </tr>\n",
       "    <tr>\n",
       "      <th>3</th>\n",
       "      <td>The distribution of flow velocity and WSS was ...</td>\n",
       "      <td>11159272</td>\n",
       "      <td>13786003</td>\n",
       "      <td>[Static pressure profiles are shown in Fig. 3 ...</td>\n",
       "      <td>[{'section': '', 'text': 'lesions therefore fa...</td>\n",
       "    </tr>\n",
       "    <tr>\n",
       "      <th>4</th>\n",
       "      <td>However, the result of CFD simulation in this ...</td>\n",
       "      <td>11159272</td>\n",
       "      <td>13786003</td>\n",
       "      <td>[Static pressure profiles are shown in Fig. 3 ...</td>\n",
       "      <td>[{'section': '', 'text': 'lesions therefore fa...</td>\n",
       "    </tr>\n",
       "  </tbody>\n",
       "</table>\n",
       "</div>"
      ],
      "text/plain": [
       "                                   citation_sentence manuscript_id  cited_id  \\\n",
       "0  Similar to earlier observations (42) , the inf...      11155963   4009171   \n",
       "1  In a cohort study in Korea (20) , the highest ...      11158470  15153392   \n",
       "2  This finding can be explained by the fact that...      11159272  14840523   \n",
       "3  The distribution of flow velocity and WSS was ...      11159272  13786003   \n",
       "4  However, the result of CFD simulation in this ...      11159272  13786003   \n",
       "\n",
       "                                     manuscript_text  \\\n",
       "0  [, Cell membrane scrambling, a hallmark of ery...   \n",
       "1  [During 1,288,820 person-years of follow-up (a...   \n",
       "2  [Static pressure profiles are shown in Fig. 3 ...   \n",
       "3  [Static pressure profiles are shown in Fig. 3 ...   \n",
       "4  [Static pressure profiles are shown in Fig. 3 ...   \n",
       "\n",
       "                                          cited_text  \n",
       "0  [{'section': '', 'text': 'Plasmodium falciparu...  \n",
       "1  [{'section': '', 'text': 'Several previous stu...  \n",
       "2  [{'section': '', 'text': 'A therosclerosis occ...  \n",
       "3  [{'section': '', 'text': 'lesions therefore fa...  \n",
       "4  [{'section': '', 'text': 'lesions therefore fa...  "
      ]
     },
     "metadata": {},
     "output_type": "display_data"
    }
   ],
   "source": [
    "train = []\n",
    "with open(\"../data/citation_generation/train.jsonl\", \"r\") as f:\n",
    "    for i, line in tqdm(enumerate(f)):\n",
    "        row = json.loads(line)\n",
    "        train.append(row)\n",
    "        \n",
    "        if i == 100: break\n",
    "\n",
    "train = pd.DataFrame(train)\n",
    "display(train.head())"
   ]
  },
  {
   "cell_type": "code",
   "execution_count": 3,
   "metadata": {},
   "outputs": [
    {
     "name": "stdout",
     "output_type": "stream",
     "text": [
      "Similar to earlier observations (42) , the infection of untreated mice with P. berghei took an invariably lethal course within Ͻ20 days.\n"
     ]
    }
   ],
   "source": [
    "i = 0\n",
    "citation_sentence = train.loc[i, \"citation_sentence\"]\n",
    "cited_text = \" \".join(para[\"text\"] for para in train.loc[i, \"cited_text\"])\n",
    "manuscript_text = \" \".join(train.loc[i, \"manuscript_text\"])\n",
    "\n",
    "print(citation_sentence)"
   ]
  },
  {
   "cell_type": "markdown",
   "metadata": {},
   "source": [
    "## 2. Tokenize texts into sentences"
   ]
  },
  {
   "cell_type": "code",
   "execution_count": 4,
   "metadata": {
    "scrolled": true
   },
   "outputs": [],
   "source": [
    "# tokenizer should not split at abbrieviations\n",
    "punkt_params = PunktParameters()\n",
    "punkt_params.abbrev_types = set([\"i.e\", \"e.g\", \"etc\", \"al\", \"fig\", \"figs\", \n",
    "                                 \"ref\", \"refs\", \"p\", \"c\", \"s\"]) \n",
    "\n",
    "# initialise sentence tokenizer\n",
    "tokenizer = PunktSentenceTokenizer(punkt_params)"
   ]
  },
  {
   "cell_type": "code",
   "execution_count": 5,
   "metadata": {
    "scrolled": true
   },
   "outputs": [],
   "source": [
    "# tokenize manuscript_result_text, cited_text into sentences\n",
    "query_sentences = tokenizer.tokenize(manuscript_text)\n",
    "cited_sentences = tokenizer.tokenize(cited_text)"
   ]
  },
  {
   "cell_type": "markdown",
   "metadata": {},
   "source": [
    "## 3. Compute sentence embeddings"
   ]
  },
  {
   "cell_type": "code",
   "execution_count": 6,
   "metadata": {},
   "outputs": [],
   "source": [
    "import sent2vec\n",
    "\n",
    "model = sent2vec.Sent2vecModel()\n",
    "model.load_model(\"../sent2vec/wiki_unigrams.bin\")\n",
    "\n",
    "# compute sentence embeddings\n",
    "query_embeddings = model.embed_sentences(query_sentences)\n",
    "cited_embeddings = model.embed_sentences(cited_sentences)"
   ]
  },
  {
   "cell_type": "code",
   "execution_count": 7,
   "metadata": {},
   "outputs": [],
   "source": [
    "# from sentence_transformers import SentenceTransformer\n",
    "\n",
    "# model = SentenceTransformer(\"stsb-distilbert-base\")\n",
    "\n",
    "# # compute sentence embeddings\n",
    "# query_embeddings_dbert = model.encode(query_sentences)\n",
    "# cited_embeddings_dbert = model.encode(cited_sentences)"
   ]
  },
  {
   "cell_type": "markdown",
   "metadata": {},
   "source": [
    "## 4. Compute sentence similarity scores"
   ]
  },
  {
   "cell_type": "code",
   "execution_count": 8,
   "metadata": {},
   "outputs": [],
   "source": [
    "from sklearn.metrics.pairwise import cosine_similarity\n",
    "\n",
    "similarity = cosine_similarity(query_embeddings, cited_embeddings)"
   ]
  },
  {
   "cell_type": "code",
   "execution_count": 9,
   "metadata": {
    "scrolled": true
   },
   "outputs": [
    {
     "name": "stdout",
     "output_type": "stream",
     "text": [
      "[1986 2498 2015  924 2053]\n",
      "[0.67616785 0.66920614 0.6639284  0.66196144 0.6438151 ]\n",
      "Similar to earlier observations (42) , the infection of untreated mice with P. berghei took an invariably lethal course within Ͻ20 days.\n",
      "\n",
      "As illustrated in Fig. 1B (middle and right) osmotic cell shrinkage inhibited and osmotic cell swelling activated a fraction of the whole cell inward current.\n",
      "Initial cell swelling in hypotonic sorbitol solution and hyperpolarization of the cation-selective cell membrane are expected to activate putative ClC-2 channels.\n",
      "Initial cell swelling in hypotonic sorbitol solution and hyperpolarization of the cation-selective cell membrane are expected to activate putative ClC-2 channels.\n",
      "In further experiments, the effect of ClC-2 inhibition on forward scatter was determined in noninfected and parasitized RBCs from both genotypes.\n",
      "Thus inhibition of ClC-2 increased cell volume only in parasitized RBCs.\n"
     ]
    }
   ],
   "source": [
    "k = 5\n",
    "\n",
    "# get indices of sentences with highest similarity scores\n",
    "indices = np.argpartition(similarity, kth=-k, axis=None)[-k:]\n",
    "\n",
    "# sort indices by decreasing score and get the corresponding scores\n",
    "indices = np.flip(indices[np.argsort(similarity.flatten()[indices])])\n",
    "topk_similarity = similarity.flatten()[indices]\n",
    "print(indices)\n",
    "print(topk_similarity)\n",
    "\n",
    "# get corresponding topk_cited_sentences\n",
    "indices %= similarity.shape[1]\n",
    "topk_cited_sentences = [cited_sentences[i] for i in indices]\n",
    "\n",
    "print(citation_sentence)\n",
    "print()\n",
    "for s in topk_cited_sentences: print(s)"
   ]
  },
  {
   "cell_type": "code",
   "execution_count": 10,
   "metadata": {},
   "outputs": [
    {
     "data": {
      "text/html": [
       "<div>\n",
       "<style scoped>\n",
       "    .dataframe tbody tr th:only-of-type {\n",
       "        vertical-align: middle;\n",
       "    }\n",
       "\n",
       "    .dataframe tbody tr th {\n",
       "        vertical-align: top;\n",
       "    }\n",
       "\n",
       "    .dataframe thead th {\n",
       "        text-align: right;\n",
       "    }\n",
       "</style>\n",
       "<table border=\"1\" class=\"dataframe\">\n",
       "  <thead>\n",
       "    <tr style=\"text-align: right;\">\n",
       "      <th></th>\n",
       "      <th>p</th>\n",
       "      <th>r</th>\n",
       "      <th>f</th>\n",
       "    </tr>\n",
       "  </thead>\n",
       "  <tbody>\n",
       "    <tr>\n",
       "      <th>rouge1</th>\n",
       "      <td>0.028571</td>\n",
       "      <td>0.142857</td>\n",
       "      <td>0.047619</td>\n",
       "    </tr>\n",
       "    <tr>\n",
       "      <th>rouge2</th>\n",
       "      <td>0.000000</td>\n",
       "      <td>0.000000</td>\n",
       "      <td>0.000000</td>\n",
       "    </tr>\n",
       "    <tr>\n",
       "      <th>rougeL</th>\n",
       "      <td>0.028571</td>\n",
       "      <td>0.142857</td>\n",
       "      <td>0.047619</td>\n",
       "    </tr>\n",
       "  </tbody>\n",
       "</table>\n",
       "</div>"
      ],
      "text/plain": [
       "               p         r         f\n",
       "rouge1  0.028571  0.142857  0.047619\n",
       "rouge2  0.000000  0.000000  0.000000\n",
       "rougeL  0.028571  0.142857  0.047619"
      ]
     },
     "metadata": {},
     "output_type": "display_data"
    }
   ],
   "source": [
    "# compute ROUGE scores\n",
    "scorer = rouge_scorer.RougeScorer([\"rouge1\", \"rouge2\", \"rougeL\"], use_stemmer=True)\n",
    "\n",
    "scores = scorer.score(citation_sentence, \" \".join(topk_cited_sentences))\n",
    "scores = pd.DataFrame(scores).T\n",
    "scores.columns = [\"p\", \"r\", \"f\"]\n",
    "display(scores)"
   ]
  },
  {
   "cell_type": "code",
   "execution_count": 11,
   "metadata": {},
   "outputs": [],
   "source": [
    "def get_topk_citation_sentences(manuscript_text, cited_text, k=5):\n",
    "    # tokenize into sentences\n",
    "    query_sentences = tokenizer.tokenize(manuscript_text)\n",
    "    cited_sentences = tokenizer.tokenize(cited_text)\n",
    "\n",
    "    # compute embeddings and cosine similarity matrix\n",
    "    query_embeddings = model.embed_sentences(query_sentences)\n",
    "    cited_embeddings = model.embed_sentences(cited_sentences)\n",
    "    similarity = cosine_similarity(query_embeddings, cited_embeddings)\n",
    "    \n",
    "    # get indices of highest similarity scores \n",
    "    indices = np.argpartition(similarity, kth=-k, axis=None)[-k:]\n",
    "    \n",
    "    # get indices in decreasing order wrt scores\n",
    "    indices = np.flip(indices[np.argsort(similarity.flatten()[indices])])\n",
    "    \n",
    "    # get corresponding sentences  \n",
    "    indices %= similarity.shape[1]\n",
    "    topk_cited_sentences = [cited_sentences[i] for i in indices]\n",
    "\n",
    "    return topk_cited_sentences"
   ]
  },
  {
   "cell_type": "markdown",
   "metadata": {},
   "source": [
    "## 5. Extractively summarize the small train set"
   ]
  },
  {
   "cell_type": "code",
   "execution_count": 12,
   "metadata": {},
   "outputs": [
    {
     "name": "stdout",
     "output_type": "stream",
     "text": [
      "['As illustrated in Fig. 1B (middle and right) osmotic cell shrinkage inhibited and osmotic cell swelling activated a fraction of the whole cell inward current.', 'Initial cell swelling in hypotonic sorbitol solution and hyperpolarization of the cation-selective cell membrane are expected to activate putative ClC-2 channels.', 'Initial cell swelling in hypotonic sorbitol solution and hyperpolarization of the cation-selective cell membrane are expected to activate putative ClC-2 channels.', 'In further experiments, the effect of ClC-2 inhibition on forward scatter was determined in noninfected and parasitized RBCs from both genotypes.', 'Thus inhibition of ClC-2 increased cell volume only in parasitized RBCs.']\n"
     ]
    }
   ],
   "source": [
    "all_topk_cited_sentences = []\n",
    "for _, row in train.iterrows():\n",
    "    topk_citation_sentences = get_topk_citation_sentences(\n",
    "        \" \".join(row.manuscript_text), \" \".join(para[\"text\"] for para in row.cited_text)\n",
    "    )\n",
    "    all_topk_cited_sentences.append(topk_citation_sentences)\n",
    "print(all_topk_cited_sentences[0])"
   ]
  },
  {
   "cell_type": "code",
   "execution_count": 13,
   "metadata": {},
   "outputs": [
    {
     "data": {
      "text/html": [
       "<div>\n",
       "<style scoped>\n",
       "    .dataframe tbody tr th:only-of-type {\n",
       "        vertical-align: middle;\n",
       "    }\n",
       "\n",
       "    .dataframe tbody tr th {\n",
       "        vertical-align: top;\n",
       "    }\n",
       "\n",
       "    .dataframe thead th {\n",
       "        text-align: right;\n",
       "    }\n",
       "</style>\n",
       "<table border=\"1\" class=\"dataframe\">\n",
       "  <thead>\n",
       "    <tr style=\"text-align: right;\">\n",
       "      <th></th>\n",
       "      <th>citation_sentence</th>\n",
       "      <th>manuscript_id</th>\n",
       "      <th>cited_id</th>\n",
       "      <th>manuscript_text</th>\n",
       "      <th>cited_text</th>\n",
       "      <th>topk_cited_sentences</th>\n",
       "    </tr>\n",
       "  </thead>\n",
       "  <tbody>\n",
       "    <tr>\n",
       "      <th>0</th>\n",
       "      <td>Similar to earlier observations (42) , the inf...</td>\n",
       "      <td>11155963</td>\n",
       "      <td>4009171</td>\n",
       "      <td>[, Cell membrane scrambling, a hallmark of ery...</td>\n",
       "      <td>[{'section': '', 'text': 'Plasmodium falciparu...</td>\n",
       "      <td>[As illustrated in Fig. 1B (middle and right) ...</td>\n",
       "    </tr>\n",
       "    <tr>\n",
       "      <th>1</th>\n",
       "      <td>In a cohort study in Korea (20) , the highest ...</td>\n",
       "      <td>11158470</td>\n",
       "      <td>15153392</td>\n",
       "      <td>[During 1,288,820 person-years of follow-up (a...</td>\n",
       "      <td>[{'section': '', 'text': 'Several previous stu...</td>\n",
       "      <td>[In both men and women, the taller group tende...</td>\n",
       "    </tr>\n",
       "    <tr>\n",
       "      <th>2</th>\n",
       "      <td>This finding can be explained by the fact that...</td>\n",
       "      <td>11159272</td>\n",
       "      <td>14840523</td>\n",
       "      <td>[Static pressure profiles are shown in Fig. 3 ...</td>\n",
       "      <td>[{'section': '', 'text': 'A therosclerosis occ...</td>\n",
       "      <td>[The proximal and distal MB was considered as ...</td>\n",
       "    </tr>\n",
       "    <tr>\n",
       "      <th>3</th>\n",
       "      <td>The distribution of flow velocity and WSS was ...</td>\n",
       "      <td>11159272</td>\n",
       "      <td>13786003</td>\n",
       "      <td>[Static pressure profiles are shown in Fig. 3 ...</td>\n",
       "      <td>[{'section': '', 'text': 'lesions therefore fa...</td>\n",
       "      <td>[Blood was assumed to behave as a Newtonian fl...</td>\n",
       "    </tr>\n",
       "    <tr>\n",
       "      <th>4</th>\n",
       "      <td>However, the result of CFD simulation in this ...</td>\n",
       "      <td>11159272</td>\n",
       "      <td>13786003</td>\n",
       "      <td>[Static pressure profiles are shown in Fig. 3 ...</td>\n",
       "      <td>[{'section': '', 'text': 'lesions therefore fa...</td>\n",
       "      <td>[Blood was assumed to behave as a Newtonian fl...</td>\n",
       "    </tr>\n",
       "  </tbody>\n",
       "</table>\n",
       "</div>"
      ],
      "text/plain": [
       "                                   citation_sentence manuscript_id  cited_id  \\\n",
       "0  Similar to earlier observations (42) , the inf...      11155963   4009171   \n",
       "1  In a cohort study in Korea (20) , the highest ...      11158470  15153392   \n",
       "2  This finding can be explained by the fact that...      11159272  14840523   \n",
       "3  The distribution of flow velocity and WSS was ...      11159272  13786003   \n",
       "4  However, the result of CFD simulation in this ...      11159272  13786003   \n",
       "\n",
       "                                     manuscript_text  \\\n",
       "0  [, Cell membrane scrambling, a hallmark of ery...   \n",
       "1  [During 1,288,820 person-years of follow-up (a...   \n",
       "2  [Static pressure profiles are shown in Fig. 3 ...   \n",
       "3  [Static pressure profiles are shown in Fig. 3 ...   \n",
       "4  [Static pressure profiles are shown in Fig. 3 ...   \n",
       "\n",
       "                                          cited_text  \\\n",
       "0  [{'section': '', 'text': 'Plasmodium falciparu...   \n",
       "1  [{'section': '', 'text': 'Several previous stu...   \n",
       "2  [{'section': '', 'text': 'A therosclerosis occ...   \n",
       "3  [{'section': '', 'text': 'lesions therefore fa...   \n",
       "4  [{'section': '', 'text': 'lesions therefore fa...   \n",
       "\n",
       "                                topk_cited_sentences  \n",
       "0  [As illustrated in Fig. 1B (middle and right) ...  \n",
       "1  [In both men and women, the taller group tende...  \n",
       "2  [The proximal and distal MB was considered as ...  \n",
       "3  [Blood was assumed to behave as a Newtonian fl...  \n",
       "4  [Blood was assumed to behave as a Newtonian fl...  "
      ]
     },
     "metadata": {},
     "output_type": "display_data"
    }
   ],
   "source": [
    "train[\"topk_cited_sentences\"] = all_topk_cited_sentences\n",
    "display(train.head())"
   ]
  },
  {
   "cell_type": "code",
   "execution_count": 14,
   "metadata": {},
   "outputs": [
    {
     "data": {
      "text/html": [
       "<div>\n",
       "<style scoped>\n",
       "    .dataframe tbody tr th:only-of-type {\n",
       "        vertical-align: middle;\n",
       "    }\n",
       "\n",
       "    .dataframe tbody tr th {\n",
       "        vertical-align: top;\n",
       "    }\n",
       "\n",
       "    .dataframe thead th {\n",
       "        text-align: right;\n",
       "    }\n",
       "</style>\n",
       "<table border=\"1\" class=\"dataframe\">\n",
       "  <thead>\n",
       "    <tr style=\"text-align: right;\">\n",
       "      <th></th>\n",
       "      <th>rouge1</th>\n",
       "      <th>rouge2</th>\n",
       "      <th>rougeL</th>\n",
       "    </tr>\n",
       "  </thead>\n",
       "  <tbody>\n",
       "    <tr>\n",
       "      <th>0</th>\n",
       "      <td>0.142857</td>\n",
       "      <td>0.000000</td>\n",
       "      <td>0.142857</td>\n",
       "    </tr>\n",
       "    <tr>\n",
       "      <th>1</th>\n",
       "      <td>0.558824</td>\n",
       "      <td>0.090909</td>\n",
       "      <td>0.323529</td>\n",
       "    </tr>\n",
       "    <tr>\n",
       "      <th>2</th>\n",
       "      <td>0.190476</td>\n",
       "      <td>0.024390</td>\n",
       "      <td>0.095238</td>\n",
       "    </tr>\n",
       "    <tr>\n",
       "      <th>3</th>\n",
       "      <td>0.538462</td>\n",
       "      <td>0.000000</td>\n",
       "      <td>0.461538</td>\n",
       "    </tr>\n",
       "    <tr>\n",
       "      <th>4</th>\n",
       "      <td>0.421053</td>\n",
       "      <td>0.000000</td>\n",
       "      <td>0.263158</td>\n",
       "    </tr>\n",
       "    <tr>\n",
       "      <th>...</th>\n",
       "      <td>...</td>\n",
       "      <td>...</td>\n",
       "      <td>...</td>\n",
       "    </tr>\n",
       "    <tr>\n",
       "      <th>96</th>\n",
       "      <td>0.250000</td>\n",
       "      <td>0.000000</td>\n",
       "      <td>0.200000</td>\n",
       "    </tr>\n",
       "    <tr>\n",
       "      <th>97</th>\n",
       "      <td>0.490566</td>\n",
       "      <td>0.019231</td>\n",
       "      <td>0.226415</td>\n",
       "    </tr>\n",
       "    <tr>\n",
       "      <th>98</th>\n",
       "      <td>0.333333</td>\n",
       "      <td>0.086957</td>\n",
       "      <td>0.250000</td>\n",
       "    </tr>\n",
       "    <tr>\n",
       "      <th>99</th>\n",
       "      <td>0.230769</td>\n",
       "      <td>0.000000</td>\n",
       "      <td>0.153846</td>\n",
       "    </tr>\n",
       "    <tr>\n",
       "      <th>100</th>\n",
       "      <td>0.447368</td>\n",
       "      <td>0.027027</td>\n",
       "      <td>0.289474</td>\n",
       "    </tr>\n",
       "  </tbody>\n",
       "</table>\n",
       "<p>101 rows × 3 columns</p>\n",
       "</div>"
      ],
      "text/plain": [
       "       rouge1    rouge2    rougeL\n",
       "0    0.142857  0.000000  0.142857\n",
       "1    0.558824  0.090909  0.323529\n",
       "2    0.190476  0.024390  0.095238\n",
       "3    0.538462  0.000000  0.461538\n",
       "4    0.421053  0.000000  0.263158\n",
       "..        ...       ...       ...\n",
       "96   0.250000  0.000000  0.200000\n",
       "97   0.490566  0.019231  0.226415\n",
       "98   0.333333  0.086957  0.250000\n",
       "99   0.230769  0.000000  0.153846\n",
       "100  0.447368  0.027027  0.289474\n",
       "\n",
       "[101 rows x 3 columns]"
      ]
     },
     "metadata": {},
     "output_type": "display_data"
    }
   ],
   "source": [
    "rouge = {\"rouge1\": [], \"rouge2\": [], \"rougeL\": []}\n",
    "for _, row in train.iterrows():\n",
    "    scores = scorer.score(row.citation_sentence, \" \".join(row.topk_cited_sentences))\n",
    "    for k in scores: \n",
    "        rouge[k].append(scores[k][1]) # to extract only recall score\n",
    "        \n",
    "rouge = pd.DataFrame(rouge)\n",
    "display(rouge)"
   ]
  },
  {
   "cell_type": "code",
   "execution_count": 15,
   "metadata": {},
   "outputs": [
    {
     "data": {
      "text/html": [
       "<div>\n",
       "<style scoped>\n",
       "    .dataframe tbody tr th:only-of-type {\n",
       "        vertical-align: middle;\n",
       "    }\n",
       "\n",
       "    .dataframe tbody tr th {\n",
       "        vertical-align: top;\n",
       "    }\n",
       "\n",
       "    .dataframe thead th {\n",
       "        text-align: right;\n",
       "    }\n",
       "</style>\n",
       "<table border=\"1\" class=\"dataframe\">\n",
       "  <thead>\n",
       "    <tr style=\"text-align: right;\">\n",
       "      <th></th>\n",
       "      <th>citation_sentence</th>\n",
       "      <th>manuscript_id</th>\n",
       "      <th>cited_id</th>\n",
       "      <th>manuscript_text</th>\n",
       "      <th>cited_text</th>\n",
       "      <th>topk_cited_sentences</th>\n",
       "      <th>rouge1</th>\n",
       "      <th>rouge2</th>\n",
       "      <th>rougeL</th>\n",
       "    </tr>\n",
       "  </thead>\n",
       "  <tbody>\n",
       "    <tr>\n",
       "      <th>0</th>\n",
       "      <td>Similar to earlier observations (42) , the inf...</td>\n",
       "      <td>11155963</td>\n",
       "      <td>4009171</td>\n",
       "      <td>[, Cell membrane scrambling, a hallmark of ery...</td>\n",
       "      <td>[{'section': '', 'text': 'Plasmodium falciparu...</td>\n",
       "      <td>[As illustrated in Fig. 1B (middle and right) ...</td>\n",
       "      <td>0.142857</td>\n",
       "      <td>0.000000</td>\n",
       "      <td>0.142857</td>\n",
       "    </tr>\n",
       "    <tr>\n",
       "      <th>1</th>\n",
       "      <td>In a cohort study in Korea (20) , the highest ...</td>\n",
       "      <td>11158470</td>\n",
       "      <td>15153392</td>\n",
       "      <td>[During 1,288,820 person-years of follow-up (a...</td>\n",
       "      <td>[{'section': '', 'text': 'Several previous stu...</td>\n",
       "      <td>[In both men and women, the taller group tende...</td>\n",
       "      <td>0.558824</td>\n",
       "      <td>0.090909</td>\n",
       "      <td>0.323529</td>\n",
       "    </tr>\n",
       "    <tr>\n",
       "      <th>2</th>\n",
       "      <td>This finding can be explained by the fact that...</td>\n",
       "      <td>11159272</td>\n",
       "      <td>14840523</td>\n",
       "      <td>[Static pressure profiles are shown in Fig. 3 ...</td>\n",
       "      <td>[{'section': '', 'text': 'A therosclerosis occ...</td>\n",
       "      <td>[The proximal and distal MB was considered as ...</td>\n",
       "      <td>0.190476</td>\n",
       "      <td>0.024390</td>\n",
       "      <td>0.095238</td>\n",
       "    </tr>\n",
       "    <tr>\n",
       "      <th>3</th>\n",
       "      <td>The distribution of flow velocity and WSS was ...</td>\n",
       "      <td>11159272</td>\n",
       "      <td>13786003</td>\n",
       "      <td>[Static pressure profiles are shown in Fig. 3 ...</td>\n",
       "      <td>[{'section': '', 'text': 'lesions therefore fa...</td>\n",
       "      <td>[Blood was assumed to behave as a Newtonian fl...</td>\n",
       "      <td>0.538462</td>\n",
       "      <td>0.000000</td>\n",
       "      <td>0.461538</td>\n",
       "    </tr>\n",
       "    <tr>\n",
       "      <th>4</th>\n",
       "      <td>However, the result of CFD simulation in this ...</td>\n",
       "      <td>11159272</td>\n",
       "      <td>13786003</td>\n",
       "      <td>[Static pressure profiles are shown in Fig. 3 ...</td>\n",
       "      <td>[{'section': '', 'text': 'lesions therefore fa...</td>\n",
       "      <td>[Blood was assumed to behave as a Newtonian fl...</td>\n",
       "      <td>0.421053</td>\n",
       "      <td>0.000000</td>\n",
       "      <td>0.263158</td>\n",
       "    </tr>\n",
       "  </tbody>\n",
       "</table>\n",
       "</div>"
      ],
      "text/plain": [
       "                                   citation_sentence manuscript_id  cited_id  \\\n",
       "0  Similar to earlier observations (42) , the inf...      11155963   4009171   \n",
       "1  In a cohort study in Korea (20) , the highest ...      11158470  15153392   \n",
       "2  This finding can be explained by the fact that...      11159272  14840523   \n",
       "3  The distribution of flow velocity and WSS was ...      11159272  13786003   \n",
       "4  However, the result of CFD simulation in this ...      11159272  13786003   \n",
       "\n",
       "                                     manuscript_text  \\\n",
       "0  [, Cell membrane scrambling, a hallmark of ery...   \n",
       "1  [During 1,288,820 person-years of follow-up (a...   \n",
       "2  [Static pressure profiles are shown in Fig. 3 ...   \n",
       "3  [Static pressure profiles are shown in Fig. 3 ...   \n",
       "4  [Static pressure profiles are shown in Fig. 3 ...   \n",
       "\n",
       "                                          cited_text  \\\n",
       "0  [{'section': '', 'text': 'Plasmodium falciparu...   \n",
       "1  [{'section': '', 'text': 'Several previous stu...   \n",
       "2  [{'section': '', 'text': 'A therosclerosis occ...   \n",
       "3  [{'section': '', 'text': 'lesions therefore fa...   \n",
       "4  [{'section': '', 'text': 'lesions therefore fa...   \n",
       "\n",
       "                                topk_cited_sentences    rouge1    rouge2  \\\n",
       "0  [As illustrated in Fig. 1B (middle and right) ...  0.142857  0.000000   \n",
       "1  [In both men and women, the taller group tende...  0.558824  0.090909   \n",
       "2  [The proximal and distal MB was considered as ...  0.190476  0.024390   \n",
       "3  [Blood was assumed to behave as a Newtonian fl...  0.538462  0.000000   \n",
       "4  [Blood was assumed to behave as a Newtonian fl...  0.421053  0.000000   \n",
       "\n",
       "     rougeL  \n",
       "0  0.142857  \n",
       "1  0.323529  \n",
       "2  0.095238  \n",
       "3  0.461538  \n",
       "4  0.263158  "
      ]
     },
     "metadata": {},
     "output_type": "display_data"
    }
   ],
   "source": [
    "for k in rouge.columns: train[k] = rouge[k]\n",
    "display(train.head())"
   ]
  },
  {
   "cell_type": "code",
   "execution_count": 20,
   "metadata": {},
   "outputs": [
    {
     "data": {
      "text/plain": [
       "<AxesSubplot:>"
      ]
     },
     "metadata": {},
     "output_type": "display_data"
    },
    {
     "data": {
      "image/png": "[encoded data removed]",
      "text/plain": [
       "<Figure size 432x288 with 1 Axes>"
      ]
     },
     "metadata": {
      "needs_background": "light"
     },
     "output_type": "display_data"
    }
   ],
   "source": [
    "display(train[\"rouge1\"].hist(range=(0,0.6)))"
   ]
  },
  {
   "cell_type": "code",
   "execution_count": 21,
   "metadata": {},
   "outputs": [
    {
     "data": {
      "text/plain": [
       "<AxesSubplot:>"
      ]
     },
     "metadata": {},
     "output_type": "display_data"
    },
    {
     "data": {
      "image/png": "[encoded data removed]",
      "text/plain": [
       "<Figure size 432x288 with 1 Axes>"
      ]
     },
     "metadata": {
      "needs_background": "light"
     },
     "output_type": "display_data"
    }
   ],
   "source": [
    "display(train[\"rouge2\"].hist(range=(0,0.6)))"
   ]
  },
  {
   "cell_type": "code",
   "execution_count": 22,
   "metadata": {},
   "outputs": [
    {
     "data": {
      "text/plain": [
       "<AxesSubplot:>"
      ]
     },
     "metadata": {},
     "output_type": "display_data"
    },
    {
     "data": {
      "image/png": "[encoded data removed]",
      "text/plain": [
       "<Figure size 432x288 with 1 Axes>"
      ]
     },
     "metadata": {
      "needs_background": "light"
     },
     "output_type": "display_data"
    }
   ],
   "source": [
    "display(train[\"rougeL\"].hist(range=(0,0.6)))"
   ]
  },
  {
   "cell_type": "code",
   "execution_count": 23,
   "metadata": {},
   "outputs": [
    {
     "name": "stdout",
     "output_type": "stream",
     "text": [
      "0.6551724137931034\n",
      "In a previous study, we did not Wnd an association between F-ara-ATP accumulation and gene expression in CD4 + and CD8 + T-lymphocytes isolated from HCT patients [15] .\n",
      "\n",
      "These replicates were within 71-100% of each other.\n",
      "Median cell yields after T-lymphocyte isolation in healthy volunteers were 2.98 9 10 7 and 2.67 9 10 7 for CD4 + and CD8 + cells, respectively.\n",
      "Median cell yields after T-lymphocyte isolation in HCT patients were 3.78 9 10 6 and 2.\n",
      "Less variability was observed in the expression of hENT2, dCK, and CN-II.\n",
      "F-ara-ATP accumulation was linear over a starting cell number from 1.25 9 10 5 to 2 9 10 6 cells (data not shown).\n"
     ]
    }
   ],
   "source": [
    "ind = train.rouge1.argmax()\n",
    "row = train.loc[ind]\n",
    "print(row[\"rouge1\"])\n",
    "print(row[\"citation_sentence\"])\n",
    "print()\n",
    "for s in row[\"topk_cited_sentences\"]: print(s)"
   ]
  },
  {
   "cell_type": "markdown",
   "metadata": {},
   "source": [
    "## 6. Convert to scr"
   ]
  },
  {
   "cell_type": "code",
   "execution_count": null,
   "metadata": {},
   "outputs": [],
   "source": [
    "# import time\n",
    "\n",
    "# from nltk.tokenize.punkt import PunktSentenceTokenizer, PunktParameters\n",
    "\n",
    "# import sent2vec\n",
    "# from sklearn.metrics.pairwise import cosine_similarity\n",
    "\n",
    "# # initialise sentence tokenizer\n",
    "# # tokenizer should not split at abbrieviations\n",
    "# punkt_params = PunktParameters()\n",
    "# punkt_params.abbrev_types = set([\"i.e\", \"e.g\", \"etc\", \"al\", \"fig\", \"figs\", \n",
    "#                                  \"ref\", \"refs\", \"p\", \"c\", \"s\"]) \n",
    "# tokenizer = PunktSentenceTokenizer(punkt_params)\n",
    "\n",
    "# # initialise sentence embedding model \n",
    "# model = sent2vec.Sent2vecModel()\n",
    "# model.load_model(\"../sent2vec/wiki_unigrams.bin\")\n",
    "    \n",
    "\n",
    "# time_taken = []\n",
    "# all_topk_scores = []\n",
    "# all_topk_cited_sentences = []\n",
    "# all_rouge = {i:[] for i in range(5)}\n",
    "# with open(\"../data/citation_generation/unique_dataset.jsonl\", \"r\") as f:\n",
    "#     for line in tqdm(f):\n",
    "#         start = time.time()\n",
    "#         row = json.loads(line)\n",
    "        \n",
    "#         # extract data from row\n",
    "#         citation_sentence = row[\"citation_sentence\"]\n",
    "#         manuscript_result_text = row[\"manuscript_result_text\"]\n",
    "#         cited_text = row[\"cited_text\"]\n",
    "        \n",
    "#         # tokenize manuscript_result_text, cited_text into sentences\n",
    "#         query_sentences = tokenizer.tokenize(manuscript_result_text)\n",
    "#         cited_sentences = tokenizer.tokenize(cited_text)\n",
    "        \n",
    "#         # compute sentence embeddings\n",
    "#         query_embeddings = model.embed_sentences(query_sentences)\n",
    "#         cited_embeddings = model.embed_sentences(cited_sentences)\n",
    "        \n",
    "#         # compute similarity matrix\n",
    "#         similarity = cosine_similarity(query_embeddings, cited_embeddings)\n",
    "        \n",
    "#         # get indices of highest similarity scores \n",
    "#         indices = np.argpartition(similarity, kth=-k, axis=None)[-k:]\n",
    "\n",
    "#         # get indices in decreasing order wrt scores and corresponding scores \n",
    "#         indices = np.flip(indices[np.argsort(similarity.flatten()[indices])])\n",
    "#         topk_scores = similarity.flatten()[indices]\n",
    "#         all_topk_scores.append(topk_scores)\n",
    "        \n",
    "#         # get corresponding cited_sentences \n",
    "#         indices %= similarity.shape[1]\n",
    "#         topk_cited_sentences = [cited_sentences[i] for i in indices]\n",
    "#         all_topk_cited_sentences.append(topk_cited_sentences)\n",
    "\n",
    "#         # record rouge scores\n",
    "#         for i in range(1,5):\n",
    "#             all_rouge[i].append(rouge_n(citation_sentence, \" \".join(topk_cited_sentences), n=i))\n",
    "        \n",
    "#         # record time taken for this row\n",
    "#         time_taken.append(time.time() - start)\n",
    "#         break"
   ]
  },
  {
   "cell_type": "code",
   "execution_count": null,
   "metadata": {},
   "outputs": [],
   "source": []
  }
 ],
 "metadata": {
  "kernelspec": {
   "display_name": "Python 3",
   "language": "python",
   "name": "python3"
  },
  "language_info": {
   "codemirror_mode": {
    "name": "ipython",
    "version": 3
   },
   "file_extension": ".py",
   "mimetype": "text/x-python",
   "name": "python",
   "nbconvert_exporter": "python",
   "pygments_lexer": "ipython3",
   "version": "3.7.10"
  }
 },
 "nbformat": 4,
 "nbformat_minor": 4
}
