{
 "cells": [
  {
   "cell_type": "code",
   "execution_count": 10,
   "id": "opposite-rally",
   "metadata": {},
   "outputs": [],
   "source": [
    "import json\n",
    "import tqdm\n",
    "from tqdm import tqdm\n",
    "\n",
    "from collections import Counter"
   ]
  },
  {
   "cell_type": "code",
   "execution_count": 50,
   "id": "awful-manual",
   "metadata": {},
   "outputs": [
    {
     "name": "stderr",
     "output_type": "stream",
     "text": [
      "761495it [01:05, 11686.72it/s]\n"
     ]
    }
   ],
   "source": [
    "# get number of papers involved in this dataset\n",
    "n = 0\n",
    "manuscript_ids = Counter()\n",
    "cited_ids = Counter()\n",
    "with open(\"../data/citation_generation/dataset.jsonl\", \"r\") as f:\n",
    "    for line in tqdm(f):\n",
    "        row = json.loads(line)\n",
    "        manuscript_ids[row[\"manuscript_id\"]] += 1\n",
    "        cited_ids[row[\"cited_id\"]] += 1\n",
    "        n += 1"
   ]
  },
  {
   "cell_type": "code",
   "execution_count": 48,
   "id": "infrared-carpet",
   "metadata": {
    "collapsed": true,
    "jupyter": {
     "outputs_hidden": true
    }
   },
   "outputs": [
    {
     "name": "stdout",
     "output_type": "stream",
     "text": [
      "There are 511887 unique manuscript_ids\n",
      "i: number of manuscript_ids that appear i times\n"
     ]
    },
    {
     "data": {
      "text/plain": [
       "[(1, 349927),\n",
       " (2, 106792),\n",
       " (3, 35199),\n",
       " (4, 12465),\n",
       " (5, 4597),\n",
       " (6, 1725),\n",
       " (7, 675),\n",
       " (8, 286),\n",
       " (9, 120),\n",
       " (10, 60),\n",
       " (11, 22),\n",
       " (12, 10),\n",
       " (13, 5),\n",
       " (14, 1),\n",
       " (16, 1),\n",
       " (18, 1),\n",
       " (24, 1)]"
      ]
     },
     "execution_count": 48,
     "metadata": {},
     "output_type": "execute_result"
    }
   ],
   "source": [
    "print(f\"There are {len(manuscript_ids)} unique manuscript_ids\")\n",
    "print(\"i: number of manuscript_ids that appear i times\")\n",
    "sorted(Counter(manuscript_ids.values()).items())"
   ]
  },
  {
   "cell_type": "code",
   "execution_count": 49,
   "id": "handled-opinion",
   "metadata": {
    "scrolled": true
   },
   "outputs": [
    {
     "name": "stdout",
     "output_type": "stream",
     "text": [
      "There are 446593 unique cited_ids\n",
      "i: number of cited_ids that appear i times\n"
     ]
    },
    {
     "data": {
      "text/plain": [
       "[(1, 287032),\n",
       " (2, 89655),\n",
       " (3, 35536),\n",
       " (4, 15797),\n",
       " (5, 7836),\n",
       " (6, 4239),\n",
       " (7, 2378),\n",
       " (8, 1383),\n",
       " (9, 859),\n",
       " (10, 533),\n",
       " (11, 352),\n",
       " (12, 242),\n",
       " (13, 168),\n",
       " (14, 132),\n",
       " (15, 88),\n",
       " (16, 79),\n",
       " (17, 58),\n",
       " (18, 34),\n",
       " (19, 33),\n",
       " (20, 23),\n",
       " (21, 18),\n",
       " (22, 16),\n",
       " (23, 10),\n",
       " (24, 5),\n",
       " (25, 15),\n",
       " (26, 10),\n",
       " (27, 7),\n",
       " (28, 6),\n",
       " (29, 6),\n",
       " (30, 6),\n",
       " (31, 1),\n",
       " (32, 4),\n",
       " (33, 5),\n",
       " (34, 3),\n",
       " (35, 1),\n",
       " (36, 1),\n",
       " (37, 2),\n",
       " (38, 4),\n",
       " (39, 3),\n",
       " (40, 1),\n",
       " (41, 2),\n",
       " (42, 2),\n",
       " (45, 1),\n",
       " (46, 2),\n",
       " (48, 1),\n",
       " (51, 1),\n",
       " (52, 1),\n",
       " (55, 1),\n",
       " (80, 1)]"
      ]
     },
     "execution_count": 49,
     "metadata": {},
     "output_type": "execute_result"
    }
   ],
   "source": [
    "print(f\"There are {len(cited_ids)} unique cited_ids\")\n",
    "print(\"i: number of cited_ids that appear i times\")\n",
    "sorted(Counter(cited_ids.values()).items())"
   ]
  },
  {
   "cell_type": "code",
   "execution_count": 86,
   "id": "thrown-logistics",
   "metadata": {},
   "outputs": [
    {
     "name": "stdout",
     "output_type": "stream",
     "text": [
      "609196 152299\n"
     ]
    }
   ],
   "source": [
    "# perform 80-20 train-test split\n",
    "from sklearn.model_selection import ShuffleSplit\n",
    "\n",
    "splitter = ShuffleSplit(n_splits=1, test_size=0.2)\n",
    "train_ind, test_ind = next(splitter.split(range(n)))\n",
    "train_ind = set(train_ind)\n",
    "test_ind = set(test_ind)\n",
    "print(len(train_ind), len(test_ind))"
   ]
  },
  {
   "cell_type": "code",
   "execution_count": 89,
   "id": "annoying-christian",
   "metadata": {},
   "outputs": [
    {
     "name": "stderr",
     "output_type": "stream",
     "text": [
      "761495it [01:39, 7631.46it/s] \n"
     ]
    }
   ],
   "source": [
    "with open(\"../data/citation_generation/dataset.jsonl\", \"r\") as f:\n",
    "    with open(\"../data/citation_generation/train.jsonl\", \"w\") as train_f:\n",
    "        with open(\"../data/citation_generation/test.jsonl\", \"w\") as test_f:\n",
    "            for i, line in tqdm(enumerate(f)):\n",
    "                if i in train_ind: \n",
    "                    train_f.write(line)\n",
    "                elif i in test_ind: \n",
    "                    test_f.write(line)\n",
    "                else:\n",
    "                    print(i)\n",
    "                    break"
   ]
  },
  {
   "cell_type": "code",
   "execution_count": null,
   "id": "independent-environment",
   "metadata": {},
   "outputs": [],
   "source": []
  }
 ],
 "metadata": {
  "kernelspec": {
   "display_name": "Python 3",
   "language": "python",
   "name": "python3"
  },
  "language_info": {
   "codemirror_mode": {
    "name": "ipython",
    "version": 3
   },
   "file_extension": ".py",
   "mimetype": "text/x-python",
   "name": "python",
   "nbconvert_exporter": "python",
   "pygments_lexer": "ipython3",
   "version": "3.7.10"
  }
 },
 "nbformat": 4,
 "nbformat_minor": 5
}
