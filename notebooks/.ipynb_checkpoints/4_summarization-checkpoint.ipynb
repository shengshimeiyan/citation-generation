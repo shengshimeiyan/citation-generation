{
 "cells": [
  {
   "cell_type": "code",
   "execution_count": 1,
   "metadata": {},
   "outputs": [],
   "source": [
    "import json\n",
    "import random\n",
    "import tqdm\n",
    "from tqdm import tqdm\n",
    "\n",
    "import numpy as np\n",
    "import pandas as pd"
   ]
  },
  {
   "cell_type": "code",
   "execution_count": 2,
   "metadata": {},
   "outputs": [],
   "source": [
    "import sys\n",
    "sys.path.append(\"..\")\n",
    "\n",
    "from scripts.utils import *"
   ]
  },
  {
   "cell_type": "markdown",
   "metadata": {},
   "source": [
    "## 1. Load data"
   ]
  },
  {
   "cell_type": "code",
   "execution_count": 3,
   "metadata": {
    "scrolled": true
   },
   "outputs": [
    {
     "name": "stderr",
     "output_type": "stream",
     "text": [
      "100it [00:00, 11562.84it/s]\n"
     ]
    },
    {
     "data": {
      "text/html": [
       "<div>\n",
       "<style scoped>\n",
       "    .dataframe tbody tr th:only-of-type {\n",
       "        vertical-align: middle;\n",
       "    }\n",
       "\n",
       "    .dataframe tbody tr th {\n",
       "        vertical-align: top;\n",
       "    }\n",
       "\n",
       "    .dataframe thead th {\n",
       "        text-align: right;\n",
       "    }\n",
       "</style>\n",
       "<table border=\"1\" class=\"dataframe\">\n",
       "  <thead>\n",
       "    <tr style=\"text-align: right;\">\n",
       "      <th></th>\n",
       "      <th>citation_sentence</th>\n",
       "      <th>manuscript_id</th>\n",
       "      <th>cited_id</th>\n",
       "      <th>cited_text</th>\n",
       "      <th>manuscript_result_text</th>\n",
       "    </tr>\n",
       "  </thead>\n",
       "  <tbody>\n",
       "    <tr>\n",
       "      <th>0</th>\n",
       "      <td>In addition, we here report comparable changes...</td>\n",
       "      <td>8281087</td>\n",
       "      <td>15228934</td>\n",
       "      <td>ietary incorporation of plant sterols and stan...</td>\n",
       "      <td>The systematic search retrieved 1084 potentia...</td>\n",
       "    </tr>\n",
       "    <tr>\n",
       "      <th>1</th>\n",
       "      <td>In addition, we here report comparable changes...</td>\n",
       "      <td>8281087</td>\n",
       "      <td>20547173</td>\n",
       "      <td>Elevated plasma total cholesterol (TC) 5 and L...</td>\n",
       "      <td>The systematic search retrieved 1084 potentia...</td>\n",
       "    </tr>\n",
       "    <tr>\n",
       "      <th>2</th>\n",
       "      <td>In addition, we here report comparable changes...</td>\n",
       "      <td>8281087</td>\n",
       "      <td>15671550</td>\n",
       "      <td>Phytosterols (PS), comprising both plant stero...</td>\n",
       "      <td>The systematic search retrieved 1084 potentia...</td>\n",
       "    </tr>\n",
       "    <tr>\n",
       "      <th>3</th>\n",
       "      <td>Such a discrepancy may likely be due to dose-o...</td>\n",
       "      <td>8281923</td>\n",
       "      <td>6704669</td>\n",
       "      <td>3,4-Methylenedioxymethamphetamine (MDMA; \"ecst...</td>\n",
       "      <td>Two earlier studies have reported that male 5...</td>\n",
       "    </tr>\n",
       "    <tr>\n",
       "      <th>4</th>\n",
       "      <td>Similar to earlier observations (42) , the inf...</td>\n",
       "      <td>11155963</td>\n",
       "      <td>4009171</td>\n",
       "      <td>Plasmodium falciparum is metabolically highly ...</td>\n",
       "      <td>Cell membrane scrambling, a hallmark of erypt...</td>\n",
       "    </tr>\n",
       "  </tbody>\n",
       "</table>\n",
       "</div>"
      ],
      "text/plain": [
       "                                   citation_sentence manuscript_id  cited_id  \\\n",
       "0  In addition, we here report comparable changes...       8281087  15228934   \n",
       "1  In addition, we here report comparable changes...       8281087  20547173   \n",
       "2  In addition, we here report comparable changes...       8281087  15671550   \n",
       "3  Such a discrepancy may likely be due to dose-o...       8281923   6704669   \n",
       "4  Similar to earlier observations (42) , the inf...      11155963   4009171   \n",
       "\n",
       "                                          cited_text  \\\n",
       "0  ietary incorporation of plant sterols and stan...   \n",
       "1  Elevated plasma total cholesterol (TC) 5 and L...   \n",
       "2  Phytosterols (PS), comprising both plant stero...   \n",
       "3  3,4-Methylenedioxymethamphetamine (MDMA; \"ecst...   \n",
       "4  Plasmodium falciparum is metabolically highly ...   \n",
       "\n",
       "                              manuscript_result_text  \n",
       "0   The systematic search retrieved 1084 potentia...  \n",
       "1   The systematic search retrieved 1084 potentia...  \n",
       "2   The systematic search retrieved 1084 potentia...  \n",
       "3   Two earlier studies have reported that male 5...  \n",
       "4   Cell membrane scrambling, a hallmark of erypt...  "
      ]
     },
     "metadata": {},
     "output_type": "display_data"
    },
    {
     "name": "stdout",
     "output_type": "stream",
     "text": [
      "Total number of rows: 100\n"
     ]
    }
   ],
   "source": [
    "d = load_data(\"../data/citation_generation/test_dataset.jsonl\")\n",
    "dataset = pd.DataFrame.from_dict(d).T\n",
    "display(dataset.head())\n",
    "print(f\"Total number of rows: {len(dataset)}\")"
   ]
  },
  {
   "cell_type": "code",
   "execution_count": 29,
   "metadata": {
    "scrolled": true
   },
   "outputs": [
    {
     "name": "stdout",
     "output_type": "stream",
     "text": [
      "In addition, we here report comparable changes in serum cholesterol and lipoprotein concentrations as found in previously published meta-analyses [1] [2] [3] , implying that the included studies in this meta-analyses are representative of all available studies in the literature that have been performed with plant sterols and plant stanols.\n"
     ]
    }
   ],
   "source": [
    "i = 0\n",
    "citation_sentence = dataset.loc[i, \"citation_sentence\"]\n",
    "cited_text = dataset.loc[i, \"cited_text\"]\n",
    "manuscript_result_text = dataset.loc[i, \"manuscript_result_text\"]\n",
    "\n",
    "print(citation_sentence)"
   ]
  },
  {
   "cell_type": "markdown",
   "metadata": {},
   "source": [
    "## 2. Tokenize texts into sentences"
   ]
  },
  {
   "cell_type": "code",
   "execution_count": 30,
   "metadata": {
    "scrolled": true
   },
   "outputs": [],
   "source": [
    "from nltk.tokenize.punkt import PunktSentenceTokenizer, PunktParameters\n",
    "\n",
    "\n",
    "# tokenizer should not split at abbrieviations\n",
    "punkt_params = PunktParameters()\n",
    "punkt_params.abbrev_types = set([\"i.e\", \"e.g\", \"etc\", \"al\", \"fig\", \"figs\", \n",
    "                                 \"ref\", \"refs\", \"p\", \"c\", \"s\"]) \n",
    "\n",
    "# initialise sentence tokenizer\n",
    "tokenizer = PunktSentenceTokenizer(punkt_params)"
   ]
  },
  {
   "cell_type": "code",
   "execution_count": 31,
   "metadata": {
    "scrolled": true
   },
   "outputs": [
    {
     "name": "stdout",
     "output_type": "stream",
     "text": [
      " The systematic search retrieved 1084 potentially relevant papers, and after two selection rounds, 41 RCTs were included in the meta-analysis.\n",
      "A flowchart of the study selection process is presented in Fig. 1 .\n",
      "Of the 41 included studies (Online Supplemental Material Tables 1 and 2 ), 23 were conducted as a parallel study [15-17, 19, 21-26, 28-31, 34, 38-45] and 18 studies had a crossover design [13, 14, 18, 20, [46] [47] [48] [49] [50] [51] [52] [53] [54] [55] [56] [57] [58] [59]  The weighted effects of plant sterol or plant stanol consumption on plasma fat-soluble vitamin and carotenoid concentrations are presented in Table 1 .\n",
      "Non-standardized and TC-standardized hydrocarbon carotenoid concentrations, i.e., lycopene, α-carotene and β-carotene, were significantly (P < 0.0001) lowered after consumption of plant sterol-or plant stanol-enriched foods.\n",
      "β-Carotene For parallel studies, the weighted average baseline concentrations were calculated based on the baseline concentrations in the active and placebo groups and for crossover studies, the end-ofintervention concentrations of the placebo periods were used b For parallel studies, the weighted average concentrations after PS intervention were calculated based on the concentrations after PS intervention in the active groups and for crossover studies, the end-of-intervention concentrations of the active periods were used .\n",
      "Non-standardized tocopherol concentrations significantly (P < 0.0001) decreased after plant sterol or plant stanol consumption (α-tocopherol on average by 2.43 µmol/L (−7.1 %) and γ-tocopherol by 0.17 µmol/L (−6.9 %).\n",
      "However, when standardized for TC concentrations, α-and γ-tocopherol concentrations were no longer changed after plant sterol or plant stanol consumption (−0.3 and 0.2 %, respectively; P > 0.05).\n",
      "Concentrations of retinol and vitamin D were not changed after plant sterol or plant stanol consumption (−0.8 and 1.4 %, respectively; P > 0.05).\n",
      "TC concentrations were significantly (P < 0.0001) decreased on average by 0.39 mmol/L (−6.5 %) and LDL-C concentrations by 0.35 mmol/L (−9.0 %).\n",
      "HDL-C concentrations did not change after plant sterol or plant stanol consumption (0.2 %), while TAG concentrations were significantly (P < 0.0001) decreased by 0.06 mmol/L (−4.6 %) ( Table 1) .\n",
      "\n",
      "ietary incorporation of plant sterols and stanols is recommended for blood cholesterol reduction (1, 2).\n",
      "Berger et al. reviewed clinical trials on efficacy of plant sterols as cholesterol lowering agents and reported that the consumption of plant sterols/stanols have been reported to reduce low density lipoprotein (LDL) cholesterol levels by 5Á15% (3) .\n",
      "Reasons for such large variations need to be investigated.\n",
      "Earlier studies that have tested the efficacy of plant sterols/stanols as cholesterol lowering agents incorporated plant sterols/stanols into either regular or low fat spreads (8Á13).\n",
      "Since it appears counterintuitive to use a high fat food product to deliver a cholesterol lowering agent, clinical trials have been conducted to test the efficacy of plant sterols/stanols incorporated into low fat products (14) .\n",
      "A number of clinical trials have tested the efficacy of plant sterols/stanols incorporated into low fat foods including low fat milk (15, 16) , low fat yoghurt (16Á20), bakery products (21) , orange juice (22, 23) , cereal bars (24) and low and non-fat beverages (25Á27).\n",
      "However, although plant sterols/stanols that are incorporated into low fat food have been shown to reduce blood cholesterol (24, 27, 28) , the same food carrier tested in different trials gave different magnitude in LDL cholesterol reduction.\n",
      "Plant sterol/stanol enriched yoghurt and milk drinks have resulted in LDL cholesterol reduction in the range of 5Á14% in various clinical trials (29) .\n",
      "The study by Clifton et al. (30) compared the effect of plant stanol esterified to fatty acids and incorporated in a number of food matrices including bread, breakfast cereal, milk and yoghurt on plasma lipids.\n",
      "Plant stanol esters in low fat milk were almost three times more effective than in bread and cereal (page number not for citation purpose) in lowering plasma cholesterol levels.\n"
     ]
    }
   ],
   "source": [
    "# tokenize manuscript_result_text, cited_text into sentences\n",
    "query_sentences = tokenizer.tokenize(manuscript_result_text)\n",
    "cited_sentences = tokenizer.tokenize(cited_text)\n",
    "\n",
    "for j in range(10): print(query_sentences[j])\n",
    "print()\n",
    "for j in range(10): print(cited_sentences[j])"
   ]
  },
  {
   "cell_type": "markdown",
   "metadata": {},
   "source": [
    "## 3. Compute sentence embeddings"
   ]
  },
  {
   "cell_type": "code",
   "execution_count": 32,
   "metadata": {},
   "outputs": [],
   "source": [
    "# import sent2vec\n",
    "\n",
    "# model = sent2vec.Sent2vecModel()\n",
    "# model.load_model('model.bin') \n",
    "# emb = model.embed_sentence(\"once upon a time .\") \n",
    "# embs = model.embed_sentences([\"first sentence .\", \"another sentence\"])"
   ]
  },
  {
   "cell_type": "markdown",
   "metadata": {},
   "source": [
    "- I've been unable to download any of the .bin files from https://github.com/epfml/sent2vec"
   ]
  },
  {
   "cell_type": "code",
   "execution_count": 33,
   "metadata": {},
   "outputs": [],
   "source": [
    "from sentence_transformers import SentenceTransformer\n",
    "\n",
    "model = SentenceTransformer(\"stsb-distilbert-base\")"
   ]
  },
  {
   "cell_type": "code",
   "execution_count": 34,
   "metadata": {},
   "outputs": [],
   "source": [
    "# compute sentence embeddings\n",
    "query_embeddings = model.encode(query_sentences)\n",
    "cited_embeddings = model.encode(cited_sentences)"
   ]
  },
  {
   "cell_type": "markdown",
   "metadata": {},
   "source": [
    "## 4. Compute sentence similarity scores"
   ]
  },
  {
   "cell_type": "code",
   "execution_count": 35,
   "metadata": {},
   "outputs": [
    {
     "name": "stdout",
     "output_type": "stream",
     "text": [
      "(23, 152)\n"
     ]
    }
   ],
   "source": [
    "from sklearn.metrics.pairwise import cosine_similarity\n",
    "\n",
    "similarity = cosine_similarity(query_embeddings, cited_embeddings)\n",
    "print(similarity.shape)"
   ]
  },
  {
   "cell_type": "code",
   "execution_count": 75,
   "metadata": {
    "scrolled": true
   },
   "outputs": [
    {
     "name": "stdout",
     "output_type": "stream",
     "text": [
      "[0.7383168, 'Non-standardized and TC-standardized hydrocarbon carotenoid concentrations, i.e., lycopene, α-carotene and β-carotene, were significantly (P < 0.0001) lowered after consumption of plant sterol-or plant stanol-enriched foods.', \"In conclusion, plant sterol/stanol containing products significantly reduced LDL concentrations but the reduction was related to individuals' baseline LDL levels, food carrier, frequency and time of intake.\"]\n",
      "\n",
      "[0.7263868, 'HDL-C concentrations did not change after plant sterol or plant stanol consumption (0.2 %), while TAG concentrations were significantly (P < 0.0001) decreased by 0.06 mmol/L (−4.6 %) ( Table 1) .', 'For instance, plant sterols/stanols consumed 2Á3 times/day reduced LDL cholesterol levels by 0.34 mmol/L (95% CI: (0.38, (0.18) while plant sterols/stanols consumed once per day in the morning did not result in a significant reduction in LDL levels.']\n",
      "\n",
      "[0.67912066, 'Non-standardized and TC-standardized hydrocarbon carotenoid concentrations, i.e., lycopene, α-carotene and β-carotene, were significantly (P < 0.0001) lowered after consumption of plant sterol-or plant stanol-enriched foods.', 'Plat et al. (31) showed that 2.5 g of plant stanols in margarines and shortenings consumed for four weeks once per day at lunch or divided over three meals, lowered LDL cholesterol levels to a similar extent, about 10%.']\n",
      "\n",
      "[0.6732609, 'In addition, changes in TC concentrations after plant sterol or plant stanol consumption were significantly affected by baseline concentrations (only absolute TC changes) and by the dose of plant sterol or plant stanol intake.', 'The present meta-analysis has confirmed that baseline LDL cholesterol levels affect magnitude of reduction in LDL after plant sterol/stanol consumption which could explain the wide variation in responsiveness seen in previous studies.']\n",
      "\n",
      "[0.6659426, 'Non-standardized and TC-standardized hydrocarbon carotenoid concentrations, i.e., lycopene, α-carotene and β-carotene, were significantly (P < 0.0001) lowered after consumption of plant sterol-or plant stanol-enriched foods.', 'Another (5) looked at the efficacy and safety of plant sterols/stanols as cholesterol lowering agents, but since 2003 a number of clinical trials have examined the efficacy of low fat foods containing plant sterols/stanols and observed substantially weaker effects.']\n",
      "\n"
     ]
    }
   ],
   "source": [
    "k = 5\n",
    "indices = np.argpartition(similarity, kth=-k, axis=None)[-k:]\n",
    "indices = np.flip(indices[np.argsort(similarity.flatten()[indices])])\n",
    "topk_similarity = similarity.flatten()[indices]\n",
    "\n",
    "topk_sentence_pairs = []\n",
    "for i in range(k): \n",
    "    ind = indices[i]\n",
    "    a = ind // similarity.shape[1]\n",
    "    b = ind % similarity.shape[1]\n",
    "    topk_sentence_pairs.append([(a,b), topk_similarity[i], \n",
    "                                    query_sentences[a], \n",
    "                                    cited_sentences[b]])\n",
    "\n",
    "for s in topk_sentence_pairs:\n",
    "    print(s[1:])\n",
    "    print()"
   ]
  },
  {
   "cell_type": "code",
   "execution_count": 80,
   "metadata": {},
   "outputs": [
    {
     "name": "stdout",
     "output_type": "stream",
     "text": [
      "In conclusion, plant sterol/stanol containing products significantly reduced LDL concentrations but the reduction was related to individuals' baseline LDL levels, food carrier, frequency and time of intake. For instance, plant sterols/stanols consumed 2Á3 times/day reduced LDL cholesterol levels by 0.34 mmol/L (95% CI: (0.38, (0.18) while plant sterols/stanols consumed once per day in the morning did not result in a significant reduction in LDL levels. Plat et al. (31) showed that 2.5 g of plant stanols in margarines and shortenings consumed for four weeks once per day at lunch or divided over three meals, lowered LDL cholesterol levels to a similar extent, about 10%. The present meta-analysis has confirmed that baseline LDL cholesterol levels affect magnitude of reduction in LDL after plant sterol/stanol consumption which could explain the wide variation in responsiveness seen in previous studies. Another (5) looked at the efficacy and safety of plant sterols/stanols as cholesterol lowering agents, but since 2003 a number of clinical trials have examined the efficacy of low fat foods containing plant sterols/stanols and observed substantially weaker effects.\n",
      "\n",
      "In addition, we here report comparable changes in serum cholesterol and lipoprotein concentrations as found in previously published meta-analyses [1] [2] [3] , implying that the included studies in this meta-analyses are representative of all available studies in the literature that have been performed with plant sterols and plant stanols.\n"
     ]
    }
   ],
   "source": [
    "topk_cited_sentences = \" \".join([p[-1] for p in topk_sentence_pairs])\n",
    "print(topk_cited_sentences)\n",
    "print()\n",
    "print(citation_sentence)"
   ]
  },
  {
   "cell_type": "code",
   "execution_count": 81,
   "metadata": {},
   "outputs": [
    {
     "name": "stdout",
     "output_type": "stream",
     "text": [
      "0.9354838709677419\n",
      "0.8321678321678322\n",
      "0.5942622950819673\n",
      "0.43853820598006643\n"
     ]
    }
   ],
   "source": [
    "for i in range(1,5):\n",
    "    print(rouge_n(citation_sentence, topk_cited_sentences, n=i))"
   ]
  },
  {
   "cell_type": "code",
   "execution_count": 102,
   "metadata": {},
   "outputs": [],
   "source": [
    "def get_topk_citation_sentences(manuscript_result_text, cited_text, k=5, threshold=0.6):\n",
    "    # tokenize into sentences\n",
    "    query_sentences = tokenizer.tokenize(manuscript_result_text)\n",
    "    cited_sentences = tokenizer.tokenize(cited_text)\n",
    "\n",
    "    # compute embeddings and cosine similarity matrix\n",
    "    query_embeddings = model.encode(query_sentences)\n",
    "    cited_embeddings = model.encode(cited_sentences)\n",
    "    similarity = cosine_similarity(query_embeddings, cited_embeddings)\n",
    "    \n",
    "    # get indices of highest similarity scores \n",
    "    indices = np.argpartition(similarity, kth=-k, axis=None)[-k:]\n",
    "    topk_similarity = similarity.flatten()[indices]\n",
    "    \n",
    "    # filter out scores that are below threshold\n",
    "    indices = indices[topk_similarity > threshold]\n",
    "    topk_similarity = topk_similarity[topk_similarity > threshold]\n",
    "    \n",
    "    # get scores and indices in decreasing order\n",
    "    indices = np.flip(indices[np.argsort(similarity.flatten()[indices])])\n",
    "    topk_similarity = similarity.flatten()[indices]\n",
    "\n",
    "    # return tuples of indices, scores, query_sentence, cited_sentence\n",
    "    topk_sentence_pairs = []\n",
    "    for i in range(k): \n",
    "        ind = indices[i]\n",
    "        a = ind // similarity.shape[1]\n",
    "        b = ind % similarity.shape[1]\n",
    "        topk_sentence_pairs.append([(a,b), topk_similarity[i], \n",
    "                                        query_sentences[a], \n",
    "                                        cited_sentences[b]])\n",
    "\n",
    "    return topk_sentence_pairs"
   ]
  },
  {
   "cell_type": "markdown",
   "metadata": {},
   "source": [
    "## 5. Extractively summarize the entire dataset"
   ]
  },
  {
   "cell_type": "code",
   "execution_count": 103,
   "metadata": {},
   "outputs": [
    {
     "ename": "IndexError",
     "evalue": "index 1 is out of bounds for axis 0 with size 1",
     "output_type": "error",
     "traceback": [
      "\u001b[0;31m---------------------------------------------------------------------------\u001b[0m",
      "\u001b[0;31mIndexError\u001b[0m                                Traceback (most recent call last)",
      "\u001b[0;32m<ipython-input-103-87f650559c48>\u001b[0m in \u001b[0;36m<module>\u001b[0;34m\u001b[0m\n\u001b[1;32m      1\u001b[0m all_topk_sentence_pairs = dataset[[\"manuscript_result_text\", \"cited_text\"]].apply(\n\u001b[0;32m----> 2\u001b[0;31m     \u001b[0;32mlambda\u001b[0m \u001b[0mrow\u001b[0m\u001b[0;34m:\u001b[0m \u001b[0mget_topk_citation_sentences\u001b[0m\u001b[0;34m(\u001b[0m\u001b[0;34m*\u001b[0m\u001b[0mrow\u001b[0m\u001b[0;34m)\u001b[0m\u001b[0;34m,\u001b[0m \u001b[0maxis\u001b[0m\u001b[0;34m=\u001b[0m\u001b[0;36m1\u001b[0m\u001b[0;34m\u001b[0m\u001b[0;34m\u001b[0m\u001b[0m\n\u001b[0m\u001b[1;32m      3\u001b[0m )\n",
      "\u001b[0;32m~/anaconda3/envs/citation/lib/python3.7/site-packages/pandas/core/frame.py\u001b[0m in \u001b[0;36mapply\u001b[0;34m(self, func, axis, raw, result_type, args, **kwds)\u001b[0m\n\u001b[1;32m   7546\u001b[0m             \u001b[0mkwds\u001b[0m\u001b[0;34m=\u001b[0m\u001b[0mkwds\u001b[0m\u001b[0;34m,\u001b[0m\u001b[0;34m\u001b[0m\u001b[0;34m\u001b[0m\u001b[0m\n\u001b[1;32m   7547\u001b[0m         )\n\u001b[0;32m-> 7548\u001b[0;31m         \u001b[0;32mreturn\u001b[0m \u001b[0mop\u001b[0m\u001b[0;34m.\u001b[0m\u001b[0mget_result\u001b[0m\u001b[0;34m(\u001b[0m\u001b[0;34m)\u001b[0m\u001b[0;34m\u001b[0m\u001b[0;34m\u001b[0m\u001b[0m\n\u001b[0m\u001b[1;32m   7549\u001b[0m \u001b[0;34m\u001b[0m\u001b[0m\n\u001b[1;32m   7550\u001b[0m     \u001b[0;32mdef\u001b[0m \u001b[0mapplymap\u001b[0m\u001b[0;34m(\u001b[0m\u001b[0mself\u001b[0m\u001b[0;34m,\u001b[0m \u001b[0mfunc\u001b[0m\u001b[0;34m)\u001b[0m \u001b[0;34m->\u001b[0m \u001b[0;34m\"DataFrame\"\u001b[0m\u001b[0;34m:\u001b[0m\u001b[0;34m\u001b[0m\u001b[0;34m\u001b[0m\u001b[0m\n",
      "\u001b[0;32m~/anaconda3/envs/citation/lib/python3.7/site-packages/pandas/core/apply.py\u001b[0m in \u001b[0;36mget_result\u001b[0;34m(self)\u001b[0m\n\u001b[1;32m    178\u001b[0m             \u001b[0;32mreturn\u001b[0m \u001b[0mself\u001b[0m\u001b[0;34m.\u001b[0m\u001b[0mapply_raw\u001b[0m\u001b[0;34m(\u001b[0m\u001b[0;34m)\u001b[0m\u001b[0;34m\u001b[0m\u001b[0;34m\u001b[0m\u001b[0m\n\u001b[1;32m    179\u001b[0m \u001b[0;34m\u001b[0m\u001b[0m\n\u001b[0;32m--> 180\u001b[0;31m         \u001b[0;32mreturn\u001b[0m \u001b[0mself\u001b[0m\u001b[0;34m.\u001b[0m\u001b[0mapply_standard\u001b[0m\u001b[0;34m(\u001b[0m\u001b[0;34m)\u001b[0m\u001b[0;34m\u001b[0m\u001b[0;34m\u001b[0m\u001b[0m\n\u001b[0m\u001b[1;32m    181\u001b[0m \u001b[0;34m\u001b[0m\u001b[0m\n\u001b[1;32m    182\u001b[0m     \u001b[0;32mdef\u001b[0m \u001b[0mapply_empty_result\u001b[0m\u001b[0;34m(\u001b[0m\u001b[0mself\u001b[0m\u001b[0;34m)\u001b[0m\u001b[0;34m:\u001b[0m\u001b[0;34m\u001b[0m\u001b[0;34m\u001b[0m\u001b[0m\n",
      "\u001b[0;32m~/anaconda3/envs/citation/lib/python3.7/site-packages/pandas/core/apply.py\u001b[0m in \u001b[0;36mapply_standard\u001b[0;34m(self)\u001b[0m\n\u001b[1;32m    269\u001b[0m \u001b[0;34m\u001b[0m\u001b[0m\n\u001b[1;32m    270\u001b[0m     \u001b[0;32mdef\u001b[0m \u001b[0mapply_standard\u001b[0m\u001b[0;34m(\u001b[0m\u001b[0mself\u001b[0m\u001b[0;34m)\u001b[0m\u001b[0;34m:\u001b[0m\u001b[0;34m\u001b[0m\u001b[0;34m\u001b[0m\u001b[0m\n\u001b[0;32m--> 271\u001b[0;31m         \u001b[0mresults\u001b[0m\u001b[0;34m,\u001b[0m \u001b[0mres_index\u001b[0m \u001b[0;34m=\u001b[0m \u001b[0mself\u001b[0m\u001b[0;34m.\u001b[0m\u001b[0mapply_series_generator\u001b[0m\u001b[0;34m(\u001b[0m\u001b[0;34m)\u001b[0m\u001b[0;34m\u001b[0m\u001b[0;34m\u001b[0m\u001b[0m\n\u001b[0m\u001b[1;32m    272\u001b[0m \u001b[0;34m\u001b[0m\u001b[0m\n\u001b[1;32m    273\u001b[0m         \u001b[0;31m# wrap results\u001b[0m\u001b[0;34m\u001b[0m\u001b[0;34m\u001b[0m\u001b[0;34m\u001b[0m\u001b[0m\n",
      "\u001b[0;32m~/anaconda3/envs/citation/lib/python3.7/site-packages/pandas/core/apply.py\u001b[0m in \u001b[0;36mapply_series_generator\u001b[0;34m(self)\u001b[0m\n\u001b[1;32m    298\u001b[0m                 \u001b[0;32mfor\u001b[0m \u001b[0mi\u001b[0m\u001b[0;34m,\u001b[0m \u001b[0mv\u001b[0m \u001b[0;32min\u001b[0m \u001b[0menumerate\u001b[0m\u001b[0;34m(\u001b[0m\u001b[0mseries_gen\u001b[0m\u001b[0;34m)\u001b[0m\u001b[0;34m:\u001b[0m\u001b[0;34m\u001b[0m\u001b[0;34m\u001b[0m\u001b[0m\n\u001b[1;32m    299\u001b[0m                     \u001b[0;31m# ignore SettingWithCopy here in case the user mutates\u001b[0m\u001b[0;34m\u001b[0m\u001b[0;34m\u001b[0m\u001b[0;34m\u001b[0m\u001b[0m\n\u001b[0;32m--> 300\u001b[0;31m                     \u001b[0mresults\u001b[0m\u001b[0;34m[\u001b[0m\u001b[0mi\u001b[0m\u001b[0;34m]\u001b[0m \u001b[0;34m=\u001b[0m \u001b[0mself\u001b[0m\u001b[0;34m.\u001b[0m\u001b[0mf\u001b[0m\u001b[0;34m(\u001b[0m\u001b[0mv\u001b[0m\u001b[0;34m)\u001b[0m\u001b[0;34m\u001b[0m\u001b[0;34m\u001b[0m\u001b[0m\n\u001b[0m\u001b[1;32m    301\u001b[0m                     \u001b[0;32mif\u001b[0m \u001b[0misinstance\u001b[0m\u001b[0;34m(\u001b[0m\u001b[0mresults\u001b[0m\u001b[0;34m[\u001b[0m\u001b[0mi\u001b[0m\u001b[0;34m]\u001b[0m\u001b[0;34m,\u001b[0m \u001b[0mABCSeries\u001b[0m\u001b[0;34m)\u001b[0m\u001b[0;34m:\u001b[0m\u001b[0;34m\u001b[0m\u001b[0;34m\u001b[0m\u001b[0m\n\u001b[1;32m    302\u001b[0m                         \u001b[0;31m# If we have a view on v, we need to make a copy because\u001b[0m\u001b[0;34m\u001b[0m\u001b[0;34m\u001b[0m\u001b[0;34m\u001b[0m\u001b[0m\n",
      "\u001b[0;32m<ipython-input-103-87f650559c48>\u001b[0m in \u001b[0;36m<lambda>\u001b[0;34m(row)\u001b[0m\n\u001b[1;32m      1\u001b[0m all_topk_sentence_pairs = dataset[[\"manuscript_result_text\", \"cited_text\"]].apply(\n\u001b[0;32m----> 2\u001b[0;31m     \u001b[0;32mlambda\u001b[0m \u001b[0mrow\u001b[0m\u001b[0;34m:\u001b[0m \u001b[0mget_topk_citation_sentences\u001b[0m\u001b[0;34m(\u001b[0m\u001b[0;34m*\u001b[0m\u001b[0mrow\u001b[0m\u001b[0;34m)\u001b[0m\u001b[0;34m,\u001b[0m \u001b[0maxis\u001b[0m\u001b[0;34m=\u001b[0m\u001b[0;36m1\u001b[0m\u001b[0;34m\u001b[0m\u001b[0;34m\u001b[0m\u001b[0m\n\u001b[0m\u001b[1;32m      3\u001b[0m )\n",
      "\u001b[0;32m<ipython-input-102-f5d849073d65>\u001b[0m in \u001b[0;36mget_topk_citation_sentences\u001b[0;34m(manuscript_result_text, cited_text, k, threshold)\u001b[0m\n\u001b[1;32m     18\u001b[0m     \u001b[0mtopk_sentence_pairs\u001b[0m \u001b[0;34m=\u001b[0m \u001b[0;34m[\u001b[0m\u001b[0;34m]\u001b[0m\u001b[0;34m\u001b[0m\u001b[0;34m\u001b[0m\u001b[0m\n\u001b[1;32m     19\u001b[0m     \u001b[0;32mfor\u001b[0m \u001b[0mi\u001b[0m \u001b[0;32min\u001b[0m \u001b[0mrange\u001b[0m\u001b[0;34m(\u001b[0m\u001b[0mk\u001b[0m\u001b[0;34m)\u001b[0m\u001b[0;34m:\u001b[0m\u001b[0;34m\u001b[0m\u001b[0;34m\u001b[0m\u001b[0m\n\u001b[0;32m---> 20\u001b[0;31m         \u001b[0mind\u001b[0m \u001b[0;34m=\u001b[0m \u001b[0mindices\u001b[0m\u001b[0;34m[\u001b[0m\u001b[0mi\u001b[0m\u001b[0;34m]\u001b[0m\u001b[0;34m\u001b[0m\u001b[0;34m\u001b[0m\u001b[0m\n\u001b[0m\u001b[1;32m     21\u001b[0m         \u001b[0ma\u001b[0m \u001b[0;34m=\u001b[0m \u001b[0mind\u001b[0m \u001b[0;34m//\u001b[0m \u001b[0msimilarity\u001b[0m\u001b[0;34m.\u001b[0m\u001b[0mshape\u001b[0m\u001b[0;34m[\u001b[0m\u001b[0;36m1\u001b[0m\u001b[0;34m]\u001b[0m\u001b[0;34m\u001b[0m\u001b[0;34m\u001b[0m\u001b[0m\n\u001b[1;32m     22\u001b[0m         \u001b[0mb\u001b[0m \u001b[0;34m=\u001b[0m \u001b[0mind\u001b[0m \u001b[0;34m%\u001b[0m \u001b[0msimilarity\u001b[0m\u001b[0;34m.\u001b[0m\u001b[0mshape\u001b[0m\u001b[0;34m[\u001b[0m\u001b[0;36m1\u001b[0m\u001b[0;34m]\u001b[0m\u001b[0;34m\u001b[0m\u001b[0;34m\u001b[0m\u001b[0m\n",
      "\u001b[0;31mIndexError\u001b[0m: index 1 is out of bounds for axis 0 with size 1"
     ]
    }
   ],
   "source": [
    "all_topk_sentence_pairs = dataset[[\"manuscript_result_text\", \"cited_text\"]].apply(\n",
    "    lambda row: get_topk_citation_sentences(*row), axis=1\n",
    ")"
   ]
  },
  {
   "cell_type": "code",
   "execution_count": 99,
   "metadata": {},
   "outputs": [
    {
     "data": {
      "text/html": [
       "<div>\n",
       "<style scoped>\n",
       "    .dataframe tbody tr th:only-of-type {\n",
       "        vertical-align: middle;\n",
       "    }\n",
       "\n",
       "    .dataframe tbody tr th {\n",
       "        vertical-align: top;\n",
       "    }\n",
       "\n",
       "    .dataframe thead th {\n",
       "        text-align: right;\n",
       "    }\n",
       "</style>\n",
       "<table border=\"1\" class=\"dataframe\">\n",
       "  <thead>\n",
       "    <tr style=\"text-align: right;\">\n",
       "      <th></th>\n",
       "      <th>citation_sentence</th>\n",
       "      <th>manuscript_id</th>\n",
       "      <th>cited_id</th>\n",
       "      <th>cited_text</th>\n",
       "      <th>manuscript_result_text</th>\n",
       "      <th>extracted_cited_sentences</th>\n",
       "    </tr>\n",
       "  </thead>\n",
       "  <tbody>\n",
       "    <tr>\n",
       "      <th>0</th>\n",
       "      <td>In addition, we here report comparable changes...</td>\n",
       "      <td>8281087</td>\n",
       "      <td>15228934</td>\n",
       "      <td>ietary incorporation of plant sterols and stan...</td>\n",
       "      <td>The systematic search retrieved 1084 potentia...</td>\n",
       "      <td>[[(3, 143), 0.7383168, Non-standardized and TC...</td>\n",
       "    </tr>\n",
       "    <tr>\n",
       "      <th>1</th>\n",
       "      <td>In addition, we here report comparable changes...</td>\n",
       "      <td>8281087</td>\n",
       "      <td>20547173</td>\n",
       "      <td>Elevated plasma total cholesterol (TC) 5 and L...</td>\n",
       "      <td>The systematic search retrieved 1084 potentia...</td>\n",
       "      <td>[[(16, 182), 0.76724654, Overall, baseline con...</td>\n",
       "    </tr>\n",
       "    <tr>\n",
       "      <th>2</th>\n",
       "      <td>In addition, we here report comparable changes...</td>\n",
       "      <td>8281087</td>\n",
       "      <td>15671550</td>\n",
       "      <td>Phytosterols (PS), comprising both plant stero...</td>\n",
       "      <td>The systematic search retrieved 1084 potentia...</td>\n",
       "      <td>[[(3, 55), 0.72243905, Non-standardized and TC...</td>\n",
       "    </tr>\n",
       "    <tr>\n",
       "      <th>3</th>\n",
       "      <td>Such a discrepancy may likely be due to dose-o...</td>\n",
       "      <td>8281923</td>\n",
       "      <td>6704669</td>\n",
       "      <td>3,4-Methylenedioxymethamphetamine (MDMA; \"ecst...</td>\n",
       "      <td>Two earlier studies have reported that male 5...</td>\n",
       "      <td>[[(9, 194), 0.73420274, Thus, 5-HT 1B receptor...</td>\n",
       "    </tr>\n",
       "    <tr>\n",
       "      <th>4</th>\n",
       "      <td>Similar to earlier observations (42) , the inf...</td>\n",
       "      <td>11155963</td>\n",
       "      <td>4009171</td>\n",
       "      <td>Plasmodium falciparum is metabolically highly ...</td>\n",
       "      <td>Cell membrane scrambling, a hallmark of erypt...</td>\n",
       "      <td>[[(62, 125), 0.83092856, Thus, DMF treatment o...</td>\n",
       "    </tr>\n",
       "    <tr>\n",
       "      <th>...</th>\n",
       "      <td>...</td>\n",
       "      <td>...</td>\n",
       "      <td>...</td>\n",
       "      <td>...</td>\n",
       "      <td>...</td>\n",
       "      <td>...</td>\n",
       "    </tr>\n",
       "    <tr>\n",
       "      <th>95</th>\n",
       "      <td>This result is similar to that obtained by Gue...</td>\n",
       "      <td>20896876</td>\n",
       "      <td>17835502</td>\n",
       "      <td>Since the introduction of IVF in 1978, the imp...</td>\n",
       "      <td>Among the 386 patients who started a first IVF...</td>\n",
       "      <td>[[(6, 22), 0.72575295, In the day-5 group, 2 p...</td>\n",
       "    </tr>\n",
       "    <tr>\n",
       "      <th>96</th>\n",
       "      <td>This conclusion is consistent with the results...</td>\n",
       "      <td>206809434</td>\n",
       "      <td>17295616</td>\n",
       "      <td>Scrapie is a transmissible spongiform encephal...</td>\n",
       "      <td>C expression in transgenic mice. Several mous...</td>\n",
       "      <td>[[(37, 191), 0.7608813, Heterozygous Q/K 222 a...</td>\n",
       "    </tr>\n",
       "    <tr>\n",
       "      <th>97</th>\n",
       "      <td>This conclusion is consistent with the results...</td>\n",
       "      <td>206809434</td>\n",
       "      <td>19732910</td>\n",
       "      <td>Scrapie in small ruminants is the archetype of...</td>\n",
       "      <td>C expression in transgenic mice. Several mous...</td>\n",
       "      <td>[[(37, 12), 0.78922325, Heterozygous Q/K 222 a...</td>\n",
       "    </tr>\n",
       "    <tr>\n",
       "      <th>98</th>\n",
       "      <td>The most important finding is that detection o...</td>\n",
       "      <td>16922429</td>\n",
       "      <td>6020255</td>\n",
       "      <td>H uman cytomegalovirus (CMV) is a prevalent ␤-...</td>\n",
       "      <td>All 70 patients included in the original stud...</td>\n",
       "      <td>[[(34, 4), 0.7069999, Moreover, impaired graft...</td>\n",
       "    </tr>\n",
       "    <tr>\n",
       "      <th>99</th>\n",
       "      <td>We and others found a higher detection rate of...</td>\n",
       "      <td>16922429</td>\n",
       "      <td>23205002</td>\n",
       "      <td>The great majority of renal transplant recipie...</td>\n",
       "      <td>All 70 patients included in the original stud...</td>\n",
       "      <td>[[(11, 110), 0.7495911, This patient also show...</td>\n",
       "    </tr>\n",
       "  </tbody>\n",
       "</table>\n",
       "<p>100 rows × 6 columns</p>\n",
       "</div>"
      ],
      "text/plain": [
       "                                    citation_sentence manuscript_id  cited_id  \\\n",
       "0   In addition, we here report comparable changes...       8281087  15228934   \n",
       "1   In addition, we here report comparable changes...       8281087  20547173   \n",
       "2   In addition, we here report comparable changes...       8281087  15671550   \n",
       "3   Such a discrepancy may likely be due to dose-o...       8281923   6704669   \n",
       "4   Similar to earlier observations (42) , the inf...      11155963   4009171   \n",
       "..                                                ...           ...       ...   \n",
       "95  This result is similar to that obtained by Gue...      20896876  17835502   \n",
       "96  This conclusion is consistent with the results...     206809434  17295616   \n",
       "97  This conclusion is consistent with the results...     206809434  19732910   \n",
       "98  The most important finding is that detection o...      16922429   6020255   \n",
       "99  We and others found a higher detection rate of...      16922429  23205002   \n",
       "\n",
       "                                           cited_text  \\\n",
       "0   ietary incorporation of plant sterols and stan...   \n",
       "1   Elevated plasma total cholesterol (TC) 5 and L...   \n",
       "2   Phytosterols (PS), comprising both plant stero...   \n",
       "3   3,4-Methylenedioxymethamphetamine (MDMA; \"ecst...   \n",
       "4   Plasmodium falciparum is metabolically highly ...   \n",
       "..                                                ...   \n",
       "95  Since the introduction of IVF in 1978, the imp...   \n",
       "96  Scrapie is a transmissible spongiform encephal...   \n",
       "97  Scrapie in small ruminants is the archetype of...   \n",
       "98  H uman cytomegalovirus (CMV) is a prevalent ␤-...   \n",
       "99  The great majority of renal transplant recipie...   \n",
       "\n",
       "                               manuscript_result_text  \\\n",
       "0    The systematic search retrieved 1084 potentia...   \n",
       "1    The systematic search retrieved 1084 potentia...   \n",
       "2    The systematic search retrieved 1084 potentia...   \n",
       "3    Two earlier studies have reported that male 5...   \n",
       "4    Cell membrane scrambling, a hallmark of erypt...   \n",
       "..                                                ...   \n",
       "95  Among the 386 patients who started a first IVF...   \n",
       "96   C expression in transgenic mice. Several mous...   \n",
       "97   C expression in transgenic mice. Several mous...   \n",
       "98   All 70 patients included in the original stud...   \n",
       "99   All 70 patients included in the original stud...   \n",
       "\n",
       "                            extracted_cited_sentences  \n",
       "0   [[(3, 143), 0.7383168, Non-standardized and TC...  \n",
       "1   [[(16, 182), 0.76724654, Overall, baseline con...  \n",
       "2   [[(3, 55), 0.72243905, Non-standardized and TC...  \n",
       "3   [[(9, 194), 0.73420274, Thus, 5-HT 1B receptor...  \n",
       "4   [[(62, 125), 0.83092856, Thus, DMF treatment o...  \n",
       "..                                                ...  \n",
       "95  [[(6, 22), 0.72575295, In the day-5 group, 2 p...  \n",
       "96  [[(37, 191), 0.7608813, Heterozygous Q/K 222 a...  \n",
       "97  [[(37, 12), 0.78922325, Heterozygous Q/K 222 a...  \n",
       "98  [[(34, 4), 0.7069999, Moreover, impaired graft...  \n",
       "99  [[(11, 110), 0.7495911, This patient also show...  \n",
       "\n",
       "[100 rows x 6 columns]"
      ]
     },
     "execution_count": 99,
     "metadata": {},
     "output_type": "execute_result"
    }
   ],
   "source": [
    "dataset[\"extracted_cited_sentences\"] = [all_topk_sentence_pairs]\n",
    "dataset"
   ]
  },
  {
   "cell_type": "code",
   "execution_count": 101,
   "metadata": {},
   "outputs": [
    {
     "data": {
      "text/plain": [
       "[[(3, 143),\n",
       "  0.7383168,\n",
       "  'Non-standardized and TC-standardized hydrocarbon carotenoid concentrations, i.e., lycopene, α-carotene and β-carotene, were significantly (P < 0.0001) lowered after consumption of plant sterol-or plant stanol-enriched foods.',\n",
       "  \"In conclusion, plant sterol/stanol containing products significantly reduced LDL concentrations but the reduction was related to individuals' baseline LDL levels, food carrier, frequency and time of intake.\"],\n",
       " [(9, 96),\n",
       "  0.7263868,\n",
       "  'HDL-C concentrations did not change after plant sterol or plant stanol consumption (0.2 %), while TAG concentrations were significantly (P < 0.0001) decreased by 0.06 mmol/L (−4.6 %) ( Table 1) .',\n",
       "  'For instance, plant sterols/stanols consumed 2Á3 times/day reduced LDL cholesterol levels by 0.34 mmol/L (95% CI: (0.38, (0.18) while plant sterols/stanols consumed once per day in the morning did not result in a significant reduction in LDL levels.'],\n",
       " [(3, 13),\n",
       "  0.67912066,\n",
       "  'Non-standardized and TC-standardized hydrocarbon carotenoid concentrations, i.e., lycopene, α-carotene and β-carotene, were significantly (P < 0.0001) lowered after consumption of plant sterol-or plant stanol-enriched foods.',\n",
       "  'Plat et al. (31) showed that 2.5 g of plant stanols in margarines and shortenings consumed for four weeks once per day at lunch or divided over three meals, lowered LDL cholesterol levels to a similar extent, about 10%.'],\n",
       " [(22, 105),\n",
       "  0.6732609,\n",
       "  'In addition, changes in TC concentrations after plant sterol or plant stanol consumption were significantly affected by baseline concentrations (only absolute TC changes) and by the dose of plant sterol or plant stanol intake.',\n",
       "  'The present meta-analysis has confirmed that baseline LDL cholesterol levels affect magnitude of reduction in LDL after plant sterol/stanol consumption which could explain the wide variation in responsiveness seen in previous studies.'],\n",
       " [(3, 26),\n",
       "  0.6659426,\n",
       "  'Non-standardized and TC-standardized hydrocarbon carotenoid concentrations, i.e., lycopene, α-carotene and β-carotene, were significantly (P < 0.0001) lowered after consumption of plant sterol-or plant stanol-enriched foods.',\n",
       "  'Another (5) looked at the efficacy and safety of plant sterols/stanols as cholesterol lowering agents, but since 2003 a number of clinical trials have examined the efficacy of low fat foods containing plant sterols/stanols and observed substantially weaker effects.']]"
      ]
     },
     "execution_count": 101,
     "metadata": {},
     "output_type": "execute_result"
    }
   ],
   "source": [
    "dataset.loc[0, \"extracted_cited_sentences\"]"
   ]
  },
  {
   "cell_type": "code",
   "execution_count": 22,
   "metadata": {},
   "outputs": [
    {
     "name": "stdout",
     "output_type": "stream",
     "text": [
      "There is 1 GPU(s) available.\n",
      "Device name: GeForce RTX 2070\n"
     ]
    }
   ],
   "source": [
    "import torch\n",
    "from transformers import pipeline\n",
    "\n",
    "device = check_gpu()"
   ]
  },
  {
   "cell_type": "code",
   "execution_count": 14,
   "metadata": {},
   "outputs": [],
   "source": [
    "# load pipeline with BART model,  trained on the CNN/Daily Mail News Dataset\n",
    "summarizer = pipeline(\"summarization\")"
   ]
  },
  {
   "cell_type": "code",
   "execution_count": 15,
   "metadata": {},
   "outputs": [
    {
     "name": "stdout",
     "output_type": "stream",
     "text": [
      "In addition, we here report comparable changes in serum cholesterol and lipoprotein concentrations as found in previously published meta-analyses [1] [2] [3] , implying that the included studies in this meta-analyses are representative of all available studies in the literature that have been performed with plant sterols and plant stanols.\n",
      "\n",
      " Plant sterols/stanols consumed 2Á3 times/day reduced LDL cholesterol levels by 0.34 mmol/L (95\n"
     ]
    }
   ],
   "source": [
    "# perform summarization\n",
    "summary_text = summarizer(top_cited_sentences, max_length=30, min_length=5, do_sample=False)[0][\"summary_text\"]\n",
    "\n",
    "print(citation_sentence)\n",
    "print()\n",
    "print(summary_text)"
   ]
  },
  {
   "cell_type": "markdown",
   "metadata": {},
   "source": [
    "- summary looks quite similar to gold citation sentence, but is not as generic\n",
    "    - possibly due to the gold citation sentence actually citing three papers, but this summary comes from only one of the cited papers\n",
    "    - idea: try getting most similar sentences from all cited papers and summarising them?"
   ]
  }
 ],
 "metadata": {
  "kernelspec": {
   "display_name": "Python 3",
   "language": "python",
   "name": "python3"
  },
  "language_info": {
   "codemirror_mode": {
    "name": "ipython",
    "version": 3
   },
   "file_extension": ".py",
   "mimetype": "text/x-python",
   "name": "python",
   "nbconvert_exporter": "python",
   "pygments_lexer": "ipython3",
   "version": "3.7.9"
  }
 },
 "nbformat": 4,
 "nbformat_minor": 4
}
