{
 "cells": [
  {
   "cell_type": "code",
   "execution_count": 1,
   "metadata": {},
   "outputs": [],
   "source": [
    "import json\n",
    "import random\n",
    "import tqdm\n",
    "from tqdm import tqdm\n",
    "\n",
    "import numpy as np\n",
    "import pandas as pd"
   ]
  },
  {
   "cell_type": "code",
   "execution_count": 2,
   "metadata": {},
   "outputs": [],
   "source": [
    "import sys\n",
    "sys.path.append(\"..\")\n",
    "\n",
    "from scripts.utils import *"
   ]
  },
  {
   "cell_type": "markdown",
   "metadata": {},
   "source": [
    "## 1. Load data"
   ]
  },
  {
   "cell_type": "code",
   "execution_count": 3,
   "metadata": {
    "scrolled": true
   },
   "outputs": [
    {
     "name": "stderr",
     "output_type": "stream",
     "text": [
      "100it [00:00, 6298.60it/s]\n"
     ]
    },
    {
     "data": {
      "text/html": [
       "<div>\n",
       "<style scoped>\n",
       "    .dataframe tbody tr th:only-of-type {\n",
       "        vertical-align: middle;\n",
       "    }\n",
       "\n",
       "    .dataframe tbody tr th {\n",
       "        vertical-align: top;\n",
       "    }\n",
       "\n",
       "    .dataframe thead th {\n",
       "        text-align: right;\n",
       "    }\n",
       "</style>\n",
       "<table border=\"1\" class=\"dataframe\">\n",
       "  <thead>\n",
       "    <tr style=\"text-align: right;\">\n",
       "      <th></th>\n",
       "      <th>citation_sentence</th>\n",
       "      <th>manuscript_id</th>\n",
       "      <th>cited_id</th>\n",
       "      <th>cited_text</th>\n",
       "      <th>manuscript_result_text</th>\n",
       "    </tr>\n",
       "  </thead>\n",
       "  <tbody>\n",
       "    <tr>\n",
       "      <th>0</th>\n",
       "      <td>In addition, we here report comparable changes...</td>\n",
       "      <td>8281087</td>\n",
       "      <td>15228934</td>\n",
       "      <td>ietary incorporation of plant sterols and stan...</td>\n",
       "      <td>The systematic search retrieved 1084 potentia...</td>\n",
       "    </tr>\n",
       "    <tr>\n",
       "      <th>1</th>\n",
       "      <td>In addition, we here report comparable changes...</td>\n",
       "      <td>8281087</td>\n",
       "      <td>20547173</td>\n",
       "      <td>Elevated plasma total cholesterol (TC) 5 and L...</td>\n",
       "      <td>The systematic search retrieved 1084 potentia...</td>\n",
       "    </tr>\n",
       "    <tr>\n",
       "      <th>2</th>\n",
       "      <td>In addition, we here report comparable changes...</td>\n",
       "      <td>8281087</td>\n",
       "      <td>15671550</td>\n",
       "      <td>Phytosterols (PS), comprising both plant stero...</td>\n",
       "      <td>The systematic search retrieved 1084 potentia...</td>\n",
       "    </tr>\n",
       "    <tr>\n",
       "      <th>3</th>\n",
       "      <td>Such a discrepancy may likely be due to dose-o...</td>\n",
       "      <td>8281923</td>\n",
       "      <td>6704669</td>\n",
       "      <td>3,4-Methylenedioxymethamphetamine (MDMA; \"ecst...</td>\n",
       "      <td>Two earlier studies have reported that male 5...</td>\n",
       "    </tr>\n",
       "    <tr>\n",
       "      <th>4</th>\n",
       "      <td>Similar to earlier observations (42) , the inf...</td>\n",
       "      <td>11155963</td>\n",
       "      <td>4009171</td>\n",
       "      <td>Plasmodium falciparum is metabolically highly ...</td>\n",
       "      <td>Cell membrane scrambling, a hallmark of erypt...</td>\n",
       "    </tr>\n",
       "  </tbody>\n",
       "</table>\n",
       "</div>"
      ],
      "text/plain": [
       "                                   citation_sentence manuscript_id  cited_id  \\\n",
       "0  In addition, we here report comparable changes...       8281087  15228934   \n",
       "1  In addition, we here report comparable changes...       8281087  20547173   \n",
       "2  In addition, we here report comparable changes...       8281087  15671550   \n",
       "3  Such a discrepancy may likely be due to dose-o...       8281923   6704669   \n",
       "4  Similar to earlier observations (42) , the inf...      11155963   4009171   \n",
       "\n",
       "                                          cited_text  \\\n",
       "0  ietary incorporation of plant sterols and stan...   \n",
       "1  Elevated plasma total cholesterol (TC) 5 and L...   \n",
       "2  Phytosterols (PS), comprising both plant stero...   \n",
       "3  3,4-Methylenedioxymethamphetamine (MDMA; \"ecst...   \n",
       "4  Plasmodium falciparum is metabolically highly ...   \n",
       "\n",
       "                              manuscript_result_text  \n",
       "0   The systematic search retrieved 1084 potentia...  \n",
       "1   The systematic search retrieved 1084 potentia...  \n",
       "2   The systematic search retrieved 1084 potentia...  \n",
       "3   Two earlier studies have reported that male 5...  \n",
       "4   Cell membrane scrambling, a hallmark of erypt...  "
      ]
     },
     "metadata": {},
     "output_type": "display_data"
    },
    {
     "name": "stdout",
     "output_type": "stream",
     "text": [
      "Total number of rows: 100\n"
     ]
    }
   ],
   "source": [
    "d = load_data(\"../data/citation_generation/test_dataset.jsonl\")\n",
    "dataset = pd.DataFrame.from_dict(d).T\n",
    "display(dataset.head())\n",
    "print(f\"Total number of rows: {len(dataset)}\")"
   ]
  },
  {
   "cell_type": "code",
   "execution_count": 4,
   "metadata": {
    "scrolled": true
   },
   "outputs": [
    {
     "name": "stdout",
     "output_type": "stream",
     "text": [
      "In addition, we here report comparable changes in serum cholesterol and lipoprotein concentrations as found in previously published meta-analyses [1] [2] [3] , implying that the included studies in this meta-analyses are representative of all available studies in the literature that have been performed with plant sterols and plant stanols.\n"
     ]
    }
   ],
   "source": [
    "i = 0\n",
    "citation_sentence = dataset.loc[i, \"citation_sentence\"]\n",
    "cited_text = dataset.loc[i, \"cited_text\"]\n",
    "manuscript_result_text = dataset.loc[i, \"manuscript_result_text\"]\n",
    "\n",
    "print(citation_sentence)"
   ]
  },
  {
   "cell_type": "markdown",
   "metadata": {},
   "source": [
    "## 2. Tokenize texts into sentences"
   ]
  },
  {
   "cell_type": "code",
   "execution_count": 5,
   "metadata": {
    "scrolled": true
   },
   "outputs": [],
   "source": [
    "from nltk.tokenize.punkt import PunktSentenceTokenizer, PunktParameters\n",
    "\n",
    "\n",
    "# tokenizer should not split at abbrieviations\n",
    "punkt_params = PunktParameters()\n",
    "punkt_params.abbrev_types = set([\"i.e\", \"e.g\", \"etc\", \"al\", \"fig\", \"figs\", \n",
    "                                 \"ref\", \"refs\", \"p\", \"c\", \"s\"]) \n",
    "\n",
    "# initialise sentence tokenizer\n",
    "tokenizer = PunktSentenceTokenizer(punkt_params)"
   ]
  },
  {
   "cell_type": "code",
   "execution_count": 6,
   "metadata": {
    "scrolled": true
   },
   "outputs": [
    {
     "name": "stdout",
     "output_type": "stream",
     "text": [
      " The systematic search retrieved 1084 potentially relevant papers, and after two selection rounds, 41 RCTs were included in the meta-analysis.\n",
      "A flowchart of the study selection process is presented in Fig. 1 .\n",
      "Of the 41 included studies (Online Supplemental Material Tables 1 and 2 ), 23 were conducted as a parallel study [15-17, 19, 21-26, 28-31, 34, 38-45] and 18 studies had a crossover design [13, 14, 18, 20, [46] [47] [48] [49] [50] [51] [52] [53] [54] [55] [56] [57] [58] [59]  The weighted effects of plant sterol or plant stanol consumption on plasma fat-soluble vitamin and carotenoid concentrations are presented in Table 1 .\n",
      "Non-standardized and TC-standardized hydrocarbon carotenoid concentrations, i.e., lycopene, α-carotene and β-carotene, were significantly (P < 0.0001) lowered after consumption of plant sterol-or plant stanol-enriched foods.\n",
      "β-Carotene For parallel studies, the weighted average baseline concentrations were calculated based on the baseline concentrations in the active and placebo groups and for crossover studies, the end-ofintervention concentrations of the placebo periods were used b For parallel studies, the weighted average concentrations after PS intervention were calculated based on the concentrations after PS intervention in the active groups and for crossover studies, the end-of-intervention concentrations of the active periods were used .\n",
      "Non-standardized tocopherol concentrations significantly (P < 0.0001) decreased after plant sterol or plant stanol consumption (α-tocopherol on average by 2.43 µmol/L (−7.1 %) and γ-tocopherol by 0.17 µmol/L (−6.9 %).\n",
      "However, when standardized for TC concentrations, α-and γ-tocopherol concentrations were no longer changed after plant sterol or plant stanol consumption (−0.3 and 0.2 %, respectively; P > 0.05).\n",
      "Concentrations of retinol and vitamin D were not changed after plant sterol or plant stanol consumption (−0.8 and 1.4 %, respectively; P > 0.05).\n",
      "TC concentrations were significantly (P < 0.0001) decreased on average by 0.39 mmol/L (−6.5 %) and LDL-C concentrations by 0.35 mmol/L (−9.0 %).\n",
      "HDL-C concentrations did not change after plant sterol or plant stanol consumption (0.2 %), while TAG concentrations were significantly (P < 0.0001) decreased by 0.06 mmol/L (−4.6 %) ( Table 1) .\n",
      "\n",
      "ietary incorporation of plant sterols and stanols is recommended for blood cholesterol reduction (1, 2).\n",
      "Berger et al. reviewed clinical trials on efficacy of plant sterols as cholesterol lowering agents and reported that the consumption of plant sterols/stanols have been reported to reduce low density lipoprotein (LDL) cholesterol levels by 5Á15% (3) .\n",
      "Reasons for such large variations need to be investigated.\n",
      "Earlier studies that have tested the efficacy of plant sterols/stanols as cholesterol lowering agents incorporated plant sterols/stanols into either regular or low fat spreads (8Á13).\n",
      "Since it appears counterintuitive to use a high fat food product to deliver a cholesterol lowering agent, clinical trials have been conducted to test the efficacy of plant sterols/stanols incorporated into low fat products (14) .\n",
      "A number of clinical trials have tested the efficacy of plant sterols/stanols incorporated into low fat foods including low fat milk (15, 16) , low fat yoghurt (16Á20), bakery products (21) , orange juice (22, 23) , cereal bars (24) and low and non-fat beverages (25Á27).\n",
      "However, although plant sterols/stanols that are incorporated into low fat food have been shown to reduce blood cholesterol (24, 27, 28) , the same food carrier tested in different trials gave different magnitude in LDL cholesterol reduction.\n",
      "Plant sterol/stanol enriched yoghurt and milk drinks have resulted in LDL cholesterol reduction in the range of 5Á14% in various clinical trials (29) .\n",
      "The study by Clifton et al. (30) compared the effect of plant stanol esterified to fatty acids and incorporated in a number of food matrices including bread, breakfast cereal, milk and yoghurt on plasma lipids.\n",
      "Plant stanol esters in low fat milk were almost three times more effective than in bread and cereal (page number not for citation purpose) in lowering plasma cholesterol levels.\n"
     ]
    }
   ],
   "source": [
    "# tokenize manuscript_result_text, cited_text into sentences\n",
    "query_sentences = tokenizer.tokenize(manuscript_result_text)\n",
    "cited_sentences = tokenizer.tokenize(cited_text)\n",
    "\n",
    "for j in range(10): print(query_sentences[j])\n",
    "print()\n",
    "for j in range(10): print(cited_sentences[j])"
   ]
  },
  {
   "cell_type": "markdown",
   "metadata": {},
   "source": [
    "## 3. Compute sentence embeddings"
   ]
  },
  {
   "cell_type": "code",
   "execution_count": 7,
   "metadata": {},
   "outputs": [],
   "source": [
    "import sent2vec\n",
    "\n",
    "model = sent2vec.Sent2vecModel()\n",
    "model.load_model(\"../sent2vec/wiki_unigrams.bin\")\n",
    "\n",
    "# compute sentence embeddings\n",
    "query_embeddings = model.embed_sentences(query_sentences)\n",
    "cited_embeddings = model.embed_sentences(cited_sentences)"
   ]
  },
  {
   "cell_type": "code",
   "execution_count": 8,
   "metadata": {},
   "outputs": [],
   "source": [
    "# from sentence_transformers import SentenceTransformer\n",
    "\n",
    "# model = SentenceTransformer(\"stsb-distilbert-base\")\n",
    "\n",
    "# # compute sentence embeddings\n",
    "# query_embeddings_dbert = model.encode(query_sentences)\n",
    "# cited_embeddings_dbert = model.encode(cited_sentences)"
   ]
  },
  {
   "cell_type": "markdown",
   "metadata": {},
   "source": [
    "## 4. Compute sentence similarity scores"
   ]
  },
  {
   "cell_type": "code",
   "execution_count": 9,
   "metadata": {},
   "outputs": [],
   "source": [
    "from sklearn.metrics.pairwise import cosine_similarity\n",
    "\n",
    "similarity = cosine_similarity(query_embeddings, cited_embeddings)"
   ]
  },
  {
   "cell_type": "code",
   "execution_count": 13,
   "metadata": {
    "scrolled": true
   },
   "outputs": [
    {
     "name": "stdout",
     "output_type": "stream",
     "text": [
      "[0.70592844, 'Therefore, until mechanisms have been elucidated by which plant sterols/stanols and in particular single dose of plant sterols/stanols reduce LDL levels, and until there are more studies on consumption of plant sterols/stanols as single dose; plant sterols should be consumed in two to three portions per day.']\n",
      "\n",
      "[0.6536287, 'The favorable effect of plant sterols/stanols on LDL cholesterol levels was also shown to be influenced by the frequency and time of intake of plant sterols.']\n",
      "\n",
      "[0.6523678, 'For studies that met the inclusion criteria and that possessed a Jadad score of equal or more than three, data were extracted for parameters related to (i) trial design; (ii) type of plant sterols/stanols; (iii) dose (g/day) and duration of plant sterol/stanol treatment; (iv) frequency and time of intake of plant sterols/stanols; (v) food carrier, to which plant sterols/stanols were incorporate; (vi) characteristics of the study population; (vii) the mean values and the standard deviations (SD) of LDL cholesterol levels; and (viii) sample size.']\n",
      "\n",
      "[0.6514652, 'In the overall pooled estimate, plant sterol/stanol consumption decreased LDL levels by 0.31 mmol/L (95% CI, (0.35 to (0.27, P 0B0.0001) compared with placebo.']\n",
      "\n",
      "[0.6371896, \"In conclusion, plant sterol/stanol containing products significantly reduced LDL concentrations but the reduction was related to individuals' baseline LDL levels, food carrier, frequency and time of intake.\"]\n",
      "\n"
     ]
    }
   ],
   "source": [
    "k = 5\n",
    "indices = np.argpartition(similarity, kth=-k, axis=None)[-k:]\n",
    "indices = np.flip(indices[np.argsort(similarity.flatten()[indices])])\n",
    "topk_similarity = similarity.flatten()[indices]\n",
    "\n",
    "topk_sentence_pairs = []\n",
    "for i in range(k): \n",
    "    ind = indices[i]\n",
    "    b = ind % similarity.shape[1]\n",
    "    topk_sentence_pairs.append([b, topk_similarity[i], \n",
    "                                    cited_sentences[b]])\n",
    "\n",
    "for s in topk_sentence_pairs:\n",
    "    print(s[1:])\n",
    "    print()"
   ]
  },
  {
   "cell_type": "code",
   "execution_count": 14,
   "metadata": {},
   "outputs": [
    {
     "name": "stdout",
     "output_type": "stream",
     "text": [
      "Therefore, until mechanisms have been elucidated by which plant sterols/stanols and in particular single dose of plant sterols/stanols reduce LDL levels, and until there are more studies on consumption of plant sterols/stanols as single dose; plant sterols should be consumed in two to three portions per day. The favorable effect of plant sterols/stanols on LDL cholesterol levels was also shown to be influenced by the frequency and time of intake of plant sterols. For studies that met the inclusion criteria and that possessed a Jadad score of equal or more than three, data were extracted for parameters related to (i) trial design; (ii) type of plant sterols/stanols; (iii) dose (g/day) and duration of plant sterol/stanol treatment; (iv) frequency and time of intake of plant sterols/stanols; (v) food carrier, to which plant sterols/stanols were incorporate; (vi) characteristics of the study population; (vii) the mean values and the standard deviations (SD) of LDL cholesterol levels; and (viii) sample size. In the overall pooled estimate, plant sterol/stanol consumption decreased LDL levels by 0.31 mmol/L (95% CI, (0.35 to (0.27, P 0B0.0001) compared with placebo. In conclusion, plant sterol/stanol containing products significantly reduced LDL concentrations but the reduction was related to individuals' baseline LDL levels, food carrier, frequency and time of intake.\n",
      "\n",
      "In addition, we here report comparable changes in serum cholesterol and lipoprotein concentrations as found in previously published meta-analyses [1] [2] [3] , implying that the included studies in this meta-analyses are representative of all available studies in the literature that have been performed with plant sterols and plant stanols.\n"
     ]
    }
   ],
   "source": [
    "topk_cited_sentences = \" \".join([p[-1] for p in topk_sentence_pairs])\n",
    "print(topk_cited_sentences)\n",
    "print()\n",
    "print(citation_sentence)"
   ]
  },
  {
   "cell_type": "code",
   "execution_count": 15,
   "metadata": {},
   "outputs": [
    {
     "name": "stdout",
     "output_type": "stream",
     "text": [
      "0.9032258064516129\n",
      "0.8181818181818182\n",
      "0.5942622950819673\n",
      "0.4883720930232558\n"
     ]
    }
   ],
   "source": [
    "for i in range(1,5):\n",
    "    print(rouge_n(citation_sentence, topk_cited_sentences, n=i))"
   ]
  },
  {
   "cell_type": "code",
   "execution_count": 61,
   "metadata": {},
   "outputs": [],
   "source": [
    "def get_topk_citation_sentences(manuscript_result_text, cited_text, k=5):\n",
    "    # TODO: reject sentences with scores < some threshold\n",
    "    \n",
    "    # tokenize into sentences\n",
    "    query_sentences = tokenizer.tokenize(manuscript_result_text)\n",
    "    cited_sentences = tokenizer.tokenize(cited_text)\n",
    "\n",
    "    # compute embeddings and cosine similarity matrix\n",
    "    query_embeddings = model.embed_sentences(query_sentences)\n",
    "    cited_embeddings = model.embed_sentences(cited_sentences)\n",
    "    similarity = cosine_similarity(query_embeddings, cited_embeddings)\n",
    "    \n",
    "    # get indices of highest similarity scores \n",
    "    indices = np.argpartition(similarity, kth=-k, axis=None)[-k:]\n",
    "    \n",
    "    # get indices in decreasing order wrt scores\n",
    "    indices = np.flip(indices[np.argsort(similarity.flatten()[indices])])\n",
    "    \n",
    "    # get corresponding sentences  \n",
    "    indices %= similarity.shape[1]\n",
    "    topk_cited_sentences = [cited_sentences[i] for i in indices]\n",
    "\n",
    "    return topk_cited_sentences"
   ]
  },
  {
   "cell_type": "markdown",
   "metadata": {},
   "source": [
    "## 5. Extractively summarize the entire dataset"
   ]
  },
  {
   "cell_type": "code",
   "execution_count": 62,
   "metadata": {},
   "outputs": [
    {
     "name": "stdout",
     "output_type": "stream",
     "text": [
      "['Therefore, until mechanisms have been elucidated by which plant sterols/stanols and in particular single dose of plant sterols/stanols reduce LDL levels, and until there are more studies on consumption of plant sterols/stanols as single dose; plant sterols should be consumed in two to three portions per day.', 'The favorable effect of plant sterols/stanols on LDL cholesterol levels was also shown to be influenced by the frequency and time of intake of plant sterols.', 'For studies that met the inclusion criteria and that possessed a Jadad score of equal or more than three, data were extracted for parameters related to (i) trial design; (ii) type of plant sterols/stanols; (iii) dose (g/day) and duration of plant sterol/stanol treatment; (iv) frequency and time of intake of plant sterols/stanols; (v) food carrier, to which plant sterols/stanols were incorporate; (vi) characteristics of the study population; (vii) the mean values and the standard deviations (SD) of LDL cholesterol levels; and (viii) sample size.', 'In the overall pooled estimate, plant sterol/stanol consumption decreased LDL levels by 0.31 mmol/L (95% CI, (0.35 to (0.27, P 0B0.0001) compared with placebo.', \"In conclusion, plant sterol/stanol containing products significantly reduced LDL concentrations but the reduction was related to individuals' baseline LDL levels, food carrier, frequency and time of intake.\"]\n"
     ]
    }
   ],
   "source": [
    "all_topk_cited_sentences = dataset[[\"manuscript_result_text\", \"cited_text\"]].apply(\n",
    "    lambda row: get_topk_citation_sentences(*row), axis=1\n",
    ")\n",
    "print(all_topk_cited_sentences[0])"
   ]
  },
  {
   "cell_type": "code",
   "execution_count": 63,
   "metadata": {},
   "outputs": [
    {
     "data": {
      "text/html": [
       "<div>\n",
       "<style scoped>\n",
       "    .dataframe tbody tr th:only-of-type {\n",
       "        vertical-align: middle;\n",
       "    }\n",
       "\n",
       "    .dataframe tbody tr th {\n",
       "        vertical-align: top;\n",
       "    }\n",
       "\n",
       "    .dataframe thead th {\n",
       "        text-align: right;\n",
       "    }\n",
       "</style>\n",
       "<table border=\"1\" class=\"dataframe\">\n",
       "  <thead>\n",
       "    <tr style=\"text-align: right;\">\n",
       "      <th></th>\n",
       "      <th>citation_sentence</th>\n",
       "      <th>manuscript_id</th>\n",
       "      <th>cited_id</th>\n",
       "      <th>cited_text</th>\n",
       "      <th>manuscript_result_text</th>\n",
       "      <th>topk_cited_sentences</th>\n",
       "      <th>rouge_1</th>\n",
       "      <th>rouge_2</th>\n",
       "      <th>rouge_3</th>\n",
       "      <th>rouge_4</th>\n",
       "      <th>rouge_5</th>\n",
       "    </tr>\n",
       "  </thead>\n",
       "  <tbody>\n",
       "    <tr>\n",
       "      <th>0</th>\n",
       "      <td>In addition, we here report comparable changes...</td>\n",
       "      <td>8281087</td>\n",
       "      <td>15228934</td>\n",
       "      <td>ietary incorporation of plant sterols and stan...</td>\n",
       "      <td>The systematic search retrieved 1084 potentia...</td>\n",
       "      <td>[Therefore, until mechanisms have been elucida...</td>\n",
       "      <td>0.903226</td>\n",
       "      <td>0.818182</td>\n",
       "      <td>0.594262</td>\n",
       "      <td>0.488372</td>\n",
       "      <td>0.378788</td>\n",
       "    </tr>\n",
       "    <tr>\n",
       "      <th>1</th>\n",
       "      <td>In addition, we here report comparable changes...</td>\n",
       "      <td>8281087</td>\n",
       "      <td>20547173</td>\n",
       "      <td>Elevated plasma total cholesterol (TC) 5 and L...</td>\n",
       "      <td>The systematic search retrieved 1084 potentia...</td>\n",
       "      <td>[Given the substantial impact of baseline LDL-...</td>\n",
       "      <td>0.935484</td>\n",
       "      <td>0.706294</td>\n",
       "      <td>0.450820</td>\n",
       "      <td>0.365449</td>\n",
       "      <td>0.245455</td>\n",
       "    </tr>\n",
       "    <tr>\n",
       "      <th>2</th>\n",
       "      <td>In addition, we here report comparable changes...</td>\n",
       "      <td>8281087</td>\n",
       "      <td>15671550</td>\n",
       "      <td>Phytosterols (PS), comprising both plant stero...</td>\n",
       "      <td>The systematic search retrieved 1084 potentia...</td>\n",
       "      <td>[For example, in the present analysis, we foun...</td>\n",
       "      <td>0.870968</td>\n",
       "      <td>0.839161</td>\n",
       "      <td>0.610656</td>\n",
       "      <td>0.495017</td>\n",
       "      <td>0.384848</td>\n",
       "    </tr>\n",
       "    <tr>\n",
       "      <th>3</th>\n",
       "      <td>Such a discrepancy may likely be due to dose-o...</td>\n",
       "      <td>8281923</td>\n",
       "      <td>6704669</td>\n",
       "      <td>3,4-Methylenedioxymethamphetamine (MDMA; \"ecst...</td>\n",
       "      <td>Two earlier studies have reported that male 5...</td>\n",
       "      <td>[Figure 6 ., M .-7:00 P ., M ., M ., A group o...</td>\n",
       "      <td>0.750000</td>\n",
       "      <td>0.201258</td>\n",
       "      <td>0.136364</td>\n",
       "      <td>0.062257</td>\n",
       "      <td>0.044776</td>\n",
       "    </tr>\n",
       "    <tr>\n",
       "      <th>4</th>\n",
       "      <td>Similar to earlier observations (42) , the inf...</td>\n",
       "      <td>11155963</td>\n",
       "      <td>4009171</td>\n",
       "      <td>Plasmodium falciparum is metabolically highly ...</td>\n",
       "      <td>Cell membrane scrambling, a hallmark of erypt...</td>\n",
       "      <td>[As illustrated in Fig. 1B (middle and right) ...</td>\n",
       "      <td>0.843750</td>\n",
       "      <td>0.647619</td>\n",
       "      <td>0.391304</td>\n",
       "      <td>0.231293</td>\n",
       "      <td>0.133333</td>\n",
       "    </tr>\n",
       "  </tbody>\n",
       "</table>\n",
       "</div>"
      ],
      "text/plain": [
       "                                   citation_sentence manuscript_id  cited_id  \\\n",
       "0  In addition, we here report comparable changes...       8281087  15228934   \n",
       "1  In addition, we here report comparable changes...       8281087  20547173   \n",
       "2  In addition, we here report comparable changes...       8281087  15671550   \n",
       "3  Such a discrepancy may likely be due to dose-o...       8281923   6704669   \n",
       "4  Similar to earlier observations (42) , the inf...      11155963   4009171   \n",
       "\n",
       "                                          cited_text  \\\n",
       "0  ietary incorporation of plant sterols and stan...   \n",
       "1  Elevated plasma total cholesterol (TC) 5 and L...   \n",
       "2  Phytosterols (PS), comprising both plant stero...   \n",
       "3  3,4-Methylenedioxymethamphetamine (MDMA; \"ecst...   \n",
       "4  Plasmodium falciparum is metabolically highly ...   \n",
       "\n",
       "                              manuscript_result_text  \\\n",
       "0   The systematic search retrieved 1084 potentia...   \n",
       "1   The systematic search retrieved 1084 potentia...   \n",
       "2   The systematic search retrieved 1084 potentia...   \n",
       "3   Two earlier studies have reported that male 5...   \n",
       "4   Cell membrane scrambling, a hallmark of erypt...   \n",
       "\n",
       "                                topk_cited_sentences   rouge_1   rouge_2  \\\n",
       "0  [Therefore, until mechanisms have been elucida...  0.903226  0.818182   \n",
       "1  [Given the substantial impact of baseline LDL-...  0.935484  0.706294   \n",
       "2  [For example, in the present analysis, we foun...  0.870968  0.839161   \n",
       "3  [Figure 6 ., M .-7:00 P ., M ., M ., A group o...  0.750000  0.201258   \n",
       "4  [As illustrated in Fig. 1B (middle and right) ...  0.843750  0.647619   \n",
       "\n",
       "    rouge_3   rouge_4   rouge_5  \n",
       "0  0.594262  0.488372  0.378788  \n",
       "1  0.450820  0.365449  0.245455  \n",
       "2  0.610656  0.495017  0.384848  \n",
       "3  0.136364  0.062257  0.044776  \n",
       "4  0.391304  0.231293  0.133333  "
      ]
     },
     "metadata": {},
     "output_type": "display_data"
    }
   ],
   "source": [
    "dataset[\"topk_cited_sentences\"] = all_topk_cited_sentences\n",
    "display(dataset.head())"
   ]
  },
  {
   "cell_type": "code",
   "execution_count": 36,
   "metadata": {},
   "outputs": [],
   "source": [
    "rouge = {i:[] for i in range(1,5)}\n",
    "for _, row in dataset.iterrows():\n",
    "    for i in range(1,5):\n",
    "        rouge[i].append(rouge_n(row.citation_sentence, \" \".join(row.topk_cited_sentences), n=i))"
   ]
  },
  {
   "cell_type": "code",
   "execution_count": 37,
   "metadata": {},
   "outputs": [
    {
     "data": {
      "text/html": [
       "<div>\n",
       "<style scoped>\n",
       "    .dataframe tbody tr th:only-of-type {\n",
       "        vertical-align: middle;\n",
       "    }\n",
       "\n",
       "    .dataframe tbody tr th {\n",
       "        vertical-align: top;\n",
       "    }\n",
       "\n",
       "    .dataframe thead th {\n",
       "        text-align: right;\n",
       "    }\n",
       "</style>\n",
       "<table border=\"1\" class=\"dataframe\">\n",
       "  <thead>\n",
       "    <tr style=\"text-align: right;\">\n",
       "      <th></th>\n",
       "      <th>citation_sentence</th>\n",
       "      <th>manuscript_id</th>\n",
       "      <th>cited_id</th>\n",
       "      <th>cited_text</th>\n",
       "      <th>manuscript_result_text</th>\n",
       "      <th>topk_cited_sentences</th>\n",
       "      <th>rouge_1</th>\n",
       "      <th>rouge_2</th>\n",
       "      <th>rouge_3</th>\n",
       "      <th>rouge_4</th>\n",
       "      <th>rouge_5</th>\n",
       "    </tr>\n",
       "  </thead>\n",
       "  <tbody>\n",
       "    <tr>\n",
       "      <th>0</th>\n",
       "      <td>In addition, we here report comparable changes...</td>\n",
       "      <td>8281087</td>\n",
       "      <td>15228934</td>\n",
       "      <td>ietary incorporation of plant sterols and stan...</td>\n",
       "      <td>The systematic search retrieved 1084 potentia...</td>\n",
       "      <td>[Therefore, until mechanisms have been elucida...</td>\n",
       "      <td>0.903226</td>\n",
       "      <td>0.818182</td>\n",
       "      <td>0.594262</td>\n",
       "      <td>0.488372</td>\n",
       "      <td>0.378788</td>\n",
       "    </tr>\n",
       "    <tr>\n",
       "      <th>1</th>\n",
       "      <td>In addition, we here report comparable changes...</td>\n",
       "      <td>8281087</td>\n",
       "      <td>20547173</td>\n",
       "      <td>Elevated plasma total cholesterol (TC) 5 and L...</td>\n",
       "      <td>The systematic search retrieved 1084 potentia...</td>\n",
       "      <td>[Given the substantial impact of baseline LDL-...</td>\n",
       "      <td>0.935484</td>\n",
       "      <td>0.706294</td>\n",
       "      <td>0.450820</td>\n",
       "      <td>0.365449</td>\n",
       "      <td>0.245455</td>\n",
       "    </tr>\n",
       "    <tr>\n",
       "      <th>2</th>\n",
       "      <td>In addition, we here report comparable changes...</td>\n",
       "      <td>8281087</td>\n",
       "      <td>15671550</td>\n",
       "      <td>Phytosterols (PS), comprising both plant stero...</td>\n",
       "      <td>The systematic search retrieved 1084 potentia...</td>\n",
       "      <td>[For example, in the present analysis, we foun...</td>\n",
       "      <td>0.870968</td>\n",
       "      <td>0.839161</td>\n",
       "      <td>0.610656</td>\n",
       "      <td>0.495017</td>\n",
       "      <td>0.384848</td>\n",
       "    </tr>\n",
       "    <tr>\n",
       "      <th>3</th>\n",
       "      <td>Such a discrepancy may likely be due to dose-o...</td>\n",
       "      <td>8281923</td>\n",
       "      <td>6704669</td>\n",
       "      <td>3,4-Methylenedioxymethamphetamine (MDMA; \"ecst...</td>\n",
       "      <td>Two earlier studies have reported that male 5...</td>\n",
       "      <td>[Figure 6 ., M .-7:00 P ., M ., M ., A group o...</td>\n",
       "      <td>0.750000</td>\n",
       "      <td>0.201258</td>\n",
       "      <td>0.136364</td>\n",
       "      <td>0.062257</td>\n",
       "      <td>0.044776</td>\n",
       "    </tr>\n",
       "    <tr>\n",
       "      <th>4</th>\n",
       "      <td>Similar to earlier observations (42) , the inf...</td>\n",
       "      <td>11155963</td>\n",
       "      <td>4009171</td>\n",
       "      <td>Plasmodium falciparum is metabolically highly ...</td>\n",
       "      <td>Cell membrane scrambling, a hallmark of erypt...</td>\n",
       "      <td>[As illustrated in Fig. 1B (middle and right) ...</td>\n",
       "      <td>0.843750</td>\n",
       "      <td>0.647619</td>\n",
       "      <td>0.391304</td>\n",
       "      <td>0.231293</td>\n",
       "      <td>0.133333</td>\n",
       "    </tr>\n",
       "  </tbody>\n",
       "</table>\n",
       "</div>"
      ],
      "text/plain": [
       "                                   citation_sentence manuscript_id  cited_id  \\\n",
       "0  In addition, we here report comparable changes...       8281087  15228934   \n",
       "1  In addition, we here report comparable changes...       8281087  20547173   \n",
       "2  In addition, we here report comparable changes...       8281087  15671550   \n",
       "3  Such a discrepancy may likely be due to dose-o...       8281923   6704669   \n",
       "4  Similar to earlier observations (42) , the inf...      11155963   4009171   \n",
       "\n",
       "                                          cited_text  \\\n",
       "0  ietary incorporation of plant sterols and stan...   \n",
       "1  Elevated plasma total cholesterol (TC) 5 and L...   \n",
       "2  Phytosterols (PS), comprising both plant stero...   \n",
       "3  3,4-Methylenedioxymethamphetamine (MDMA; \"ecst...   \n",
       "4  Plasmodium falciparum is metabolically highly ...   \n",
       "\n",
       "                              manuscript_result_text  \\\n",
       "0   The systematic search retrieved 1084 potentia...   \n",
       "1   The systematic search retrieved 1084 potentia...   \n",
       "2   The systematic search retrieved 1084 potentia...   \n",
       "3   Two earlier studies have reported that male 5...   \n",
       "4   Cell membrane scrambling, a hallmark of erypt...   \n",
       "\n",
       "                                topk_cited_sentences   rouge_1   rouge_2  \\\n",
       "0  [Therefore, until mechanisms have been elucida...  0.903226  0.818182   \n",
       "1  [Given the substantial impact of baseline LDL-...  0.935484  0.706294   \n",
       "2  [For example, in the present analysis, we foun...  0.870968  0.839161   \n",
       "3  [Figure 6 ., M .-7:00 P ., M ., M ., A group o...  0.750000  0.201258   \n",
       "4  [As illustrated in Fig. 1B (middle and right) ...  0.843750  0.647619   \n",
       "\n",
       "    rouge_3   rouge_4   rouge_5  \n",
       "0  0.594262  0.488372  0.378788  \n",
       "1  0.450820  0.365449  0.245455  \n",
       "2  0.610656  0.495017  0.384848  \n",
       "3  0.136364  0.062257  0.044776  \n",
       "4  0.391304  0.231293  0.133333  "
      ]
     },
     "metadata": {},
     "output_type": "display_data"
    }
   ],
   "source": [
    "for i in range(1,5):\n",
    "    dataset[f\"rouge_{i}\"] = rouge[i]\n",
    "display(dataset.head())"
   ]
  },
  {
   "cell_type": "code",
   "execution_count": 38,
   "metadata": {},
   "outputs": [
    {
     "data": {
      "text/plain": [
       "array([[<AxesSubplot:title={'center':'rouge_1'}>,\n",
       "        <AxesSubplot:title={'center':'rouge_2'}>]], dtype=object)"
      ]
     },
     "metadata": {},
     "output_type": "display_data"
    },
    {
     "data": {
      "text/plain": [
       "array([[<AxesSubplot:title={'center':'rouge_3'}>,\n",
       "        <AxesSubplot:title={'center':'rouge_4'}>]], dtype=object)"
      ]
     },
     "metadata": {},
     "output_type": "display_data"
    },
    {
     "data": {
      "image/png": "[encoded data removed]",
      "text/plain": [
       "<Figure size 432x288 with 2 Axes>"
      ]
     },
     "metadata": {
      "needs_background": "light"
     },
     "output_type": "display_data"
    },
    {
     "data": {
      "image/png": "[encoded data removed]",
      "text/plain": [
       "<Figure size 432x288 with 2 Axes>"
      ]
     },
     "metadata": {
      "needs_background": "light"
     },
     "output_type": "display_data"
    }
   ],
   "source": [
    "display(dataset[[\"rouge_1\", \"rouge_2\"]].hist())\n",
    "display(dataset[[\"rouge_3\", \"rouge_4\"]].hist())"
   ]
  },
  {
   "cell_type": "markdown",
   "metadata": {},
   "source": [
    "## 6. Convert to script"
   ]
  },
  {
   "cell_type": "code",
   "execution_count": 66,
   "metadata": {},
   "outputs": [
    {
     "name": "stderr",
     "output_type": "stream",
     "text": [
      "0it [00:00, ?it/s]"
     ]
    },
    {
     "name": "stdout",
     "output_type": "stream",
     "text": [
      "{'citation_sentence': 'Such a discrepancy may likely be due to dose-or species-specific differences since an acute administration of 3.3 mg/kg MDMA did not stimulate locomotion in mice (Scearce-Levie et al, 1999) , but did in rats ( Bankson and Cunningham, 2002) .', 'manuscript_id': '8281923', 'cited_id': '6704669', 'manuscript_text': ' Two earlier studies have reported that male 5-HT 1B receptor-null mice are overweight and consume a higher amount of food than wild-type mice (Brunner et al, 1999; Bouwknecht et al, 2001) . However, the validity of the results was a matter of debate because wild-type and null mice were obtained from independent lines (Bouwknecht et al, 2001) . Therefore, we used homozygote offspring from heterozygote breeding pairs (Animal section) in order to avoid indirect effects of parental care behavioral responses, as discussed by Bouwknecht et al (2001) . No difference in either baseline food intake or body weight was detected between wild-type and 5-HT 1B receptor-null mice for the habituation period or following a 24 h period of food deprivation (data not shown), as reported previously (Lucas et al, 1998 MDMA produced a profound reduction in food intake for 1 h in starved wild-type mice, as compared with NaCltreated wild-type mice (À77%, Figure 1a) . However, after this initial reduction in food intake, we observed that the amount of food consumed over the next 2 h (between 60 and 180 min) was greater in MDMA-treated mice than in NaClinjected wild-type mice ( þ 47%, Figure 1b) . Therefore, the drive to eat induced by starvation was suppressed during the first hour by MDMA. Compared to saline-treated starved mice, MDMA-treated starved mice first displayed a period of hypophagia for 1 h and then a second period of hyperphagia for the next 2 h. As with MDMA, the 5-HT 1B receptor agonist CGS12066A (2 mg/kg, but not 0.5 or 1 mg/kg) reduced food consumption during the first hour following treatment (À65%, Figure 1a ). However, in contrast to MDMA, CGS12066A-induced hypophagia was prolonged over 3 h (Figure 1b) . Similar results were obtained using the 5-HT 1A/1B receptor agonist RU24969 (5 mg/kg, Figure 1a and b), as reported previously (Lucas et al, 1998) . Thus, 5-HT 1B receptor agonists produced a more sustained hypophagia than does MDMA (Figure 1b) . Figure 1 Biphasic feeding responses to MDMA in starved wild-type and 5-HT 1B receptor-null mice contrasted to a sustained hypophagia of 5-HT 1B receptor agonists. Data are means7SEM total food intake for groups of wild-type ( þ / þ ) and 5-HT 1B receptor-null (À/À) mice treated with NaCl (n ¼ 22-17), MDMA (10 mg/kg, n ¼ 11-9), 5-HT 1A/1B receptor agonist RU24969 (5 mg/kg, n ¼ 9-7), or 5-HT 1B receptor agonist CGS12066A (2 mg/kg, n ¼ 11-7). Food intake was significantly different between mice of both genotypes (F 1,85 ¼ 6.2, po0.05) and changed after the treatment used for 1 h (F 3,85 ¼ 23.4, po0.0001) and 60-180 min periods (F 3,85 ¼ 13.5, po0.0001). Treatments that differ significantly from saline in wild-type mice are marked ( Since both MDMA and 5-HT 1B receptor agonists reduced food intake in starved mice, we thought that 5-HT 1B receptors could be involved in MDMA-delayed eating. However, we did not verify this hypothesis since, in 5-HT 1B receptor-null mice, MDMA induced a biphasic effect on feeding behavior similar to the one observed in wild-type mice: a hypophagic effect over 1 h (À58%, Figure 1a) followed by a hyperphagic effect (Figure 1b) . As expected, note that, no significant effect of CGS12066A (2 mg/kg) or RU24969 (5 mg/kg) injected alone was observed in 5-HT 1B receptor-null mice (Figure 1a and b) . Biphasic Feeding Responses to MDMA were Maintained when 5-HT 1B Receptors were Blocked by the Antagonist GR127935 To circumvent any compensatory mechanisms, which may occur in mice lacking 5-HT 1B receptors from birth, we tested whether an acute injection of the specific 5-HT 1B/1D receptor antagonist, GR127935 (10 mg/kg), combined with MDMA may disrupt the effects of MDMA on feeding. Results indicate that in starved wild-type mice, MDMA plus GR127935 did not modify the biphasic change in food intake provoked by MDMA (Figure 2a and b) . In addition, no significant effect on food intake was detected in mice treated with 3 (not shown) or 10 mg/kg of GR127935, as compared to saline-injected wild-type animals ( Figure 2a and b). Receptor Antagonist RS102221 Highly Reduced MDMA-Induced Hypophagia, but not Its HyperphagicDelayed Response 5-HT 2C receptor-null mice exhibit an increase in food intake (Tecott et al, 1995) , unrelated to peripheral change (Nonogaki et al, 1998) . Pharmacological studies have reported that the 5-HT 2C receptor antagonist SB242084 reduced the anorectic effects of both m-chlorophenylpiperazine, a mixed 5-HT 2A,2B,2C receptor agonist (Kennett et al, 1997) , and fenfluramine (Vickers et al, 2001 ). However, SB242084 alone did not induce hyperphagia, nor did it mimic other behavioral parameters of 5-HT 2C receptor-null mice (Kennett et al, 1997) . Therefore, we chose to use another selective 5-HT 2C receptor antagonist, RS102221, because its chronic administration mimics the feeding phenotype of 5-HT 2C -null mice (Bonhaus et al, 1997) . In this new series of experiments, the treatments induced significant changes in food intake over time (1 h: F 3,36 ¼ 12.5, po0.0001; 60-180 min: F 3,36 ¼ 8.3, po0.001). Again, we observed a biphasic change in food intake following MDMA injection in starved wild-type animals (Figure 3a and b) . RS102221 (2 mg/kg) alone did not change the feeding response for the first period (0-60 min, Figure 3a) . Interestingly, if RS102221 (2 mg/kg) was coadministered with MDMA, the hypophagic effect of MDMA observed during this period was greatly reduced compared to the one observed after injection of MDMA alone (Figure 3a) . In contrast, for the second period (60-180 min), the hyperphagia detected after MDMA was not reduced after coinjection of RS102221 and MDMA (Figure 3b ). Note that RS102221 injected alone induced hyperphagia during this period (Figure 3b ). There is an obvious correlation between horizontal locomotion and feeding responses. To our knowledge, the possible involvement of 5-HT 2C receptors in MDMA-induced Figure 2 Biphasic feeding responses to MDMA was maintained even when the drug is coadministered with the 5-HT 1B/1D receptor antagonist GR127935. Data are means7SEM total food intake measured 1 h (a) and between 1 and 3 h (b) in wild-type mice treated with NaCl (n ¼ 10), MDMA (10 mg/kg, n ¼ 9), 5-HT 1B/1D receptor antagonist GR127935 (10 mg/kg, n ¼ 8), or MDMA/GR127935 (n ¼ 10) in starved wild-type mice. Significant differences between any treatment and NaCl effect are noted ( }}} po0.0001, Suppression of disorders after MDMA/RS102221 treatment G Conductier et al hyperactivity has never been tested in mice. Our results indicate that MDMA significantly increased the traveled path length, as compared to saline-injected animals ( Figure 4a ). In contrast, a combined treatment of MDMA plus RS102221 failed to induce any change in horizontal activity (Figure 4a) . Similarly, the total traveled path length was markedly increased after the administration of MDMA, as compared to control mice ( þ 592%, Figure 4b ). This MDMA-induced activity was highly reduced by the coinjection of RS102221 ( þ 226%, po0.01) (Figure 4a and b) . Note that RS102221 alone had no effect on locomotor activity (Figure 4a and b) . The effects of MDMA alone on horizontal activity were significantly greater than for mice treated with MDMA plus RS102221 (MDMA vs MDMA þ RS102221: þ 226%, po0.01), or RS102221 (MDMA vs RS102221: þ 435%, Figure 4c ). In summary, MDMA stimulated locomotion in mice when injected alone, but not when coadministered with RS102221. Stereotyped behaviors could also compete with both horizontal locomotion and feeding changes after MDMA. The absence of a reduction in the hypophagic response to MDMA when 5-HT 2C receptors were inactivated may be explained by the fact that mice exhibited less stereotyped behaviors after cotreatment with MDMA plus RS102221. To investigate such a possibility, we assessed the degree of certain stereotyped behaviors. Wild-type mice treated with MDMA, RS102221, or MDMA plus RS102221 exhibited no significant difference in the number of head weaving, grooming, or licking behaviors, as compared to control animals (not shown). In contrast, both MDMA and MDMA plus RS102221 treatments induced marked increases in the number of flat body and stretch-attend postures observed, as compared to control mice, but only for the initial 30 min following drug injection (Figure 4d ). No significant difference was detected after use of any treatment over the next 30 min (Figure 4e) . Therefore, the recorded stereotyped behaviors may not compete with feeding or motor responses.', 'cited_text': '3,4-Methylenedioxymethamphetamine (MDMA; \"ecstasy\") is a commonly abused amphetamine derivative that evokes a unique set of stimulant, emotional and perceptual effects distinguishable from the parent drug amphetamine (Greer and Tolbert 1986) . The mechanisms of action of both amphetamine and MDMA are based upon their ability to reverse monoamine reuptake transporters resulting in monoamine release from nerve terminals (Rudnick and Wall 1992) . Amphetamine is selective for the release of dopamine (DA) via the DA reuptake transporter (Crespi et al. 1997) , while MDMA has greater affinity for the serotonin (5-hydroxytryptamine; 5-HT) transporter (SERT) (Battaglia et al. 1988; Crespi et al. 1997) . The ratio of 5-HT release to DA release is much greater for MDMA than for amphetamine (Crespi et al. 1997) , although MDMA, like amphetamine, does release a larger amount of DA than 5-HT (Gudelsky and Nash 1996; White et al. 1994; Yamamoto and Spanos 1988) . There are also similarities and stark contrasts when comparing the overt behaviors expressed upon the administration of these two drugs. Both drugs increase locomotor activity in rodents, but amphetamine-induced activity is amplified throughout the activity monitor, while MDMA-induced activity occurs predominantly in the periphery of the chamber (Callaway et al. 1990; . MDMA also produces aspects of the \"5-HT syndrome\" (Spanos and Yamamoto 1989) and decreased investigatory behavior . A large body of literature suggests that accumulation of DA in the synapse is a crucial mediator of the behavioral effects of psychostimulants such as amphetamine and cocaine (Kelly et al. 1975; Robledo et al. 1992) . Dopamine antagonists (Kehne et al. 1996) and DA depletion with the DA neurotoxin 6-hydroxydopamine ) have been noted to attenuate the behavioral effects of MDMA. However, several lines of evidence suggest that MDMA-induced activity is also critically dependent upon the release of 5-HT from terminals. For example, pretreatment with the 5-HT synthesis inhibitor p-chlorophenylalanine attenuated ( ϩ )-MDMA-induced hyperactivity (Callaway et al. 1990 ) while selective 5-HT reuptake inhibitors (SSRIs), which inhibit the binding of MDMA to the 5-HT transporter, blocked hyperactivity induced by ( ϩ )-MDMA, but not amphetamine (Callaway et al. 1990 ). Interestingly, when access to the SERT is blocked by an SSRI, the MDMA-evoked DA efflux in the striatum is greatly reduced (Gudelsky and Nash 1996; Koch and Galloway 1997) . Furthermore, 5-HT has been shown to evoke receptor-dependent release of DA in the striatum (Nash 1990; Schmidt et al. 1994; Yamamoto et al. 1995) and, hence, 5-HT-induced DA release may mediate some of the unique effects of MDMA. The dual importance of both DA and 5-HT systems in mediating hyperactivity is unique to MDMA and suggests that the study of this amphetamine congener may provide insight into the interactive relationships between these two monoamine systems (see Bankson and Cunningham 2001) . The 5-HT 1B , 5-HT 2A and 5-HT 2C receptors (5-HT 1B R, 5-HT 2A R and 5-HT 2C R) are localized to the nigrostriatal and mesocorticolimbic circuits (Barnes and Sharp 1999) implicated in locomotor activation, reward, and addictive behavior (Wise and Bozarth 1985) . These receptors are also suggested to control DA function (Benloucif et al. 1993; Lucas and Spampinato 2000; Ng et al. 1999; Parsons et al. 1999) and are of especial interest in the behavioral effects of MDMA. Geyer and colleagues were the first to show that the spatial pattern of ( ϩ )-MDMAinduced activity is similar to that observed following administration of 5-HT 1B/1D R agonists (Callaway et al. 1992; Rempel et al. 1993) . Non-selective 5-HT 1 R antagonists were also shown to block hypermotility elicited by ( ϩ )-MDMA (Callaway et al. 1992) . More recently, the selective 5-HT 1B/1D R antagonist GR 127935 has been shown to block ( ϩ )-MDMA-induced hyperactivity in rats to the level of saline controls . These findings, coupled with the lack of effect of the selective 5-HT 1A R antagonist WAY 100635 , suggest that stimulation of the 5-HT 1B R is a necessary condition for the expression of this behavioral effect of ( ϩ )-MDMA. The hyperactivity induced by a high dose (20 mg/kg) of ( Ϯ )-MDMA is attenuated by non-selective 5-HT 2 R antagonists (e.g., ritanserin) and the selective 5-HT 2A R antagonist M100907 (Kehne et al. 1996) . In contrast, the non-selective 5-HT 2/1 R antagonist methysergide greatly enhanced the hyperactive effects of MDMA . These paradoxical findings suggest that stimulation of 5-HT 1B R and 5-HT 2A R may contribute to the expression of MDMA-induced hyperactivity. The activation of 5-HT 2C R, which is thought to mediate the hypoactivity elicited by the direct 5-HT 2C R agonist m -chlorophenylpiperazine (MCPP) (Gleason and Shannon 1998; Heisler and Tecott 2000) , may self-limit this behavior. The aim of the present study was to test the hypothesis that activation of 5-HT 2C R self-limits the locomotor stimulation induced by a low dose (3 mg/kg) of ( ϩ )-MDMA in rats Paulus and Geyer 1992) . To test this hypothesis, the selective 5-HT 2B/2C R antagonist SB 206553 was employed based upon its ability to discriminate between 5-HT 2C R ( p K i ϭ 7.92) and 5-HT 2A R (pK i ϭ 5.8) without affinity for DA D 2 , D 3 or D 4 receptors expressed in human HEK 293 cells (pK i Ͻ 5; Kennett et al. 1996) . The comparative ability of SB 206553 to potentiate the behavioral effects of the DA releaser amphetamine alone or in combination with the Figure 1 . Time of treatment injections relative to automated recording of activity on test days. selective 5-HT releaser fenfluramine was assessed to allow inference concerning the potential components of action of MDMA which might contribute to its observed effects. To further define the nature of the potentiation of MDMA-induced hyperactivity caused by SB 206553, GR 127935 and M100907 were utilized at doses previously shown to block 5-HT 1B/1D R (Gobert et al. 1997; O\\'Neill et al. 1996) and 5-HT 2A R in vivo, respectively (Kehne et al. 1996; Sorensen et al. 1993) ; these are also doses of these drugs with which we have experience McMahon and Cunningham 2001a; 2001b) .  Male Sprague-Dawley rats (Harlan Sprague-Dawley, Indianapolis, IN) weighing 225-250g at the beginning of experimental procedures were housed in groups of four in a temperature (21-23 Њ C) and humidity (40-50%) controlled environment for at least one week prior to experiments. Food and water were available ad libitum, except during experimental sessions. Lighting was maintained under a 12-h light-dark cycle (lights on 7:00 A . M .-7:00 P . M .). All experimental procedures were performed between 8:00 A . M . and 3:30 P . M . and were carried out in accordance with the National Institutes of Health Guide for the Care and Use of Laboratory Animals. Locomotor activity was quantified using a modified open field activity system under low light conditions (San Diego Instruments, San Diego, CA) housed within sound attenuated chambers. Each enclosure consisted of a clear Plexiglas open field (40 ϫ 40 ϫ 40 cm). A 4 ϫ 4 photobeam matrix was located 4 cm above the cage floor with beams spaced at 8-cm intervals on the x and y planes. Another horizontal row of 16 photobeams located 16 cm from the floor surface provided each chamber with a measure of rearing activity. Interruptions of the photobeams resulted in counts of activity in the peripheral and central fields of the chamber. Activity recorded in the inner 16 ϫ 16 cm of the open field was counted as central activity while the field bounded by the outer 12 cm band registered peripheral activity. Separate counts of peripheral and central activity were made by the control software (Photobeam Activity Software, San Diego Instruments) and stored for subsequent statistical evaluation. Video cameras located above the chambers were used to monitor activity continuously without disruption of behavior. All rats were maintained in the colony room for a minimum of one week prior to behavioral testing for acclimation to daily handling procedures. Rats were habituated to the test chambers for 3 h per day on the two days prior to the start of the experiment. On the day of test, rats (n ϭ 8/group) were placed in the activity monitors for 15 or 30 min prior to injections (Figure 1) . Recording of activity in 5-min time epochs began immediately after the last injection and continued for 90 Figure 2 . Dose-effect relationship for SB 206553 plus (ϩ)-MDMA hyperactivity. Separate groups of rats (n ϭ 8/group) were injected with SB 206553 (0.5-4 mg/kg i.p.) or ␤-cyclodextrin vehicle (1 ml/kg i.p.) followed 30 min later by injection of (ϩ)-MDMA (3 mg/kg s.c.) or saline (1 ml/kg s.c.) (see Methods). Recording of activity began immediately in 5-min time periods and lasted for 90 min. Data are presented as mean change from vehicle-saline baseline over the 90-min test period (Ϯ SEM); see Statistical Analysis for further explanation. Peripheral, central, and rearing activity are shown in the top, middle, and bottom panels, respectively. The asterisks (*) denote activity levels that differed significantly from those of vehicle (ϩ)-MDMA rats within a given activity measure. A group of rats (n ϭ 8) was injected with GR 127935 (GR; 2.5 mg/kg i.p.) or ␤-cyclodextrin vehicle (VEH; 1 ml/kg i.p.) followed 15 min later by SB 206553 (SB; 2.0 mg/kg i.p.) or vehicle, and 30 min later with (ϩ)-MDMA (MDMA; 3 mg/kg s.c.) or saline (SAL; 1 ml/kg s.c.). Recording of activity began immediately in 5-min time periods and lasted for 90 min. Left panels: The mean activity counts (Ϯ SEM) summed over the 90 min period beginning immediately after the final injection (SAL or MDMA; n ϭ 8/group) are shown for the six pretreatment groups. Peripheral, central, and rearing activity are shown in the top, middle, and bottom panels respectively. The asterisks (*) denote activity levels that differed significantly from those of VEH-VEH-SAL rats. The carets (^) represent activity levels that differed significantly from those of VEH-VEH-MDMA rats. The number symbol (#) denotes activity levels that differed significantly from those of VEH-SB-MDMA rats (p Ͻ .05). Right panels: Data are presented as mean activity counts in each 5-min bin (Ϯ SEM) for the 90 min time period beginning immediately after the final injection (SAL or MDMA) for each of the pretreatment groups. A group of rats (n ϭ 8) was injected with M100907 (M100; 1.0 mg/kg i.p.) or ␤-cyclodextrin vehicle (VEH; 1 ml/kg i.p.) followed 15 min later by SB 206553 (SB; 2.0 mg/kg i.p.) or vehicle, and 30 min later with injection of (ϩ)-MDMA (MDMA; 3 mg/kg s.c.) or saline (SAL; 1 ml/kg s.c.). Recording of activity began immediately in 5-min time periods and lasted for 90 min. Left panels: The mean activity counts (Ϯ SEM) summed over the 90 min period beginning immediately after the final injection (SAL or MDMA; n ϭ 8/group) are shown for the pretreatment groups. Peripheral, central, and rearing activity are shown in the top, middle, and bottom panels respectively. The asterisks (*) denote activity levels that differed significantly from those of VEH-VEH-SAL rats. The carets (^) represent activity levels that differed significantly from those of VEH-VEH-MDMA rats. The number symbols (#) denote activity levels that differed significantly from those of VEH-SB-MDMA rats (p Ͻ .05). Right panels: Data are presented as mean activity counts in each 5-min bin (Ϯ SEM) for the 90 min time period beginning immediately after the final injection (SAL or MDMA) for each of the pretreatment groups. tered intraperitoneally (i.p.). The vehicle matched with each drug consisted of the solution utilized for dissolution of a given drug. Verification that the compounds had dissolved was made visually. Total activity counts were summed for each individual rat across the 90-min observation period. Data are presented as mean total activity counts (Ϯ SEM) and the dependent measures were total peripheral, central and vertical activity observed during the 90 min test session. Because group comparisons were specifically defined prior to the start of the experiment, these planned comparisons were conducted in lieu of an overall F test in a multifactorial ANOVA; this statistical analysis has been supported in a number of statistical texts (e.g., Keppel 1973 ). Thus, each experiment was subjected to a one-way ANOVA for repeated measures with levels of the treatment factor corresponding to the drug combinations administered to that group. Planned, pairwise comparisons of the treatment means were made with least significant difference test (Keppel 1973 ; SAS for Windows, Version 6.12) which were conducted with an experimentwise error rate of ␣ϭ0.05. To establish the dose-response curve for SB 206553 to potentiate (ϩ)-MDMA-induced activity, it was necessary to normalize the activity levels for each of the rats from four different groups. To this end, the average number of peripheral, central or rearing activity counts observed during the 90-min session following injection with vehicle plus saline was established for all rats (n ϭ 32) in the four pretreatment groups. This average value was subtracted from the total activity counts during the 90 min session following administration of (ϩ)-MDMA (n ϭ 32) or SB 206553 (0.5, 1, 2 or 4 mg/kg) plus (ϩ)-MDMA (n ϭ 8/group) to provide a change from baseline value. Variances were homogeneous and a parametric one-way ANOVA for independent measures followed by a Dunnett\\'s test was used to compare the change from control activity levels at each dose of SB 206553 plus (ϩ)-MDMA to that seen following vehicle plus (ϩ)-MDMA. The ability of SB 206553 to affect (ϩ)-MDMA (3 mg/kg) evoked hyperactivity was assessed in four separate groups of animals using a repeated measures design and data were normalized as a change from the vehiclesaline baseline (Figure 2) . A main effect of treatment was observed for measures of peripheral (F 4,59 ϭ19.594, p ϭ .0001), central (F 4,59 ϭ9.992, pϭ.0001) and rearing activity (F 4,59 ϭ16.2, pϭ.0001). A priori analyses by Dunnett\\'s test indicated a dose-related increase in (ϩ)-MDMA-evoked min. A repeated measures design was utilized and the presentation of drugs was counterbalanced to control for confounds due to the order of drug treatment. Tests were spaced at least 48 h apart over the course of a 2-4 week period; each rat received either four or six tests total. In tests of psychostimulants, animals received either two or three injections of (ϩ)-MDMA or four injections of amphetamine which were spaced at least four days apart over the course of testing. To test the hypothesis that blockade of 5-HT 2B/2C R by SB 206553 would potentiate (ϩ)-MDMA-evoked activity, four groups of rats (n ϭ 8/group) were administered a dose of SB 206553 (either 0.5, 1.0, 2.0 or 4.0 mg/ kg) or ␤-cyclodextrin vehicle (45% (w/v); 1 ml/kg, i.p.) followed by an injection of either (ϩ)-MDMA (3 mg/ kg, s.c.) or saline (0.9%; 1 ml/kg, s.c.) in a repeated measures design in which each rat received each of the four drug combinations spaced as indicated on the time line in Figure 1 Amphetamine, fenfluramine and (ϩ)-MDMA were dissolved in 0.9% saline and administered subcutaneously (s.c.). SB 206553 was dissolved in 45% ␤-cyclodextrin in 0.9% saline with mild heating, while GR 127935 and M100907 were dissolved in 10% ␤-cyclodextrin in 0.9% saline with mild heating; all antagonists were adminis-hyperactivity induced by SB 206553 with peripheral activity significantly enhanced by 1, 2 and 4 mg/kg of SB 206553; central and rearing activity were significantly enhanced by 1 and 2 mg/kg of SB 206553 (Figure 2 ). An example of the effects of SB 206553 (2 mg/kg) on the activity profile induced by (ϩ)-MDMA (3 mg/kg) is illustrated in Figure 3 . A main effect of pretreatment was evident for peripheral (F 5,42 ϭ34.13, p ϭ .0001), central (F 5,42 ϭ23.98, p ϭ .0001) and rearing activity (F 5,42 ϭ14.12, p ϭ .0001). A priori analyses revealed that (ϩ)-MDMA (Figure 3 ) significantly increased peripheral, central and rearing activity compared with vehicle-saline rats (p Ͻ .05). Pretreatment with SB 206553 (2 mg/kg) prior to an injection of saline did not alter activity, although SB 206553 significantly enhanced peripheral, central and rearing activity induced by (ϩ)-MDMA (Figure 3 ; p Ͻ .05). The timecourse of the effects on activity is shown in the right panels. A dose of GR 127935 (2.5 mg/kg), previously shown to completely block the hyperactivity evoked by 3 mg/kg of (ϩ)-MDMA alone ), significantly attenuated the peripheral and rearing (p Ͻ .05), but not central, activity generated by SB 206553 plus (ϩ)-MDMA. This notwithstanding, central and rearing activity levels observed following GR 127935 in combination with SB 206553 plus (ϩ)-MDMA were significantly elevated over vehicle plus (ϩ)-MDMA levels (p Ͻ .05). A separate group of rats was utilized to assess the ability of M100907 (1 mg/kg) to alter the behavioral profile of SB 206553 plus (ϩ)-MDMA. A main effect of pretreatment was evident for peripheral (F 4,35 ϭ39.83, p ϭ .0001), central (F 4,35 ϭ13.7, p ϭ .0001) and rearing activity (F 4,35 ϭ11.72, p ϭ .0001). This dose of M100907 did not alter the hyperactivity induced by 3 mg/kg of (ϩ)-MDMA (data not shown). In the present experiment, M100907 significantly attenuated peripheral activity induced by SB 206553 plus (ϩ)-MDMA (p Ͻ .05), but had no effect on central and rearing activity; resulting levels of peripheral activity were still significantly higher than those seen after vehicle plus saline injection (Figure 4) . On the other hand, in a group of rats ( Figure 5 ) pretreated with both GR 127935 (2.5 mg/kg) and M100907 (1 mg/kg), a main effect of pretreatment was evident for peripheral (F 4,35 ϭ16.78, p ϭ .0001), central (F 4,35 ϭ11.46, p ϭ .0001) and rearing activity (F 4,35 ϭ6.29, p ϭ .0001). Pretreatment with both GR 127935 and M100907 significantly reduced peripheral, central and rearing activity induced by SB 206553 plus (ϩ)-MDMA (p Ͻ .05), although peripheral, central and rearing activity were still significantly higher than vehicle plus saline levels ( Figure 5 ). Co-pretreatment with GR 127935, M100907 and SB 206553 did not affect activity levels (p Ͼ .05; Figure 5) . The ability of fenfluramine, at a dose (4 mg/kg) which did not alter activity profiles when administered alone (data not shown), to elicit an additive effect with amphetamine (1 mg/kg) was assessed in a separate group of rats (n ϭ 8). A main effect of pretreatment was evident for peripheral (F 4,35 ϭ17.61, p ϭ .0001), central (F 4,35 ϭ4.15, p ϭ .0074) and rearing activity (F 4,35 ϭ11.72, p ϭ .0001). A priori analyses revealed that amphetamine significantly increased peripheral and central activity over vehicle-saline levels, and SB 206553 significantly elevated peripheral, but not central or rearing, activity observed after amphetamine alone (p Ͻ .05; Figure 6 ). Co-treatment with amphetamine plus fenfluramine resulted in greater peripheral, but not central or rearing, activity compared with amphetamine alone (p Ͻ .05). SB 206553 further increased levels of peripheral, central and rearing activity observed following amphetamine plus fenfluramine (p Ͻ .05). A low dose of (ϩ)-MDMA increased locomotor activity, especially in the periphery of the activity monitor, without remarkable effects on rearing, a finding consistent with previous reports (Callaway et al. 1990; ). The 5-HT 2B/2C R antagonist SB 206553 dose-dependently potentiated the hyperactivity caused by (ϩ)-MDMA to a maximum 223% increase in peripheral activity, 318% increase in central activity, and 326% increase in rearing activity evoked by (ϩ)-MDMA. These studies parallel the finding that the non-selective 5-HT 2/1 R antagonist methysergide enhanced MDMA-induced hyperactivity (Gold and Koob 1988) and further suggest that antagonism of 5-HT 2C R accounts for this potentiative effect of SB 206553 (present results) and methysergide (Gold and Koob 1988) on MDMA-evoked hyperactivity. The highest dose of SB 206553 tested (4 mg/kg) was less efficacious than lower doses, suggesting that the compound may lose selectivity for 5-HT 2B/2C R at the high end of the dose-effect curve. Like (ϩ)-MDMA administered alone , the hyperactivity induced by SB 206553 plus (ϩ)-MDMA occurred primarily in the periphery of the chamber. It is noteworthy that SB 206553 potentiated (ϩ)-MDMA (3 mg/kg)-induced activity to a level seen with much higher doses of MDMA (Kehne et al. 1996) or moderate doses of amphetamine (Callaway et al. 1990; Kelly et al. 1975 ) without altering the pattern of central and peripheral activity. However, in contrast to inconsistent (ϩ)-MDMA-induced rearing seen here and previously , there were reliable and robust increases in rearing after SB 206553 plus (ϩ)-MDMA suggesting that activation of 5-HT 2C R consequent to (ϩ)-MDMA administration may suppress rearing. The protein for the 5-HT 2C R has been localized to both the nigrostriatal and mesoaccumbens DA pathways (Clemett et al. 2000) which have been implicated in the actions of psychostimulants. Transcript for the Figure 5 . Effects of GR 127935 plus M100907 on SB 206553 plus (ϩ)-MDMA hyperactivity. A group of rats (n ϭ 8) was injected with GR 127935 (2.5 mg/kg) plus M100907 (M100; 1.0 mg/kg) or ␤-cyclodextrin vehicle (VEH; 1 ml/kg i.p.) followed 15 min later by SB 206553 (SB; 2.0 mg/kg i.p.) or vehicle, and 30 min later with injection of (ϩ)-MDMA (MDMA; 3 mg/kg s.c.) or saline (SAL; 1 ml/kg s.c.) Recording of activity began immediately in 5-min time periods and lasted for 90 min. Left panels: The mean activity counts (Ϯ SEM) summed over the 90 min period beginning immediately after the final injection (SAL or MDMA; n ϭ 8/group) are shown for the six pretreatment groups. Peripheral, central, and rearing activity are shown in the top, middle, and bottom panels respectively. The asterisks (*) indicate activity levels that differed significantly from those of VEH-VEH-SAL rats. The carets (^) denote activity levels that differed significantly from those of VEH-VEH-MDMA rats. The number symbol (#) indicates activity levels that differed significantly from those of VEH-SB-MDMA rats (p Ͻ .05). Right panels: Data are presented as mean activity counts in each 5-min bin (Ϯ SEM) for the 90 min time period beginning immediately after the second injection (SAL or MDMA) for each of the five pretreatment groups. Figure 6 . Effects of SB 206553 on amphetamine plus fenfluramine hyperactivity. A group of rats (n ϭ 8) was injected with SB 206553 (SB; 2.0 mg/kg i.p.) or ␤-cyclodextrin vehicle (VEH; 1 ml/kg i.p.) followed 30 min later by injection of amphetamine (AMPH; 0.5 mg/kg) plus fenfluramine (FEN; 4 mg/kg s.c.) or saline (SAL; 1 ml/kg s.c.). Recording of activity began immediately in 5-min time periods and lasted for 90 min. Left panels: The mean activity counts (Ϯ SEM) summed over the 90 min period beginning immediately after SAL, AMPH, or AMPH-FEN (n ϭ 8/group) are shown for the six pretreatment groups. Peripheral, central, and rearing activity are shown in the top, middle, and bottom panels respectively. The asterisks (*) denote activity levels that differed significantly from those of VEH-SAL rats. The carets (^) indicate activity levels that differed significantly from those of VEH-AMPH rats (p Ͻ .05). The number symbol (#) indicates activity levels that differed significantly from those of VEH-AMPH-FEN rats (p Ͻ .05). The at symbol (@) indicates activity levels significantly different from those of SB-AMPH rats (p Ͻ .05). Right panels: Data are presented as mean activity counts in each 5-min bin (Ϯ SEM) for the 90 min time period beginning immediately after the injection with SAL, AMPH or AMPH-FEN for each of the six pretreatment groups. 5-HT 2C R has also been localized to regions containing DA cell bodies such as the substantia nigra (SN) and ventral tegmental area (VTA) as well as the terminals of DA pathways in the dorsal and ventral striatum (EberleWang et al. 1997; Pompeiano et al. 1994 ). Expression of 5-HT 2C R mRNA colocalized with glutamic acid decarboxylase (GAD), but not tyrosine hydroxylase, in SN and VTA neurons suggests that the 5-HT 2C R is located in ␥-aminobutyric acid (GABA), but not DA, neurons in the SN and VTA (Eberle-Wang et al. 1997 ). Thus, 5-HT 2C R-mediated control of GABA input to DA neurons may provide one mechanism through which 5-HT 2C R could affect DA function. In fact, the finding that the indirect GABA agonist ␥-vinyl GABA significantly lowered cocaine-induced elevations in striatal DA concentration and locomotor activity (Dewey et al. 1997) , is in line with the possibility that the 5-HT 2C R influences DA neurotransmission, and thus the behavioral effects of this psychostimulant, via GABAergic mechanisms. Although the specific brain sites at which the 5-HT 2C R exerts influence have not been determined, substantial evidence suggests that the 5-HT 2C R has an inhibitory role in the control of mesolimbic DA efflux. Systemic administration of 5-HT 2C R agonists depresses basal DA release in the NAc, slows the firing of VTA DA neurons (Di Matteo et al. 2000) and blocks cocaine-induced behavioral effects (Callahan and Cunningham 1995; Grottick et al. 2000) . The 5-HT 2B/2C R antagonist SB 206553 potentiated DA efflux in the NAc (Di Matteo et al. 1998) and selective blockade of 5-HT 2C R by systemic administration of SB 242084 potentiated the firing of VTA DA neurons and elevated basal DA efflux in the NAc (Di Matteo et al. 1999) . Systemic administration of SB 206553 also potentiated haloperidol-induced increases in striatal DA efflux, suggesting a role for 5-HT 2C R in the nigrostriatal DA pathway and the ability of these receptors to inhibit stimulated as well as basal DA efflux . However, while 5-HT 2C R agonists suppress spontaneous behavior when administered alone (e.g., Grottick et al. 2000) , prominent effects of 5-HT 2C R antagonists on spontaneous behavior have not been reported (present results; Grottick et al. 2000) . Due to the high affinity of SB 206553 for both 5-HT 2B R and 5-HT 2C R, blockade of either or both receptors may account for the increase in locomotor activity seen when given in conjunction with (ϩ)-MDMA. Modest levels of 5-HT 2B R are found in brain (Duxon et al. 1997) ; however, empirical evidence to support or refute a role for central or peripheral 5-HT 2B R in behavior is limited (see McCreary and Cunningham 1999, for discussion) . Furthermore, the similarity of effects on DA efflux seen with SB 206553 and the selective 5-HT 2C R antagonist SB 242084 (which has little affinity for 5-HT 2B R; Di Matteo et al. 1999) indicate that the behavioral outcome of pretreatment with SB 206553 is probably due to 5-HT 2C R antagonism. A substantial body of literature suggests that 5-HT 1B/ 1D R activation following MDMA-induced 5-HT release is required for MDMA-induced increases in locomotion (Callaway et al. 1992; . However, the present results indicate that the activity evoked by the combination of SB 206553 plus (ϩ)-MDMA is not completely dependent upon 5-HT 1B/1D R activation (unlike (ϩ)-MDMA alone; ). Blockade of 5-HT 1B/1D R with GR 127935 at a dose (2.5 mg/kg) that completely suppressed activity induced by 3 mg/ kg of (ϩ)-MDMA ) resulted in a modest, but non-significant, reduction in peripheral and central activity and a significant reduction in rearing compared with the levels obtained upon administration of SB 206553 plus (ϩ)-MDMA. However, all measures of activity were still significantly higher than those produced by administration of (ϩ)-MDMA alone. These results suggest that blockade of 5-HT 2B/2C R by SB 206553 does not merely potentiate a 5-HT 1B/1D R-mediated hyperactivity, but unmasks hyperactivity mediated through other 5-HT receptors and/or neurotransmitter systems. In an assessment of whether the 5-HT 2A R might underlie the potentiated hyperactivity induced by SB 206553 plus (ϩ)-MDMA, we found that the 5-HT 2A R antagonist M100907 did modestly attenuate peripheral, but not central and rearing, activity evoked by the combination of drugs. This suggests that the blockade of 5-HT 2C R unmasks effects mediated, at least in part, by the 5-HT 2A R. While (ϩ)-MDMA alone elicits a hyperactivity that is abolished by GR 127935, the combination of SB 206553 plus (ϩ)-MDMA yields a hyperactivity which is attenuated by a 5-HT 1B R plus a 5-HT 2A R antagonist, but is abolished by neither drug alone. However, the combination of the 5-HT 1B R plus a 5-HT 2A R antagonist did block peripheral, central, and rearing behavior elicited by SB 206553 plus (ϩ)-MDMA, but only to a level similar to that elicited by (ϩ)-MDMA alone. Thus, the hyperactivity elicited by SB 206553 plus (ϩ)-MDMA could be characterized as dependent upon the combined effects of 5-HT 1B/1D R and 5-HT 2A R activation and at least one other unknown hyperactivity-mediating factor that is unmasked by the antagonism of 5-HT 2C R. In order to ascertain the contributions of DA and 5-HT release to the observed effects of (ϩ)-MDMA, we compared the ability of SB 205663 to alter the activity profile of the DA releaser amphetamine (Hernandez et al. 1987 ) and 5-HT releaser fenfluramine, respectively (Trulson and Jacobs 1976; Viana et al. 1996) . Amphetamine (0.5 mg/kg) evoked a comparable level of hyperactivity to that seen with 3 mg/kg of (ϩ)-MDMA, and pretreatment with SB 206553 potentiated amphetamineevoked peripheral activity. This suggests that blockade of 5-HT 2C R, even at presumably lower (vs. (ϩ)-MDMA) levels of 5-HT 2C R activation, can potentiate the predominantly DAergic hyperactivity mediated by amphet-amine. In contrast to amphetamine and as predicted from previous reports (Aulakh et al. 1988; , fenfluramine (4 mg/kg) did not significantly affect spontaneous activity nor did SB 206553 plus fenfluramine induce hyperactivity (data not shown). However, the combination of amphetamine plus fenfluramine did result in enhanced peripheral activity, as compared with amphetamine alone (present results). SB 206553 pretreatment further potentiated hypermotility evoked by amphetamine plus fenfluramine, particularly in measures of rearing activity. These data suggest that activation of 5-HT 2C R exerts an inhibitory influence on both amphetamine-evoked activity and the activity elicited by the combination of elevated DA and 5-HT produced by amphetamine plus fenfluramine. The finding that a combination of SB 206553 plus fenfluramine did not result in the elicitation of hyperactivity suggests that the blockade of 5-HT 2C R is incapable of unmasking locomotor activation mediated by 5-HT release secondary to fenfluramine, but is capable of further potentiation of the activity evoked by amphetamine plus fenfluramine. The failure of the 5-HT 2B/2C R antagonist to unmask a \"solely 5-HT-mediated\" hyperactivity when combined with fenfluramine is interesting. Some of the behavioral effects of fenfluramine have been attributed to stimulation of the 5-HT 2C R (Kennett and Curzon 1988) , and the 5-HT 2C R agonist MCPP, which has a moderate affinity for the 5-HT 1B/1D R (Kennett and Curzon 1988) , exhibits a 5-HT 1B/1D R-dependent hyperactivity when administered in combination with a 5-HT 2 R antagonist (Gleason and Shannon 1998) or in mutant mice lacking the 5-HT 2C R (Heisler and Tecott 2000) . This suggests that 5-HT 2C R stimulation can mask 5-HT 1B/1D R-mediated hyperactivity. In the case of drugs that have a higher affinity for 5-HT 2C R than 5-HT 1B/1D R (as for MCPP; Barnes and Sharp 1999), the hyperactivity induced by the 5-HT 1B R can be counteracted by actions at the 5-HT 2C R. This explanation does not, however, resolve why indirect activation of 5-HT 1B/1D R following fenfluramine administration, even in the presence of SB 206553, did not result in hyperactivity. It appears that 5-HT-mediated hyperactivity may manifest only under very specific neurochemical circumstances. In summary, the 5-HT 2C R has a large inhibitory influence upon the hyperactivity induced by a low dose of (ϩ)-MDMA (3 mg/kg). Previous work from this laboratory has determined that blockade of 5-HT 1B/1D R abolishes the hyperactive response to a low dose of (ϩ)-MDMA , and superficially it seems that 5-HT 1B/1D R and 5-HT 2C R simply oppose each other. However, upon blockade of 5-HT 2C R with SB 206553, the hyperactivity that emerges upon (ϩ)-MDMA administration is only partially dependent on both 5-HT 1B/1D R and 5-HT 2A R. The inability of SB 206553 to produce hyperactivity when combined with the 5-HT releaser fenfluramine along with the SB 206553-induced potentiation of amphetamine in the presence or absence of fenfluramine suggests that blockade of the 5-HT 2C R results in an unmasking of dopaminergically-mediated hyperactivity.'}\n"
     ]
    },
    {
     "name": "stderr",
     "output_type": "stream",
     "text": [
      "\n"
     ]
    },
    {
     "ename": "KeyError",
     "evalue": "'manuscript_result_text'",
     "output_type": "error",
     "traceback": [
      "\u001b[0;31m---------------------------------------------------------------------------\u001b[0m",
      "\u001b[0;31mKeyError\u001b[0m                                  Traceback (most recent call last)",
      "\u001b[0;32m<ipython-input-66-66dcb1844b6b>\u001b[0m in \u001b[0;36m<module>\u001b[0;34m\u001b[0m\n\u001b[1;32m     30\u001b[0m         \u001b[0;31m# extract data from row\u001b[0m\u001b[0;34m\u001b[0m\u001b[0;34m\u001b[0m\u001b[0;34m\u001b[0m\u001b[0m\n\u001b[1;32m     31\u001b[0m         \u001b[0mcitation_sentence\u001b[0m \u001b[0;34m=\u001b[0m \u001b[0mrow\u001b[0m\u001b[0;34m[\u001b[0m\u001b[0;34m\"citation_sentence\"\u001b[0m\u001b[0;34m]\u001b[0m\u001b[0;34m\u001b[0m\u001b[0;34m\u001b[0m\u001b[0m\n\u001b[0;32m---> 32\u001b[0;31m         \u001b[0mmanuscript_result_text\u001b[0m \u001b[0;34m=\u001b[0m \u001b[0mrow\u001b[0m\u001b[0;34m[\u001b[0m\u001b[0;34m\"manuscript_result_text\"\u001b[0m\u001b[0;34m]\u001b[0m\u001b[0;34m\u001b[0m\u001b[0;34m\u001b[0m\u001b[0m\n\u001b[0m\u001b[1;32m     33\u001b[0m         \u001b[0mcited_text\u001b[0m \u001b[0;34m=\u001b[0m \u001b[0mrow\u001b[0m\u001b[0;34m[\u001b[0m\u001b[0;34m\"cited_text\"\u001b[0m\u001b[0;34m]\u001b[0m\u001b[0;34m\u001b[0m\u001b[0;34m\u001b[0m\u001b[0m\n\u001b[1;32m     34\u001b[0m \u001b[0;34m\u001b[0m\u001b[0m\n",
      "\u001b[0;31mKeyError\u001b[0m: 'manuscript_result_text'"
     ]
    }
   ],
   "source": [
    "import time\n",
    "\n",
    "from nltk.tokenize.punkt import PunktSentenceTokenizer, PunktParameters\n",
    "\n",
    "import sent2vec\n",
    "from sklearn.metrics.pairwise import cosine_similarity\n",
    "\n",
    "# initialise sentence tokenizer\n",
    "# tokenizer should not split at abbrieviations\n",
    "punkt_params = PunktParameters()\n",
    "punkt_params.abbrev_types = set([\"i.e\", \"e.g\", \"etc\", \"al\", \"fig\", \"figs\", \n",
    "                                 \"ref\", \"refs\", \"p\", \"c\", \"s\"]) \n",
    "tokenizer = PunktSentenceTokenizer(punkt_params)\n",
    "\n",
    "# initialise sentence embedding model \n",
    "model = sent2vec.Sent2vecModel()\n",
    "model.load_model(\"../sent2vec/wiki_unigrams.bin\")\n",
    "    \n",
    "\n",
    "time_taken = []\n",
    "all_topk_scores = []\n",
    "all_topk_cited_sentences = []\n",
    "all_rouge = {i:[] for i in range(5)}\n",
    "with open(\"../data/citation_generation/unique_dataset.jsonl\", \"r\") as f:\n",
    "    for line in tqdm(f):\n",
    "        start = time.time()\n",
    "        row = json.loads(line)\n",
    "        \n",
    "        # extract data from row\n",
    "        citation_sentence = row[\"citation_sentence\"]\n",
    "        manuscript_result_text = row[\"manuscript_result_text\"]\n",
    "        cited_text = row[\"cited_text\"]\n",
    "        \n",
    "        # tokenize manuscript_result_text, cited_text into sentences\n",
    "        query_sentences = tokenizer.tokenize(manuscript_result_text)\n",
    "        cited_sentences = tokenizer.tokenize(cited_text)\n",
    "        \n",
    "        # compute sentence embeddings\n",
    "        query_embeddings = model.embed_sentences(query_sentences)\n",
    "        cited_embeddings = model.embed_sentences(cited_sentences)\n",
    "        \n",
    "        # compute similarity matrix\n",
    "        similarity = cosine_similarity(query_embeddings, cited_embeddings)\n",
    "        \n",
    "        # get indices of highest similarity scores \n",
    "        indices = np.argpartition(similarity, kth=-k, axis=None)[-k:]\n",
    "\n",
    "        # get indices in decreasing order wrt scores and corresponding scores \n",
    "        indices = np.flip(indices[np.argsort(similarity.flatten()[indices])])\n",
    "        topk_scores = similarity.flatten()[indices]\n",
    "        all_topk_scores.append(topk_scores)\n",
    "        \n",
    "        # get corresponding cited_sentences \n",
    "        indices %= similarity.shape[1]\n",
    "        topk_cited_sentences = [cited_sentences[i] for i in indices]\n",
    "        all_topk_cited_sentences.append(topk_cited_sentences)\n",
    "\n",
    "        # record rouge scores\n",
    "        for i in range(1,5):\n",
    "            all_rouge[i].append(rouge_n(citation_sentence, \" \".join(topk_cited_sentences), n=i))\n",
    "        \n",
    "        # record time taken for this row\n",
    "        time_taken.append(time.time() - start)\n",
    "        break"
   ]
  },
  {
   "cell_type": "code",
   "execution_count": null,
   "metadata": {},
   "outputs": [],
   "source": []
  }
 ],
 "metadata": {
  "kernelspec": {
   "display_name": "Python 3",
   "language": "python",
   "name": "python3"
  },
  "language_info": {
   "codemirror_mode": {
    "name": "ipython",
    "version": 3
   },
   "file_extension": ".py",
   "mimetype": "text/x-python",
   "name": "python",
   "nbconvert_exporter": "python",
   "pygments_lexer": "ipython3",
   "version": "3.7.10"
  }
 },
 "nbformat": 4,
 "nbformat_minor": 4
}
