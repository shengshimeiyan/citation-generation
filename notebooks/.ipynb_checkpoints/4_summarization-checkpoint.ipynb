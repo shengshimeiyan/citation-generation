{
 "cells": [
  {
   "cell_type": "code",
   "execution_count": 1,
   "metadata": {},
   "outputs": [],
   "source": [
    "import json\n",
    "import random\n",
    "import tqdm\n",
    "from tqdm import tqdm\n",
    "\n",
    "import numpy as np\n",
    "import pandas as pd"
   ]
  },
  {
   "cell_type": "code",
   "execution_count": 2,
   "metadata": {
    "scrolled": true
   },
   "outputs": [
    {
     "name": "stderr",
     "output_type": "stream",
     "text": [
      "100it [00:00, 8532.47it/s]\n"
     ]
    },
    {
     "data": {
      "text/html": [
       "<div>\n",
       "<style scoped>\n",
       "    .dataframe tbody tr th:only-of-type {\n",
       "        vertical-align: middle;\n",
       "    }\n",
       "\n",
       "    .dataframe tbody tr th {\n",
       "        vertical-align: top;\n",
       "    }\n",
       "\n",
       "    .dataframe thead th {\n",
       "        text-align: right;\n",
       "    }\n",
       "</style>\n",
       "<table border=\"1\" class=\"dataframe\">\n",
       "  <thead>\n",
       "    <tr style=\"text-align: right;\">\n",
       "      <th></th>\n",
       "      <th>citation_sentence</th>\n",
       "      <th>manuscript_id</th>\n",
       "      <th>cited_id</th>\n",
       "      <th>manuscript_text</th>\n",
       "      <th>cited_text</th>\n",
       "    </tr>\n",
       "  </thead>\n",
       "  <tbody>\n",
       "    <tr>\n",
       "      <th>0</th>\n",
       "      <td>Such a discrepancy may likely be due to dose-o...</td>\n",
       "      <td>8281923</td>\n",
       "      <td>6704669</td>\n",
       "      <td>[, Two earlier studies have reported that male...</td>\n",
       "      <td>[{'section': '', 'text': '3,4-Methylenedioxyme...</td>\n",
       "    </tr>\n",
       "    <tr>\n",
       "      <th>1</th>\n",
       "      <td>Similar to earlier observations (42) , the inf...</td>\n",
       "      <td>11155963</td>\n",
       "      <td>4009171</td>\n",
       "      <td>[, Cell membrane scrambling, a hallmark of ery...</td>\n",
       "      <td>[{'section': '', 'text': 'Plasmodium falciparu...</td>\n",
       "    </tr>\n",
       "    <tr>\n",
       "      <th>2</th>\n",
       "      <td>In a cohort study in Korea (20) , the highest ...</td>\n",
       "      <td>11158470</td>\n",
       "      <td>15153392</td>\n",
       "      <td>[During 1,288,820 person-years of follow-up (a...</td>\n",
       "      <td>[{'section': '', 'text': 'Several previous stu...</td>\n",
       "    </tr>\n",
       "    <tr>\n",
       "      <th>3</th>\n",
       "      <td>This finding can be explained by the fact that...</td>\n",
       "      <td>11159272</td>\n",
       "      <td>14840523</td>\n",
       "      <td>[Static pressure profiles are shown in Fig. 3 ...</td>\n",
       "      <td>[{'section': '', 'text': 'A therosclerosis occ...</td>\n",
       "    </tr>\n",
       "    <tr>\n",
       "      <th>4</th>\n",
       "      <td>However, the result of CFD simulation in this ...</td>\n",
       "      <td>11159272</td>\n",
       "      <td>13786003</td>\n",
       "      <td>[Static pressure profiles are shown in Fig. 3 ...</td>\n",
       "      <td>[{'section': '', 'text': 'lesions therefore fa...</td>\n",
       "    </tr>\n",
       "  </tbody>\n",
       "</table>\n",
       "</div>"
      ],
      "text/plain": [
       "                                   citation_sentence manuscript_id  cited_id  \\\n",
       "0  Such a discrepancy may likely be due to dose-o...       8281923   6704669   \n",
       "1  Similar to earlier observations (42) , the inf...      11155963   4009171   \n",
       "2  In a cohort study in Korea (20) , the highest ...      11158470  15153392   \n",
       "3  This finding can be explained by the fact that...      11159272  14840523   \n",
       "4  However, the result of CFD simulation in this ...      11159272  13786003   \n",
       "\n",
       "                                     manuscript_text  \\\n",
       "0  [, Two earlier studies have reported that male...   \n",
       "1  [, Cell membrane scrambling, a hallmark of ery...   \n",
       "2  [During 1,288,820 person-years of follow-up (a...   \n",
       "3  [Static pressure profiles are shown in Fig. 3 ...   \n",
       "4  [Static pressure profiles are shown in Fig. 3 ...   \n",
       "\n",
       "                                          cited_text  \n",
       "0  [{'section': '', 'text': '3,4-Methylenedioxyme...  \n",
       "1  [{'section': '', 'text': 'Plasmodium falciparu...  \n",
       "2  [{'section': '', 'text': 'Several previous stu...  \n",
       "3  [{'section': '', 'text': 'A therosclerosis occ...  \n",
       "4  [{'section': '', 'text': 'lesions therefore fa...  "
      ]
     },
     "metadata": {},
     "output_type": "display_data"
    }
   ],
   "source": [
    "train = []\n",
    "with open(\"../data/citation_generation/train.jsonl\", \"r\") as f:\n",
    "    for i, line in tqdm(enumerate(f)):\n",
    "        row = json.loads(line)\n",
    "        train.append(row)\n",
    "        \n",
    "        if i == 100: break\n",
    "\n",
    "train = pd.DataFrame(train)\n",
    "display(train.head())"
   ]
  },
  {
   "cell_type": "code",
   "execution_count": 3,
   "metadata": {},
   "outputs": [
    {
     "name": "stdout",
     "output_type": "stream",
     "text": [
      "similar to earlier observations (42) , the infection of untreated mice with p. berghei took an invariably lethal course within ͻ20 days.\n"
     ]
    }
   ],
   "source": [
    "# sample\n",
    "x = 1\n",
    "sample = train.loc[x]\n",
    "citation_sentence = sample.citation_sentence.lower()\n",
    "cited_text = \" \".join(para[\"text\"] for para in sample.cited_text).lower()\n",
    "manuscript_text = \" \".join(sample.manuscript_text).lower()\n",
    "\n",
    "print(citation_sentence)"
   ]
  },
  {
   "cell_type": "markdown",
   "metadata": {},
   "source": [
    "## A. Retrieve sentence pairs with highest similarity scores \n",
    "\n",
    "- \"brute-force\" approach: \n",
    "    - for each sentence pair from (manuscript_sentences, cited_sentences), \n",
    "    - compute their cosine similarity \n",
    "    - return the sentence pairs that attain the highest similarity scores"
   ]
  },
  {
   "cell_type": "markdown",
   "metadata": {},
   "source": [
    "### A1. Tokenize input texts into sentences"
   ]
  },
  {
   "cell_type": "code",
   "execution_count": 4,
   "metadata": {},
   "outputs": [],
   "source": [
    "## IDEA: combine sentences that are very short/have weird ending punctuation marks with previous sentence?\n",
    "def combine_short_sentences_with_previous(sentences, min_length=5):\n",
    "    all_long = all(len(s.split()) > min_length for s in sentences[1:])\n",
    "    \n",
    "    while not all_long:\n",
    "        new_sentences = []\n",
    "        for j, s in enumerate(sentences): \n",
    "            if j == 0: \n",
    "                new_sentences.append(s)\n",
    "            elif s[-1] not in set([\".\", \"?\", \"!\"]) or len(s.split()) <= min_length:\n",
    "                new_sentences[-1] += s\n",
    "            else:\n",
    "                new_sentences.append(s)\n",
    "               \n",
    "        all_long = all(map(lambda s: len(s.split()) > min_length, new_sentences[1:]))\n",
    "        sentences = new_sentences\n",
    "    \n",
    "    return sentences"
   ]
  },
  {
   "cell_type": "code",
   "execution_count": 5,
   "metadata": {
    "scrolled": true
   },
   "outputs": [
    {
     "name": "stdout",
     "output_type": "stream",
     "text": [
      "73 158\n"
     ]
    }
   ],
   "source": [
    "from nltk.tokenize.punkt import PunktSentenceTokenizer, PunktParameters\n",
    "\n",
    "# tokenizer should not split at abbrieviations\n",
    "abbreviations = [\"i.e\", \"e.g\", \"etc\", \"al\", \"fig\", \"figs\", \"ref\", \"refs\"]\n",
    "abbreviations.extend([chr(x) for x in range(97,123)])\n",
    "punkt_params = PunktParameters()\n",
    "punkt_params.abbrev_types = set(abbreviations) \n",
    "\n",
    "# initialise sentence tokenizer\n",
    "tokenizer = PunktSentenceTokenizer(punkt_params)\n",
    "\n",
    "# tokenize manuscript_result_text, cited_text into sentences\n",
    "manuscript_sentences = combine_short_sentences_with_previous(tokenizer.tokenize(manuscript_text))\n",
    "cited_sentences = combine_short_sentences_with_previous(tokenizer.tokenize(cited_text))\n",
    "\n",
    "print(len(manuscript_sentences), len(cited_sentences))"
   ]
  },
  {
   "cell_type": "markdown",
   "metadata": {},
   "source": [
    "### A2. Compute sentence embeddings and similarity matrix"
   ]
  },
  {
   "cell_type": "code",
   "execution_count": 6,
   "metadata": {},
   "outputs": [],
   "source": [
    "import sent2vec\n",
    "\n",
    "model = sent2vec.Sent2vecModel()\n",
    "model.load_model(\"../sent2vec/wiki_unigrams.bin\")\n",
    "\n",
    "# compute sentence embeddings\n",
    "manuscript_embeddings = model.embed_sentences(manuscript_sentences)\n",
    "cited_embeddings = model.embed_sentences(cited_sentences)"
   ]
  },
  {
   "cell_type": "code",
   "execution_count": 7,
   "metadata": {},
   "outputs": [
    {
     "name": "stdout",
     "output_type": "stream",
     "text": [
      "(73, 158)\n"
     ]
    }
   ],
   "source": [
    "from sklearn.metrics.pairwise import cosine_similarity\n",
    "\n",
    "similarity = cosine_similarity(manuscript_embeddings, cited_embeddings)\n",
    "print(similarity.shape)"
   ]
  },
  {
   "cell_type": "markdown",
   "metadata": {},
   "source": [
    "### A3. Extract sentence pairs with highest similarity scores"
   ]
  },
  {
   "cell_type": "code",
   "execution_count": 8,
   "metadata": {},
   "outputs": [],
   "source": [
    "k = 5\n",
    "\n",
    "# get indices of sentences with highest similarity scores\n",
    "indices = np.argpartition(similarity, kth=-k, axis=None)[-k:]\n",
    "\n",
    "# sort indices by decreasing score and get the corresponding scores\n",
    "indices = np.flip(indices[np.argsort(similarity.flatten()[indices])])\n",
    "topk_similarity = similarity.flatten()[indices]\n",
    "\n",
    "# get corresponding topk_manuscript_sentences and topk_cited_sentences\n",
    "manuscript_indices = indices % similarity.shape[0]\n",
    "cited_indices = indices % similarity.shape[1]\n",
    "\n",
    "topk_manuscript_sentences = [manuscript_sentences[i] for i in manuscript_indices]\n",
    "topk_cited_sentences = [cited_sentences[i] for i in cited_indices]"
   ]
  },
  {
   "cell_type": "code",
   "execution_count": 9,
   "metadata": {
    "scrolled": true
   },
   "outputs": [
    {
     "name": "stdout",
     "output_type": "stream",
     "text": [
      "similar to earlier observations (42) , the infection of untreated mice with p. berghei took an invariably lethal course within ͻ20 days.\n",
      "\n",
      "0.7049637\n",
      "[m51]: additional experiments were performed to determine the effect of infection and dmf on human erythrocyte gsh content.\n",
      "[c53]: as illustrated in fig. 1b (middle and right) osmotic cell shrinkage inhibited and osmotic cell swelling activated a fraction of the whole cell inward current.\n",
      "\n",
      "0.66850543\n",
      "[m7]: this effect reached statistical significance at dmf concentrations of ն70 m. to possibly disclose dmf-induced hemolysis, dmf-and vehicle-treated cells were stained with fitc-labeled annexin v and then analyzed by fluorescence microscopy.\n",
      "[c82]: initial cell swelling in hypotonic sorbitol solution and hyperpolarization of the cation-selective cell membrane are expected to activate putative clc-2 channels.\n",
      "\n",
      "0.6524275\n",
      "[m16]: however, initial experiments revealed that dmf did not have any significant direct effect on intracellular erythrocyte ca 2ϩ activity during the first 6 h of incubation (data not shown).\n",
      "[c101]: the current phenotype of infected clcn2 ϫ/ϫ rbcs was identical to that of infected wild-type rbcs during cell shrinkage (compare fig. 4 , c with b, third traces or 5a, first traces) indicating similar expression of the infection-induced nonclc-2 anion conductances by both genotypes.\n",
      "\n",
      "0.6484911\n",
      "[m25]: as shown in fig. 3a , 140 m dmf did not significantly decrease the erythrocyte atp content after 48 h, indicating that energy depletion is not involved in dmf-induced erythrocyte death.\n",
      "[c27]: an osmotic gradient across the recorded membrane to induce cell swelling was generated by either decreasing bath osmolarity ( fig. 1 , a-e) or increasing pipette osmolarity (figs. 1, f-i; 4, 5).\n",
      "\n",
      "0.64419407\n",
      "[m6]: as illustrated in fig. 1c , dmf concentration dependently decreased the erythrocyte forward scatter after 24 and 48 h of incubation.\n",
      "[c81]: due to the high cation permeability of the cell membrane the rate of cell shrinkage depended only on anion channel activity.\n"
     ]
    }
   ],
   "source": [
    "print(citation_sentence)\n",
    "\n",
    "for i in range(k):\n",
    "    print()\n",
    "    print(topk_similarity[i])\n",
    "    print(f\"[m{manuscript_indices[i]}]: {topk_manuscript_sentences[i]}\")\n",
    "    print(f\"[c{cited_indices[i]}]: {topk_cited_sentences[i]}\")"
   ]
  },
  {
   "cell_type": "markdown",
   "metadata": {},
   "source": [
    "### A4. Evaluate extracted sentence pairs via ROUGE\n",
    "\n",
    "- concatenate topk_cited_sentences into a long string\n",
    "- compare it against the gold citation_sentence"
   ]
  },
  {
   "cell_type": "code",
   "execution_count": 10,
   "metadata": {},
   "outputs": [
    {
     "name": "stdout",
     "output_type": "stream",
     "text": [
      "rouge1: 0.33333\n",
      "rouge2: 0.05000\n",
      "rougeL: 0.28571\n"
     ]
    }
   ],
   "source": [
    "from rouge_score import rouge_scorer\n",
    "scorer = rouge_scorer.RougeScorer([\"rouge1\", \"rouge2\", \"rougeL\"], use_stemmer=True)\n",
    "scores = scorer.score(citation_sentence, \" \".join(topk_cited_sentences))\n",
    "\n",
    "for key, val in scores.items(): \n",
    "    print(f\"{key}: {val[1]:.5f}\")"
   ]
  },
  {
   "cell_type": "markdown",
   "metadata": {},
   "source": [
    "### A5. Extractively summarize the subset of train"
   ]
  },
  {
   "cell_type": "code",
   "execution_count": 11,
   "metadata": {},
   "outputs": [],
   "source": [
    "def get_topk_pairs(manuscript_text, cited_text, k=5): \n",
    "    manuscript_sentences = combine_short_sentences_with_previous(tokenizer.tokenize(manuscript_text))\n",
    "    cited_sentences = combine_short_sentences_with_previous(tokenizer.tokenize(cited_text))\n",
    "\n",
    "    manuscript_embeddings = model.embed_sentences(manuscript_sentences)\n",
    "    cited_embeddings = model.embed_sentences(cited_sentences)\n",
    "    similarity = cosine_similarity(manuscript_embeddings, cited_embeddings)\n",
    "    \n",
    "    indices = np.argpartition(similarity, kth=-k, axis=None)[-k:]\n",
    "    indices = np.flip(indices[np.argsort(similarity.flatten()[indices])])\n",
    "    topk_similarity = similarity.flatten()[indices]\n",
    "\n",
    "    manuscript_indices = indices % similarity.shape[0]\n",
    "    cited_indices = indices % similarity.shape[1]\n",
    "    \n",
    "    topk_manuscript_sentences = [manuscript_sentences[i] for i in manuscript_indices]\n",
    "    topk_cited_sentences = [cited_sentences[i] for i in cited_indices]\n",
    "    \n",
    "    return list(zip(topk_similarity, topk_manuscript_sentences, topk_cited_sentences))"
   ]
  },
  {
   "cell_type": "code",
   "execution_count": 12,
   "metadata": {},
   "outputs": [],
   "source": [
    "all_topk_pairs = []\n",
    "for _, row in train.iterrows():\n",
    "    topk_pairs = get_topk_pairs(\n",
    "        \" \".join(row.manuscript_text).lower(), \" \".join(para[\"text\"] for para in row.cited_text).lower()\n",
    "    )\n",
    "    all_topk_pairs.append(topk_pairs)"
   ]
  },
  {
   "cell_type": "code",
   "execution_count": 13,
   "metadata": {
    "scrolled": true
   },
   "outputs": [
    {
     "name": "stdout",
     "output_type": "stream",
     "text": [
      "0.7049637\n",
      "[m]: additional experiments were performed to determine the effect of infection and dmf on human erythrocyte gsh content.\n",
      "[c]: as illustrated in fig. 1b (middle and right) osmotic cell shrinkage inhibited and osmotic cell swelling activated a fraction of the whole cell inward current.\n",
      "\n",
      "0.66850543\n",
      "[m]: this effect reached statistical significance at dmf concentrations of ն70 m. to possibly disclose dmf-induced hemolysis, dmf-and vehicle-treated cells were stained with fitc-labeled annexin v and then analyzed by fluorescence microscopy.\n",
      "[c]: initial cell swelling in hypotonic sorbitol solution and hyperpolarization of the cation-selective cell membrane are expected to activate putative clc-2 channels.\n",
      "\n",
      "0.6524275\n",
      "[m]: however, initial experiments revealed that dmf did not have any significant direct effect on intracellular erythrocyte ca 2ϩ activity during the first 6 h of incubation (data not shown).\n",
      "[c]: the current phenotype of infected clcn2 ϫ/ϫ rbcs was identical to that of infected wild-type rbcs during cell shrinkage (compare fig. 4 , c with b, third traces or 5a, first traces) indicating similar expression of the infection-induced nonclc-2 anion conductances by both genotypes.\n",
      "\n",
      "0.6484911\n",
      "[m]: as shown in fig. 3a , 140 m dmf did not significantly decrease the erythrocyte atp content after 48 h, indicating that energy depletion is not involved in dmf-induced erythrocyte death.\n",
      "[c]: an osmotic gradient across the recorded membrane to induce cell swelling was generated by either decreasing bath osmolarity ( fig. 1 , a-e) or increasing pipette osmolarity (figs. 1, f-i; 4, 5).\n",
      "\n",
      "0.64419407\n",
      "[m]: as illustrated in fig. 1c , dmf concentration dependently decreased the erythrocyte forward scatter after 24 and 48 h of incubation.\n",
      "[c]: due to the high cation permeability of the cell membrane the rate of cell shrinkage depended only on anion channel activity.\n",
      "\n"
     ]
    }
   ],
   "source": [
    "for p in all_topk_pairs[x]:\n",
    "    print(p[0])\n",
    "    print(f\"[m]: {p[1]}\\n[c]: {p[2]}\\n\")"
   ]
  },
  {
   "cell_type": "code",
   "execution_count": 14,
   "metadata": {},
   "outputs": [
    {
     "data": {
      "text/html": [
       "<div>\n",
       "<style scoped>\n",
       "    .dataframe tbody tr th:only-of-type {\n",
       "        vertical-align: middle;\n",
       "    }\n",
       "\n",
       "    .dataframe tbody tr th {\n",
       "        vertical-align: top;\n",
       "    }\n",
       "\n",
       "    .dataframe thead th {\n",
       "        text-align: right;\n",
       "    }\n",
       "</style>\n",
       "<table border=\"1\" class=\"dataframe\">\n",
       "  <thead>\n",
       "    <tr style=\"text-align: right;\">\n",
       "      <th></th>\n",
       "      <th>citation_sentence</th>\n",
       "      <th>manuscript_id</th>\n",
       "      <th>cited_id</th>\n",
       "      <th>manuscript_text</th>\n",
       "      <th>cited_text</th>\n",
       "      <th>topk_pairs</th>\n",
       "    </tr>\n",
       "  </thead>\n",
       "  <tbody>\n",
       "    <tr>\n",
       "      <th>0</th>\n",
       "      <td>Such a discrepancy may likely be due to dose-o...</td>\n",
       "      <td>8281923</td>\n",
       "      <td>6704669</td>\n",
       "      <td>[, Two earlier studies have reported that male...</td>\n",
       "      <td>[{'section': '', 'text': '3,4-Methylenedioxyme...</td>\n",
       "      <td>[(0.6993469, therefore, we chose to use anothe...</td>\n",
       "    </tr>\n",
       "    <tr>\n",
       "      <th>1</th>\n",
       "      <td>Similar to earlier observations (42) , the inf...</td>\n",
       "      <td>11155963</td>\n",
       "      <td>4009171</td>\n",
       "      <td>[, Cell membrane scrambling, a hallmark of ery...</td>\n",
       "      <td>[{'section': '', 'text': 'Plasmodium falciparu...</td>\n",
       "      <td>[(0.7049637, additional experiments were perfo...</td>\n",
       "    </tr>\n",
       "    <tr>\n",
       "      <th>2</th>\n",
       "      <td>In a cohort study in Korea (20) , the highest ...</td>\n",
       "      <td>11158470</td>\n",
       "      <td>15153392</td>\n",
       "      <td>[During 1,288,820 person-years of follow-up (a...</td>\n",
       "      <td>[{'section': '', 'text': 'Several previous stu...</td>\n",
       "      <td>[(0.68072325, in contrast, no association was ...</td>\n",
       "    </tr>\n",
       "    <tr>\n",
       "      <th>3</th>\n",
       "      <td>This finding can be explained by the fact that...</td>\n",
       "      <td>11159272</td>\n",
       "      <td>14840523</td>\n",
       "      <td>[Static pressure profiles are shown in Fig. 3 ...</td>\n",
       "      <td>[{'section': '', 'text': 'A therosclerosis occ...</td>\n",
       "      <td>[(0.6843252, as the boundary condition, inlet ...</td>\n",
       "    </tr>\n",
       "    <tr>\n",
       "      <th>4</th>\n",
       "      <td>However, the result of CFD simulation in this ...</td>\n",
       "      <td>11159272</td>\n",
       "      <td>13786003</td>\n",
       "      <td>[Static pressure profiles are shown in Fig. 3 ...</td>\n",
       "      <td>[{'section': '', 'text': 'lesions therefore fa...</td>\n",
       "      <td>[(0.871341, in the distal mb, low velocity flo...</td>\n",
       "    </tr>\n",
       "  </tbody>\n",
       "</table>\n",
       "</div>"
      ],
      "text/plain": [
       "                                   citation_sentence manuscript_id  cited_id  \\\n",
       "0  Such a discrepancy may likely be due to dose-o...       8281923   6704669   \n",
       "1  Similar to earlier observations (42) , the inf...      11155963   4009171   \n",
       "2  In a cohort study in Korea (20) , the highest ...      11158470  15153392   \n",
       "3  This finding can be explained by the fact that...      11159272  14840523   \n",
       "4  However, the result of CFD simulation in this ...      11159272  13786003   \n",
       "\n",
       "                                     manuscript_text  \\\n",
       "0  [, Two earlier studies have reported that male...   \n",
       "1  [, Cell membrane scrambling, a hallmark of ery...   \n",
       "2  [During 1,288,820 person-years of follow-up (a...   \n",
       "3  [Static pressure profiles are shown in Fig. 3 ...   \n",
       "4  [Static pressure profiles are shown in Fig. 3 ...   \n",
       "\n",
       "                                          cited_text  \\\n",
       "0  [{'section': '', 'text': '3,4-Methylenedioxyme...   \n",
       "1  [{'section': '', 'text': 'Plasmodium falciparu...   \n",
       "2  [{'section': '', 'text': 'Several previous stu...   \n",
       "3  [{'section': '', 'text': 'A therosclerosis occ...   \n",
       "4  [{'section': '', 'text': 'lesions therefore fa...   \n",
       "\n",
       "                                          topk_pairs  \n",
       "0  [(0.6993469, therefore, we chose to use anothe...  \n",
       "1  [(0.7049637, additional experiments were perfo...  \n",
       "2  [(0.68072325, in contrast, no association was ...  \n",
       "3  [(0.6843252, as the boundary condition, inlet ...  \n",
       "4  [(0.871341, in the distal mb, low velocity flo...  "
      ]
     },
     "metadata": {},
     "output_type": "display_data"
    }
   ],
   "source": [
    "train[\"topk_pairs\"] = all_topk_pairs\n",
    "display(train.head())"
   ]
  },
  {
   "cell_type": "code",
   "execution_count": 42,
   "metadata": {},
   "outputs": [],
   "source": [
    "rouge = {\"rouge1\": [], \"rouge2\": [], \"rougeL\": []}\n",
    "for _, row in train.iterrows():\n",
    "    scores = scorer.score(row.citation_sentence, \n",
    "                          \" \".join([p[2] for p in row.topk_pairs]))\n",
    "    for k in scores: \n",
    "        rouge[k].append(scores[k][1]) # to extract only recall score\n",
    "        \n",
    "rouge = pd.DataFrame(rouge)"
   ]
  },
  {
   "cell_type": "code",
   "execution_count": 43,
   "metadata": {},
   "outputs": [
    {
     "data": {
      "text/plain": [
       "(array([ 1.,  2.,  3., 11., 12., 17., 17., 17.,  9., 10.]),\n",
       " array([0.  , 0.06, 0.12, 0.18, 0.24, 0.3 , 0.36, 0.42, 0.48, 0.54, 0.6 ]),\n",
       " <BarContainer object of 10 artists>)"
      ]
     },
     "execution_count": 43,
     "metadata": {},
     "output_type": "execute_result"
    },
    {
     "data": {
      "image/png": "[encoded data removed]",
      "text/plain": [
       "<Figure size 432x288 with 1 Axes>"
      ]
     },
     "metadata": {
      "needs_background": "light"
     },
     "output_type": "display_data"
    }
   ],
   "source": [
    "import matplotlib.pyplot as plt\n",
    "\n",
    "plt.hist(rouge.rouge1, range=(0,0.6))"
   ]
  },
  {
   "cell_type": "code",
   "execution_count": 44,
   "metadata": {},
   "outputs": [
    {
     "data": {
      "text/plain": [
       "(array([57., 25., 15.,  3.,  0.,  0.,  1.,  0.,  0.,  0.]),\n",
       " array([0.  , 0.06, 0.12, 0.18, 0.24, 0.3 , 0.36, 0.42, 0.48, 0.54, 0.6 ]),\n",
       " <BarContainer object of 10 artists>)"
      ]
     },
     "execution_count": 44,
     "metadata": {},
     "output_type": "execute_result"
    },
    {
     "data": {
      "image/png": "[encoded data removed]",
      "text/plain": [
       "<Figure size 432x288 with 1 Axes>"
      ]
     },
     "metadata": {
      "needs_background": "light"
     },
     "output_type": "display_data"
    }
   ],
   "source": [
    "plt.hist(rouge.rouge2, range=(0,0.6))"
   ]
  },
  {
   "cell_type": "code",
   "execution_count": 45,
   "metadata": {},
   "outputs": [
    {
     "data": {
      "text/plain": [
       "(array([ 1.,  6., 11., 23., 23., 25.,  9.,  2.,  1.,  0.]),\n",
       " array([0.  , 0.06, 0.12, 0.18, 0.24, 0.3 , 0.36, 0.42, 0.48, 0.54, 0.6 ]),\n",
       " <BarContainer object of 10 artists>)"
      ]
     },
     "execution_count": 45,
     "metadata": {},
     "output_type": "execute_result"
    },
    {
     "data": {
      "image/png": "[encoded data removed]",
      "text/plain": [
       "<Figure size 432x288 with 1 Axes>"
      ]
     },
     "metadata": {
      "needs_background": "light"
     },
     "output_type": "display_data"
    }
   ],
   "source": [
    "plt.hist(rouge.rougeL, range=(0,0.6))"
   ]
  },
  {
   "cell_type": "code",
   "execution_count": 48,
   "metadata": {
    "scrolled": true
   },
   "outputs": [
    {
     "name": "stdout",
     "output_type": "stream",
     "text": [
      "0.6470588235294118\n",
      "Various results were obtained from the studies conducted on the prevalence of bacteremia in patients with cancer.\n",
      "\n",
      "0.5358653\n",
      "[m]: the samples included blood (n=976), urine (n=2190), and wound (n=200) cultures.\n",
      "[c]: bacteraemia due to pseudomonas is twice more frequent in neutropenic patients than in non-neutropenic patients and more common in patients diagnosed as having acute leukaemia [27] .\n",
      "\n",
      "0.49428064\n",
      "[m]: in this study, a total of 3366 clinical samples were collected from the patients with acute leukemia hospitalized in hematology and oncology ward.\n",
      "[c]: two-thirds of the cases (n=16) corresponded to nosocomial infections, 31% to operation site infection (n=5), 31% were patients having pneumonia associated with ventilator (n=5) and 50% of the patients had bacteraemia (n=8); some patients presented nosocomial infection and bacteraemia.\n",
      "\n",
      "0.4771446\n",
      "[m]: a positive culture result was found in 760 (22.5%) of samples.\n",
      "[c]: the strains in lanes 2 and 3 came from the oncology room, but were taken during different months (october and november 2001) whilst the strain in lane 7 came from the oncology hospitalisation room and was taken during december 2001. samples of possible fomites for p. aeruginosa were taken in march 2002 without any positive result being obtained in the icu.\n",
      "\n",
      "0.4476328\n",
      "[m]: the samples included blood (n=976), urine (n=2190), and wound (n=200) cultures.\n",
      "[c]: infections can be stressed within this group, especially in neutropenic patients where they emerged as a challenge due to the high mortality with which they were associated, reaching rates of around 90% in patients suffering from persistent neutropenia [27] .\n",
      "\n",
      "0.4448018\n",
      "[m]: a positive culture result was found in 760 (22.5%) of samples.\n",
      "[c]: p. aeruginosa is the second gram-negative bacillus more commonly identified in our institution's icu (instituto nacional de cancerología, bogotá, colombia, devoted to caring for cancer in a developing country) and the third most commonly found in nosocomial infections in hospital wards [3] .\n",
      "\n"
     ]
    }
   ],
   "source": [
    "# peek at extraction with highest ROUGE-1 score\n",
    "x = rouge.rouge1.argmax()\n",
    "row = train.loc[x]\n",
    "\n",
    "print(rouge.rouge1[x])\n",
    "print(row.citation_sentence)\n",
    "print()\n",
    "\n",
    "for p in row.topk_pairs:\n",
    "    print(p[0])\n",
    "    print(f\"[m]: {p[1]}\\n[c]: {p[2]}\\n\")"
   ]
  },
  {
   "cell_type": "code",
   "execution_count": 49,
   "metadata": {
    "scrolled": true
   },
   "outputs": [
    {
     "name": "stdout",
     "output_type": "stream",
     "text": [
      "0.39285714285714285\n",
      "In a previous study, we did not Wnd an association between F-ara-ATP accumulation and gene expression in CD4 + and CD8 + T-lymphocytes isolated from HCT patients [15] .\n",
      "\n",
      "0.9473535\n",
      "[m]: f-ara-atp in nk cells compared to t-lymphocytes previously, we have reported the f-ara-atp accumulation and corresponding gene expression pattern in cd4 + and cd8 + t-lymphocytes isolated from healthy volunteers and hct recipients [15] .\n",
      "[c]: these replicates were within 71-100% of each other.\n",
      "\n",
      "0.8194585\n",
      "[m]: following incubation with 5 m xudarabine, the mean ( §sd) f-ara-atp accumulation was 6.00 § 3.67 pmol/ 1 £ 10 6 cells/4 h ( table 1) .\n",
      "[c]: median cell yields after t-lymphocyte isolation in healthy volunteers were 2.98 9 10 7 and 2.67 9 10 7 for cd4 + and cd8 + cells, respectively.\n",
      "\n",
      "0.7828798\n",
      "[m]: f-ara-atp in nk cells compared to t-lymphocytes previously, we have reported the f-ara-atp accumulation and corresponding gene expression pattern in cd4 + and cd8 + t-lymphocytes isolated from healthy volunteers and hct recipients [15] .\n",
      "[c]: in vitro, cd8 + t-lymphocytes appear to be more sensitive to fludarabine; short-term exposure of cd4 + and cd8 + tlymphocytes isolated from healthy volunteers led to a higher proportion of cd8 + cells undergoing apoptosis than cd4 + cells [13] .\n",
      "\n",
      "0.77718765\n",
      "[m]: the level of mrna expression of the key transporters and enzymes involved in xudarabine uptake and subsequent formation of f-ara-atp was measured relative to an endogenous control (gus) ( table 1) .\n",
      "[c]: we also observed a significant increase in hent1 expression in cd4 + cells isolated from hct patients compared to cd8 + cells, which is consistent with a previous report [13] .\n",
      "\n",
      "0.7690318\n",
      "[m]:  we were able to purify a suycient number nk cells to allow for quantitation of intracellular f-ara-atp accumulation in all six participants.\n",
      "[c]: median cell yields after t-lymphocyte isolation in hct patients were 3.78 9 10 6 and 2.(fig. 2) .\n",
      "\n"
     ]
    }
   ],
   "source": [
    "# peek at extraction with highest ROUGE-2 score\n",
    "x = rouge.rouge2.argmax()\n",
    "row = train.loc[x]\n",
    "\n",
    "print(rouge.rouge2[x])\n",
    "print(row.citation_sentence)\n",
    "print()\n",
    "\n",
    "for p in row.topk_pairs:\n",
    "    print(p[0])\n",
    "    print(f\"[m]: {p[1]}\\n[c]: {p[2]}\\n\")"
   ]
  },
  {
   "cell_type": "code",
   "execution_count": 55,
   "metadata": {
    "scrolled": true
   },
   "outputs": [
    {
     "name": "stdout",
     "output_type": "stream",
     "text": [
      "0.5294117647058824\n",
      "Various results were obtained from the studies conducted on the prevalence of bacteremia in patients with cancer.\n",
      "\n",
      "0.5358653\n",
      "[m]: the samples included blood (n=976), urine (n=2190), and wound (n=200) cultures.\n",
      "[c]: bacteraemia due to pseudomonas is twice more frequent in neutropenic patients than in non-neutropenic patients and more common in patients diagnosed as having acute leukaemia [27] .\n",
      "\n",
      "0.49428064\n",
      "[m]: in this study, a total of 3366 clinical samples were collected from the patients with acute leukemia hospitalized in hematology and oncology ward.\n",
      "[c]: two-thirds of the cases (n=16) corresponded to nosocomial infections, 31% to operation site infection (n=5), 31% were patients having pneumonia associated with ventilator (n=5) and 50% of the patients had bacteraemia (n=8); some patients presented nosocomial infection and bacteraemia.\n",
      "\n",
      "0.4771446\n",
      "[m]: a positive culture result was found in 760 (22.5%) of samples.\n",
      "[c]: the strains in lanes 2 and 3 came from the oncology room, but were taken during different months (october and november 2001) whilst the strain in lane 7 came from the oncology hospitalisation room and was taken during december 2001. samples of possible fomites for p. aeruginosa were taken in march 2002 without any positive result being obtained in the icu.\n",
      "\n",
      "0.4476328\n",
      "[m]: the samples included blood (n=976), urine (n=2190), and wound (n=200) cultures.\n",
      "[c]: infections can be stressed within this group, especially in neutropenic patients where they emerged as a challenge due to the high mortality with which they were associated, reaching rates of around 90% in patients suffering from persistent neutropenia [27] .\n",
      "\n",
      "0.4448018\n",
      "[m]: a positive culture result was found in 760 (22.5%) of samples.\n",
      "[c]: p. aeruginosa is the second gram-negative bacillus more commonly identified in our institution's icu (instituto nacional de cancerología, bogotá, colombia, devoted to caring for cancer in a developing country) and the third most commonly found in nosocomial infections in hospital wards [3] .\n",
      "\n"
     ]
    }
   ],
   "source": [
    "# peek at extraction with highest ROUGE-L score\n",
    "x = rouge.rougeL.argmax()\n",
    "row = train.loc[x]\n",
    "\n",
    "print(rouge.rougeL[x])\n",
    "print(row.citation_sentence)\n",
    "print()\n",
    "\n",
    "for p in row.topk_pairs:\n",
    "    print(p[0])\n",
    "    print(f\"[m]: {p[1]}\\n[c]: {p[2]}\\n\")"
   ]
  },
  {
   "cell_type": "code",
   "execution_count": null,
   "metadata": {},
   "outputs": [],
   "source": []
  }
 ],
 "metadata": {
  "kernelspec": {
   "display_name": "Python 3",
   "language": "python",
   "name": "python3"
  },
  "language_info": {
   "codemirror_mode": {
    "name": "ipython",
    "version": 3
   },
   "file_extension": ".py",
   "mimetype": "text/x-python",
   "name": "python",
   "nbconvert_exporter": "python",
   "pygments_lexer": "ipython3",
   "version": "3.7.10"
  }
 },
 "nbformat": 4,
 "nbformat_minor": 4
}
