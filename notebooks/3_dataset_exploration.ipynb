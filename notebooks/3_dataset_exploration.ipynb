{
 "cells": [
  {
   "cell_type": "code",
   "execution_count": 1,
   "id": "maritime-jonathan",
   "metadata": {},
   "outputs": [],
   "source": [
    "import json\n",
    "import tqdm\n",
    "from tqdm import tqdm\n",
    "\n",
    "from collections import Counter"
   ]
  },
  {
   "cell_type": "code",
   "execution_count": 3,
   "id": "hydraulic-trust",
   "metadata": {},
   "outputs": [
    {
     "name": "stderr",
     "output_type": "stream",
     "text": [
      "753454it [01:11, 10540.56it/s]\n"
     ]
    }
   ],
   "source": [
    "# get number of papers involved in this dataset\n",
    "n = 0\n",
    "manuscript_ids = Counter()\n",
    "cited_ids = Counter()\n",
    "with open(\"../data/citation_generation/dataset.jsonl\", \"r\") as f:\n",
    "    for line in tqdm(f):\n",
    "        row = json.loads(line)\n",
    "        manuscript_ids[row[\"manuscript_id\"]] += 1\n",
    "        cited_ids[row[\"cited_id\"]] += 1\n",
    "        n += 1"
   ]
  },
  {
   "cell_type": "code",
   "execution_count": 5,
   "id": "recognized-satisfaction",
   "metadata": {},
   "outputs": [
    {
     "name": "stdout",
     "output_type": "stream",
     "text": [
      "There are 506366 unique manuscript_ids\n",
      "i: number of manuscript_ids that appear i times\n"
     ]
    },
    {
     "data": {
      "text/plain": [
       "[(1, 346020),\n",
       " (2, 105721),\n",
       " (3, 34867),\n",
       " (4, 12338),\n",
       " (5, 4549),\n",
       " (6, 1704),\n",
       " (7, 668),\n",
       " (8, 282),\n",
       " (9, 119),\n",
       " (10, 58),\n",
       " (11, 22),\n",
       " (12, 9),\n",
       " (13, 5),\n",
       " (14, 1),\n",
       " (16, 1),\n",
       " (18, 1),\n",
       " (24, 1)]"
      ]
     },
     "execution_count": 5,
     "metadata": {},
     "output_type": "execute_result"
    }
   ],
   "source": [
    "print(f\"There are {len(manuscript_ids)} unique manuscript_ids\")\n",
    "print(\"i: number of manuscript_ids that appear i times\")\n",
    "sorted(Counter(manuscript_ids.values()).items())"
   ]
  },
  {
   "cell_type": "code",
   "execution_count": 4,
   "id": "angry-level",
   "metadata": {
    "scrolled": true
   },
   "outputs": [
    {
     "name": "stdout",
     "output_type": "stream",
     "text": [
      "There are 443159 unique cited_ids\n",
      "i: number of cited_ids that appear i times\n"
     ]
    },
    {
     "data": {
      "text/plain": [
       "[(1, 285437),\n",
       " (2, 88791),\n",
       " (3, 35125),\n",
       " (4, 15609),\n",
       " (5, 7687),\n",
       " (6, 4179),\n",
       " (7, 2328),\n",
       " (8, 1342),\n",
       " (9, 821),\n",
       " (10, 534),\n",
       " (11, 348),\n",
       " (12, 236),\n",
       " (13, 161),\n",
       " (14, 128),\n",
       " (15, 84),\n",
       " (16, 77),\n",
       " (17, 54),\n",
       " (18, 34),\n",
       " (19, 27),\n",
       " (20, 24),\n",
       " (21, 19),\n",
       " (22, 16),\n",
       " (23, 8),\n",
       " (24, 5),\n",
       " (25, 14),\n",
       " (26, 9),\n",
       " (27, 9),\n",
       " (28, 7),\n",
       " (29, 5),\n",
       " (30, 5),\n",
       " (31, 1),\n",
       " (32, 5),\n",
       " (33, 4),\n",
       " (34, 2),\n",
       " (35, 1),\n",
       " (36, 2),\n",
       " (37, 4),\n",
       " (38, 4),\n",
       " (39, 2),\n",
       " (41, 2),\n",
       " (42, 1),\n",
       " (45, 1),\n",
       " (46, 2),\n",
       " (47, 1),\n",
       " (50, 1),\n",
       " (52, 1),\n",
       " (55, 1),\n",
       " (80, 1)]"
      ]
     },
     "execution_count": 4,
     "metadata": {},
     "output_type": "execute_result"
    }
   ],
   "source": [
    "print(f\"There are {len(cited_ids)} unique cited_ids\")\n",
    "print(\"i: number of cited_ids that appear i times\")\n",
    "sorted(Counter(cited_ids.values()).items())"
   ]
  },
  {
   "cell_type": "code",
   "execution_count": 7,
   "id": "helpful-leadership",
   "metadata": {},
   "outputs": [
    {
     "name": "stdout",
     "output_type": "stream",
     "text": [
      "527417 113018 113019\n"
     ]
    }
   ],
   "source": [
    "# perform 80-20 train-test split\n",
    "from sklearn.model_selection import ShuffleSplit\n",
    "\n",
    "splitter = ShuffleSplit(n_splits=1, test_size=0.3)\n",
    "train_ind, not_train_ind = next(splitter.split(range(n)))\n",
    "train_ind = set(train_ind)\n",
    "\n",
    "splitter = ShuffleSplit(n_splits=1, test_size=0.5)\n",
    "valid_ind, test_ind = next(splitter.split(not_train_ind))\n",
    "valid_ind = set(valid_ind)\n",
    "test_ind = set(test_ind)\n",
    "\n",
    "print(len(train_ind), len(valid_ind), len(test_ind))"
   ]
  },
  {
   "cell_type": "code",
   "execution_count": 19,
   "id": "promising-forestry",
   "metadata": {},
   "outputs": [
    {
     "name": "stderr",
     "output_type": "stream",
     "text": [
      "753473it [01:23, 9022.76it/s] \n"
     ]
    }
   ],
   "source": [
    "with open(\"../data/citation_generation/dataset.jsonl\", \"r\") as f:\n",
    "    with open(\"../data/citation_generation/train.jsonl\", \"w\") as train_f:\n",
    "        with open(\"../data/citation_generation/test.jsonl\", \"w\") as test_f:\n",
    "            with open(\"../data/citation_generation/valid.jsonl\", \"w\") as valid_f:\n",
    "                for i, line in tqdm(enumerate(f)):\n",
    "                    if i in train_ind: \n",
    "                        train_f.write(line)\n",
    "                    elif i in valid_ind:\n",
    "                        valid_f.write(line)\n",
    "                    elif i in test_ind: \n",
    "                        test_f.write(line)"
   ]
  },
  {
   "cell_type": "code",
   "execution_count": null,
   "id": "tested-indian",
   "metadata": {},
   "outputs": [],
   "source": []
  }
 ],
 "metadata": {
  "kernelspec": {
   "display_name": "Python 3",
   "language": "python",
   "name": "python3"
  },
  "language_info": {
   "codemirror_mode": {
    "name": "ipython",
    "version": 3
   },
   "file_extension": ".py",
   "mimetype": "text/x-python",
   "name": "python",
   "nbconvert_exporter": "python",
   "pygments_lexer": "ipython3",
   "version": "3.7.10"
  }
 },
 "nbformat": 4,
 "nbformat_minor": 5
}
