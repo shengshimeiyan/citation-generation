{
 "cells": [
  {
   "cell_type": "code",
   "execution_count": null,
   "metadata": {},
   "outputs": [],
   "source": [
    "import json\n",
    "import os\n",
    "import tqdm\n",
    "\n",
    "from tqdm import tqdm"
   ]
  },
  {
   "cell_type": "code",
   "execution_count": 2,
   "metadata": {},
   "outputs": [
    {
     "data": {
      "text/plain": [
       "{'citation_sentence': 'Such a discrepancy may likely be due to dose-or species-specific differences since an acute administration of 3.3 mg/kg MDMA did not stimulate locomotion in mice (Scearce-Levie et al, 1999) , but did in rats ( Bankson and Cunningham, 2002) .',\n",
       " 'manuscript_id': '8281923',\n",
       " 'cited_id': '6704669'}"
      ]
     },
     "execution_count": 2,
     "metadata": {},
     "output_type": "execute_result"
    }
   ],
   "source": [
    "# load the result_comparison sentences with manuscript and cited paper ids\n",
    "result_comps = []\n",
    "with open(\"../data/citation_generation/result_comps.jsonl\", \"r\") as f:\n",
    "    for line in f:\n",
    "        p = json.loads(line.strip(\"\\n\"))\n",
    "        for k in set(p.keys()): \n",
    "            if k.endswith(\"prob\"): del p[k]\n",
    "        del p[\"intent\"]\n",
    "        result_comps.append(p)\n",
    "        \n",
    "result_comps[0]"
   ]
  },
  {
   "cell_type": "code",
   "execution_count": 3,
   "metadata": {},
   "outputs": [],
   "source": [
    "# get all involved paper ids\n",
    "manuscript_ids = {p[\"manuscript_id\"]: [] for p in result_comps}\n",
    "cited_ids = {p[\"cited_id\"]: [] for p in result_comps}\n",
    "\n",
    "for i, p in enumerate(result_comps):\n",
    "    manuscript_ids[p[\"manuscript_id\"]].append(i)\n",
    "    cited_ids[p[\"cited_id\"]].append(i)"
   ]
  },
  {
   "cell_type": "code",
   "execution_count": 4,
   "metadata": {},
   "outputs": [],
   "source": [
    "# function to extract result_text from manuscripts\n",
    "def get_result_text(body_text):\n",
    "    result_text = []\n",
    "\n",
    "    i = 0\n",
    "    is_result = 0\n",
    "    is_discuss = False \n",
    "    while i < len(body_text) and not is_discuss:\n",
    "        para = body_text[i]\n",
    "        i += 1\n",
    "        \n",
    "        section_name = para[\"section\"].lower()\n",
    "        is_result += int(\"result\" in section_name or \"find\" in section_name)\n",
    "        is_discuss = \"discuss\" in section_name or \"conclu\" in section_name\n",
    "\n",
    "        if is_result and not is_discuss: \n",
    "            result_text.append(para[\"text\"])\n",
    "\n",
    "    return result_text"
   ]
  },
  {
   "cell_type": "code",
   "execution_count": 5,
   "metadata": {
    "scrolled": true
   },
   "outputs": [
    {
     "name": "stderr",
     "output_type": "stream",
     "text": [
      "982974it [02:01, 8061.79it/s]\n"
     ]
    }
   ],
   "source": [
    "# for each paper in s2orc,\n",
    "# append its text to the result_comparison sentences that are involved with it\n",
    "with open(\"../data/s2orc/s2orc_result_subset.jsonl\", \"r\") as f:\n",
    "    for i, line in tqdm(enumerate(f)):\n",
    "        p = json.loads(line)\n",
    "        p_id = p[\"paper_id\"]\n",
    "        \n",
    "        if p_id in manuscript_ids: \n",
    "            result_text = get_result_text(p[\"body_text\"])\n",
    "            for row_id in manuscript_ids[p_id]:\n",
    "                result_comps[row_id][\"manuscript_text\"] = result_text\n",
    "                \n",
    "        if p_id in cited_ids: \n",
    "            cited_text = []\n",
    "            for para in p[\"body_text\"]:\n",
    "                cited_text.append({k: para[k] for k in (\"section\", \"text\")})\n",
    "                \n",
    "            for row_id in cited_ids[p_id]:\n",
    "                result_comps[row_id][\"cited_text\"] = cited_text"
   ]
  },
  {
   "cell_type": "code",
   "execution_count": 9,
   "metadata": {},
   "outputs": [
    {
     "name": "stderr",
     "output_type": "stream",
     "text": [
      "100%|██████████| 761495/761495 [02:04<00:00, 6117.48it/s]\n"
     ]
    },
    {
     "name": "stdout",
     "output_type": "stream",
     "text": [
      "Number of citation_sentences in dataset: 753473\n",
      "Number of citation_sentences that were invalid: 8022\n"
     ]
    }
   ],
   "source": [
    "n = 0\n",
    "n_invalid_rows = 0\n",
    "with open(\"../data/citation_generation/dataset.jsonl\", \"w\") as outfile:\n",
    "    for p in tqdm(result_comps):\n",
    "        manuscript_text = \" \".join(p[\"manuscript_text\"])\n",
    "        cited_text = \" \".join([para[\"text\"] for para in p[\"cited_text\"]])\n",
    "        if not (manuscript_text.strip() and cited_text.strip()):\n",
    "            n_invalid_rows += 1\n",
    "            continue\n",
    "        outfile.write(json.dumps(p) + \"\\n\")\n",
    "        n += 1\n",
    "        \n",
    "print(f\"Number of citation_sentences in dataset: {n}\")\n",
    "print(f\"Number of citation_sentences that were invalid: {n_invalid_rows}\")"
   ]
  },
  {
   "cell_type": "code",
   "execution_count": null,
   "metadata": {},
   "outputs": [],
   "source": []
  }
 ],
 "metadata": {
  "kernelspec": {
   "display_name": "Python 3",
   "language": "python",
   "name": "python3"
  },
  "language_info": {
   "codemirror_mode": {
    "name": "ipython",
    "version": 3
   },
   "file_extension": ".py",
   "mimetype": "text/x-python",
   "name": "python",
   "nbconvert_exporter": "python",
   "pygments_lexer": "ipython3",
   "version": "3.7.10"
  }
 },
 "nbformat": 4,
 "nbformat_minor": 4
}
